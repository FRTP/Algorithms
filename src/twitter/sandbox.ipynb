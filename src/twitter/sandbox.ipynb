{
 "cells": [
  {
   "cell_type": "code",
   "execution_count": 1,
   "metadata": {
    "collapsed": true
   },
   "outputs": [],
   "source": [
    "import nltk"
   ]
  },
  {
   "cell_type": "code",
   "execution_count": 2,
   "metadata": {
    "collapsed": true
   },
   "outputs": [],
   "source": [
    "text = \"Hello @lalaka #hake love not war. alaka https://google.com, moy mir!!! <3<USER>, 1000 people per $1B. \""
   ]
  },
  {
   "cell_type": "code",
   "execution_count": 3,
   "metadata": {
    "collapsed": false
   },
   "outputs": [
    {
     "name": "stdout",
     "output_type": "stream",
     "text": [
      "['Hello', '@lalaka', '#hake', 'love', 'not', 'war', '.', 'alaka', 'https://google.com', ',', 'moy', 'mir', '!', '!', '!', '<3', '<USER>', ',', '1000', 'people', 'per', '$', '1B', '.']\n"
     ]
    }
   ],
   "source": [
    "t = nltk.tokenize.TweetTokenizer()\n",
    "tokens = t.tokenize(text)\n",
    "print(tokens)"
   ]
  },
  {
   "cell_type": "code",
   "execution_count": 4,
   "metadata": {
    "collapsed": false
   },
   "outputs": [],
   "source": [
    "from preprocessing.replacer import Replacer\n",
    "\n",
    "r = Replacer()"
   ]
  },
  {
   "cell_type": "code",
   "execution_count": 5,
   "metadata": {
    "collapsed": false
   },
   "outputs": [
    {
     "name": "stdout",
     "output_type": "stream",
     "text": [
      "Hello @lalaka #hake love not war. alaka https://google.com, moy mir!!! <3<USER>, 1000 people per $1B. \n",
      "Hello @lalaka #hake love not war. alaka https://google.com, moy mir!!! <3< user <ALLCAPS> >, 1000 people per $1B. \n",
      "Hello @lalaka #hake love not war. alaka https://google.com, moy mir!!!  <HEART> < user <ALLCAPS> >, 1000 people per $1B. \n",
      "Hello @lalaka #hake love not war. alaka https://google.com, moy mir!!!  <HEART> < user <ALLCAPS> >, 1000 people per $1B. \n",
      "Hello @lalaka #hake love not war. alaka https://google.com, moy mir!!!  <HEART> < user <ALLCAPS> >, 1000 people per $1B. \n",
      "Hello @lalaka #hake love not war. alaka https://google.com, moy mir!!!  <HEART> < user <ALLCAPS> >, 1000 people per  <NUMBER> money . \n",
      "Hello @lalaka #hake love not war. alaka https://google.com, moy mir!!!  <HEART> < user <ALLCAPS> >,  <NUMBER>  people per  <NUMBER> money . \n",
      "Hello @lalaka #hake love not war. alaka  <URL>  moy mir!!!  <HEART> < user <ALLCAPS> >,  <NUMBER>  people per  <NUMBER> money . \n",
      "Hello @lalaka  <HASHTAG> hake love not war. alaka  <URL>  moy mir!!!  <HEART> < user <ALLCAPS> >,  <NUMBER>  people per  <NUMBER> money . \n",
      "Hello  <USER>   <HASHTAG> hake love not war. alaka  <URL>  moy mir!!!  <HEART> < user <ALLCAPS> >,  <NUMBER>  people per  <NUMBER> money . \n",
      "Hello  <USER>   <HASHTAG> hake love not war. alaka  <URL>  moy mir!!!  <HEART> < user <ALLCAPS> >,  <NUMBER>  people per  <NUMBER> money . \n"
     ]
    },
    {
     "data": {
      "text/plain": [
       "'Hello  <USER>   <HASHTAG> hake love not war. alaka  <URL>  moy mir ! <REPEAT>   <HEART> < user <ALLCAPS> >,  <NUMBER>  people per  <NUMBER> money . '"
      ]
     },
     "execution_count": 5,
     "metadata": {},
     "output_type": "execute_result"
    }
   ],
   "source": [
    "r.transform(text)"
   ]
  },
  {
   "cell_type": "code",
   "execution_count": 1,
   "metadata": {
    "collapsed": true
   },
   "outputs": [],
   "source": [
    "from gensim.models import Word2Vec"
   ]
  },
  {
   "cell_type": "code",
   "execution_count": 4,
   "metadata": {
    "collapsed": false
   },
   "outputs": [],
   "source": [
    "n_dim = 25\n",
    "filename = \"data/glove.twitter.27B/word2vec.twitter.27B.{}d.txt\".format(n_dim)\n",
    "wv = Word2Vec.load_word2vec_format(filename)"
   ]
  },
  {
   "cell_type": "code",
   "execution_count": null,
   "metadata": {
    "collapsed": true
   },
   "outputs": [],
   "source": []
  }
 ],
 "metadata": {
  "kernelspec": {
   "display_name": "Python 3",
   "language": "python",
   "name": "python3"
  },
  "language_info": {
   "codemirror_mode": {
    "name": "ipython",
    "version": 3
   },
   "file_extension": ".py",
   "mimetype": "text/x-python",
   "name": "python",
   "nbconvert_exporter": "python",
   "pygments_lexer": "ipython3",
   "version": "3.6.0"
  }
 },
 "nbformat": 4,
 "nbformat_minor": 0
}
