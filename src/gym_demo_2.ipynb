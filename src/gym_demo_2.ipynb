{
 "cells": [
  {
   "cell_type": "code",
   "execution_count": 1,
   "metadata": {
    "collapsed": false
   },
   "outputs": [],
   "source": [
    "%load_ext autoreload\n",
    "%autoreload 2"
   ]
  },
  {
   "cell_type": "code",
   "execution_count": 2,
   "metadata": {
    "collapsed": true
   },
   "outputs": [],
   "source": [
    "import sys, os\n",
    "sys.path.append(os.getcwd() + '/..')\n",
    "import src"
   ]
  },
  {
   "cell_type": "markdown",
   "metadata": {},
   "source": [
    "# Experiment setup\n",
    "* Here we basically just load the game and check that it works"
   ]
  },
  {
   "cell_type": "code",
   "execution_count": 3,
   "metadata": {
    "collapsed": false
   },
   "outputs": [
    {
     "name": "stdout",
     "output_type": "stream",
     "text": [
      "env: THEANO_FLAGS=\"floatX=float32\"\n"
     ]
    }
   ],
   "source": [
    "from __future__ import print_function \n",
    "import matplotlib.pyplot as plt\n",
    "import numpy as np\n",
    "import gym\n",
    "from tqdm import tqdm\n",
    "\n",
    "\n",
    "%matplotlib inline\n",
    "%env THEANO_FLAGS=\"floatX=float32\""
   ]
  },
  {
   "cell_type": "code",
   "execution_count": 4,
   "metadata": {
    "collapsed": true
   },
   "outputs": [],
   "source": [
    "GAME = \"FrontoPolarStocks-v0\"\n",
    "\n",
    "N_AGENTS = 1\n",
    "SEQ_LENGTH = 10"
   ]
  },
  {
   "cell_type": "code",
   "execution_count": 5,
   "metadata": {
    "collapsed": false
   },
   "outputs": [
    {
     "name": "stderr",
     "output_type": "stream",
     "text": [
      "[2017-05-21 21:30:23,663] Making new env: FrontoPolarStocks-v0\n"
     ]
    },
    {
     "name": "stdout",
     "output_type": "stream",
     "text": [
      "[ 452.500023   54.699997   37.830002   42.919998   23.190001   34.119999\n",
      "   24.23       51.93       24.200001   22.799999   26.200001   34.82\n",
      "    8.94       14.55    ]\n"
     ]
    }
   ],
   "source": [
    "env = gym.make(GAME)\n",
    "env.reset()\n",
    "\n",
    "action_shape = (env.action_space.num_discrete_space,)\n",
    "action_emb_shape = (*action_shape, 3)\n",
    "state_shape = env.observation_space.shape\n",
    "\n",
    "state, _, _, _ = env.step([0] * action_shape[0])\n",
    "\n",
    "action_names = np.array([\"sell\", \"pass\", \"buy\"]) #i guess so... i may be wrong\n",
    "\n",
    "print(state)"
   ]
  },
  {
   "cell_type": "markdown",
   "metadata": {},
   "source": [
    "# Basic agent setup\n",
    "Here we define a simple agent that maps game images into Qvalues using shallow neural network.\n"
   ]
  },
  {
   "cell_type": "code",
   "execution_count": 6,
   "metadata": {
    "collapsed": true
   },
   "outputs": [],
   "source": [
    "import theano\n",
    "from theano import tensor as T\n",
    "import lasagne\n",
    "\n",
    "theano.config.exception_verbosity = 'high'\n",
    "theano.config.optimizer = 'fast_compile'"
   ]
  },
  {
   "cell_type": "code",
   "execution_count": 7,
   "metadata": {
    "collapsed": false
   },
   "outputs": [],
   "source": [
    "from agent.agent import build_agent"
   ]
  },
  {
   "cell_type": "code",
   "execution_count": 8,
   "metadata": {
    "collapsed": false
   },
   "outputs": [],
   "source": [
    "agent, action_layer, V_layer = build_agent(action_emb_shape, state_shape)"
   ]
  },
  {
   "cell_type": "code",
   "execution_count": 9,
   "metadata": {
    "collapsed": false
   },
   "outputs": [
    {
     "data": {
      "text/plain": [
       "(None, 14)"
      ]
     },
     "execution_count": 9,
     "metadata": {},
     "output_type": "execute_result"
    }
   ],
   "source": [
    "agent.action_layers[0].output_shape"
   ]
  },
  {
   "cell_type": "code",
   "execution_count": 10,
   "metadata": {
    "collapsed": false
   },
   "outputs": [],
   "source": [
    "#Since it's a single lasagne network, one can get it's weights, output, etc\n",
    "weights = lasagne.layers.get_all_params((action_layer,V_layer),trainable=True)"
   ]
  },
  {
   "cell_type": "markdown",
   "metadata": {},
   "source": [
    "# Create and manage a pool of atari sessions to play with\n",
    "\n",
    "* To make training more stable, we shall have an entire batch of game sessions each happening independent of others\n",
    "* Why several parallel agents help training: http://arxiv.org/pdf/1602.01783v1.pdf\n",
    "* Alternative approach: store more sessions: https://www.cs.toronto.edu/~vmnih/docs/dqn.pdf"
   ]
  },
  {
   "cell_type": "code",
   "execution_count": 11,
   "metadata": {
    "collapsed": false,
    "scrolled": false
   },
   "outputs": [
    {
     "name": "stderr",
     "output_type": "stream",
     "text": [
      "[2017-05-21 21:30:25,826] Making new env: FrontoPolarStocks-v0\n"
     ]
    }
   ],
   "source": [
    "from agentnet.experiments.openai_gym.pool import EnvPool\n",
    "\n",
    "pool = EnvPool(agent, GAME, N_AGENTS, max_size=10000)"
   ]
  },
  {
   "cell_type": "code",
   "execution_count": 12,
   "metadata": {
    "collapsed": false,
    "scrolled": false
   },
   "outputs": [
    {
     "name": "stdout",
     "output_type": "stream",
     "text": [
      "[[['buy' 'buy' 'buy' 'buy' 'buy' 'buy' 'buy' 'buy' 'buy' 'buy' 'buy' 'buy'\n",
      "   'buy' 'buy']\n",
      "  ['buy' 'buy' 'buy' 'buy' 'buy' 'buy' 'buy' 'buy' 'buy' 'buy' 'buy' 'buy'\n",
      "   'buy' 'buy']\n",
      "  ['buy' 'buy' 'buy' 'buy' 'buy' 'buy' 'buy' 'buy' 'buy' 'buy' 'buy' 'buy'\n",
      "   'buy' 'buy']\n",
      "  ['buy' 'buy' 'buy' 'buy' 'buy' 'buy' 'buy' 'buy' 'buy' 'buy' 'buy' 'buy'\n",
      "   'buy' 'buy']\n",
      "  ['buy' 'buy' 'buy' 'buy' 'buy' 'buy' 'buy' 'buy' 'buy' 'buy' 'buy' 'buy'\n",
      "   'buy' 'buy']\n",
      "  ['buy' 'buy' 'buy' 'buy' 'buy' 'buy' 'buy' 'buy' 'buy' 'buy' 'buy' 'buy'\n",
      "   'buy' 'buy']\n",
      "  ['pass' 'buy' 'pass' 'pass' 'pass' 'pass' 'pass' 'buy' 'buy' 'pass' 'buy'\n",
      "   'pass' 'pass' 'buy']]]\n",
      "[[  3.36947898 -18.36905801 -28.06317896 -14.633176    61.47429002\n",
      "  -22.61297396   0.        ]]\n",
      "CPU times: user 4 ms, sys: 4 ms, total: 8 ms\n",
      "Wall time: 18.3 ms\n"
     ]
    }
   ],
   "source": [
    "%%time\n",
    "#interact for 7 ticks\n",
    "_,action_log,reward_log,_,_,_  = pool.interact(7)\n",
    "\n",
    "\n",
    "print(action_names[action_log])\n",
    "print(reward_log)"
   ]
  },
  {
   "cell_type": "code",
   "execution_count": 13,
   "metadata": {
    "collapsed": false
   },
   "outputs": [],
   "source": [
    "#load first sessions (this function calls interact and remembers sessions)\n",
    "pool.update(SEQ_LENGTH)"
   ]
  },
  {
   "cell_type": "markdown",
   "metadata": {},
   "source": [
    "# a2c loss\n",
    "\n",
    "Here we define obective function for actor-critic (one-step) RL.\n",
    "\n",
    "* We regularize policy with expected inverse action probabilities (discouraging very small probas) to make objective numerically stable\n"
   ]
  },
  {
   "cell_type": "code",
   "execution_count": 14,
   "metadata": {
    "collapsed": false
   },
   "outputs": [],
   "source": [
    "#get agent's Qvalues obtained via experience replay\n",
    "replay = pool.experience_replay.sample_session_batch(100, replace=True)\n",
    "\n",
    "_,_,_,_,(policy_seq,V_seq) = agent.get_sessions(\n",
    "    replay,\n",
    "    session_length=SEQ_LENGTH,\n",
    "    experience_replay=True,\n",
    ")"
   ]
  },
  {
   "cell_type": "code",
   "execution_count": 15,
   "metadata": {
    "collapsed": false
   },
   "outputs": [],
   "source": [
    "#get reference Qvalues according to Qlearning algorithm\n",
    "from agentnet.learning import a2c\n",
    "\n",
    "\n",
    "#Train via actor-critic (see here - https://www.youtube.com/watch?v=KHZVXao4qXs)\n",
    "\n",
    "### COMMENTED ASSERT ACTION.DIM==2 LINE IN THIS METHOD\n",
    "elwise_mse_loss = a2c.get_elementwise_objective(policy_seq,V_seq[:,:,0],\n",
    "                                                       replay.actions[0],\n",
    "                                                       replay.rewards,\n",
    "                                                       replay.is_alive,\n",
    "                                                       gamma_or_gammas=0.99)\n",
    "\n",
    "#compute mean over \"alive\" fragments\n",
    "loss = elwise_mse_loss.sum() / replay.is_alive.sum()"
   ]
  },
  {
   "cell_type": "code",
   "execution_count": 16,
   "metadata": {
    "collapsed": false
   },
   "outputs": [],
   "source": [
    "reg = T.mean((1./policy_seq).sum(axis=-1))\n",
    "loss += 0.001*reg"
   ]
  },
  {
   "cell_type": "code",
   "execution_count": 17,
   "metadata": {
    "collapsed": false
   },
   "outputs": [],
   "source": [
    "# Compute weight updates\n",
    "updates = lasagne.updates.rmsprop(loss, weights, learning_rate=0.001)"
   ]
  },
  {
   "cell_type": "code",
   "execution_count": 18,
   "metadata": {
    "collapsed": false
   },
   "outputs": [],
   "source": [
    "#compile train function\n",
    "\n",
    "train_step = theano.function([],loss,updates=updates)"
   ]
  },
  {
   "cell_type": "markdown",
   "metadata": {},
   "source": [
    "# Demo run"
   ]
  },
  {
   "cell_type": "code",
   "execution_count": 19,
   "metadata": {
    "collapsed": false
   },
   "outputs": [
    {
     "name": "stderr",
     "output_type": "stream",
     "text": [
      "[2017-05-21 21:30:29,364] Making new env: FrontoPolarStocks-v0\n",
      "[2017-05-21 21:30:29,595] Clearing 4 monitor files from previous run (because force=True was provided)\n",
      "[2017-05-21 21:30:29,599] Starting new video recorder writing to /home/manatee/Desktop/inn.prac/Algorithms/src/records/openaigym.video.0.786.video000000.mp4\n",
      "[2017-05-21 21:30:36,741] Finished writing results. You can upload them to the scoreboard via gym.upload('/home/manatee/Desktop/inn.prac/Algorithms/src/records')\n"
     ]
    },
    {
     "name": "stdout",
     "output_type": "stream",
     "text": [
      "Episode finished after 400 timesteps with reward=104771.62900974997\n"
     ]
    }
   ],
   "source": [
    "#for MountainCar-v0 evaluation session is cropped to 200 ticks\n",
    "untrained_reward = pool.evaluate(save_path=\"./records\",record_video=True)"
   ]
  },
  {
   "cell_type": "code",
   "execution_count": 20,
   "metadata": {
    "collapsed": false
   },
   "outputs": [
    {
     "data": {
      "text/html": [
       "\n",
       "<video width=\"640\" height=\"480\" controls>\n",
       "  <source src=\"records/openaigym.video.0.15895.video000000.mp4\" type=\"video/mp4\">\n",
       "</video>\n"
      ],
      "text/plain": [
       "<IPython.core.display.HTML object>"
      ]
     },
     "execution_count": 20,
     "metadata": {},
     "output_type": "execute_result"
    }
   ],
   "source": [
    "from IPython.display import HTML\n",
    "\n",
    "video_path=\"records/openaigym.video.0.15895.video000000.mp4\"\n",
    "\n",
    "HTML(\"\"\"\n",
    "<video width=\"640\" height=\"480\" controls>\n",
    "  <source src=\"{}\" type=\"video/mp4\">\n",
    "</video>\n",
    "\"\"\".format(video_path))"
   ]
  },
  {
   "cell_type": "markdown",
   "metadata": {},
   "source": [
    "# Vime"
   ]
  },
  {
   "cell_type": "code",
   "execution_count": 21,
   "metadata": {
    "collapsed": false
   },
   "outputs": [
    {
     "name": "stdout",
     "output_type": "stream",
     "text": [
      "(None, 14, 3)\n",
      "(None, 56)\n"
     ]
    }
   ],
   "source": [
    "from agent.bnn import BNN\n",
    "bnn = BNN(state_shape, action_shape, action_emb_shape, replay)"
   ]
  },
  {
   "cell_type": "markdown",
   "metadata": {},
   "source": [
    "# Training loop"
   ]
  },
  {
   "cell_type": "code",
   "execution_count": 22,
   "metadata": {
    "collapsed": true
   },
   "outputs": [],
   "source": [
    "#starting epoch\n",
    "epoch_counter = 1\n",
    "\n",
    "#full game rewards\n",
    "rewards = {epoch_counter: untrained_reward}"
   ]
  },
  {
   "cell_type": "code",
   "execution_count": 23,
   "metadata": {
    "collapsed": false,
    "scrolled": false
   },
   "outputs": [
    {
     "name": "stderr",
     "output_type": "stream",
     "text": [
      "  0%|          | 0/1000 [00:00<?, ?it/s]\n"
     ]
    },
    {
     "ename": "ValueError",
     "evalue": "Shape mismatch: x has 17 cols (and 10 rows) but y has 56 rows (and 50 cols)\nApply node that caused the error: Dot22(Join.0, Elemwise{add,no_inplace}.0)\nToposort index: 160\nInputs types: [TensorType(float32, matrix), TensorType(float32, matrix)]\nInputs shapes: [(10, 17), (56, 50)]\nInputs strides: [(68, 4), (200, 4)]\nInputs values: ['not shown', 'not shown']\nInputs type_num: [11, 11]\nOutputs clients: [[Elemwise{add,no_inplace}(Dot22.0, InplaceDimShuffle{x,0}.0)]]\n\nDebugprint of the apply node: \nDot22 [id A] <TensorType(float32, matrix)> ''   \n |Join [id B] <TensorType(float32, matrix)> ''   \n | |TensorConstant{1} [id C] <TensorType(int8, scalar)>\n | |Reshape{2} [id D] <TensorType(float32, matrix)> ''   \n | | |AdvancedSubtensor1 [id E] <TensorType(float32, matrix)> ''   \n | | | |Elemwise{add,no_inplace} [id F] <TensorType(float32, matrix)> ''   \n | | | | |bnn.mu_copy [id G] <TensorType(float32, matrix)>\n | | | | |Elemwise{mul,no_inplace} [id H] <TensorType(float32, matrix)> ''   \n | | | |   |Elemwise{log1p,no_inplace} [id I] <TensorType(float32, matrix)> ''   \n | | | |   | |Elemwise{exp,no_inplace} [id J] <TensorType(float32, matrix)> ''   \n | | | |   |   |bnn.rho_copy [id K] <TensorType(float32, matrix)>\n | | | |   |Elemwise{add,no_inplace} [id L] <TensorType(float32, matrix)> ''   \n | | | |     |TensorConstant{(1, 1) of 0.0} [id M] <TensorType(float32, (True, True))>\n | | | |     |Elemwise{mul,no_inplace} [id N] <TensorType(float32, matrix)> ''   \n | | | |       |TensorConstant{(1, 1) of 1.0} [id O] <TensorType(float32, (True, True))>\n | | | |       |Reshape{2} [id P] <TensorType(float32, matrix)> ''   \n | | | |         |Join [id Q] <TensorType(float32, vector)> ''   \n | | | |         | |TensorConstant{0} [id R] <TensorType(int8, scalar)>\n | | | |         | |Elemwise{mul,no_inplace} [id S] <TensorType(float32, vector)> ''   \n | | | |         | | |Elemwise{sqrt,no_inplace} [id T] <TensorType(float32, vector)> ''   \n | | | |         | | | |Elemwise{mul,no_inplace} [id U] <TensorType(float32, vector)> ''   \n | | | |         | | |   |TensorConstant{(1,) of -2.0} [id V] <TensorType(float32, (True,))>\n | | | |         | | |   |Elemwise{log,no_inplace} [id W] <TensorType(float32, vector)> ''   \n | | | |         | | |     |Subtensor{:int64:} [id X] <TensorType(float32, vector)> ''   \n | | | |         | | |       |Elemwise{add,no_inplace} [id Y] <TensorType(float32, vector)> ''   \n | | | |         | | |       | |Elemwise{mul,no_inplace} [id Z] <TensorType(float32, vector)> ''   \n | | | |         | | |       | | |mrg_uniform{TensorType(float32, vector),no_inplace}.1 [id BA] <TensorType(float32, vector)> ''   \n | | | |         | | |       | | | |<TensorType(int32, matrix)> [id BB] <TensorType(int32, matrix)>\n | | | |         | | |       | | | |TensorConstant{(1,) of 42} [id BC] <TensorType(int64, (True,))>\n | | | |         | | |       | | |TensorConstant{(1,) of 1.0} [id BD] <TensorType(float32, (True,))>\n | | | |         | | |       | |TensorConstant{(1,) of 0.0} [id BE] <TensorType(float32, (True,))>\n | | | |         | | |       |Constant{21} [id BF] <int64>\n | | | |         | | |Elemwise{cos,no_inplace} [id BG] <TensorType(float32, vector)> ''   \n | | | |         | |   |Elemwise{mul,no_inplace} [id BH] <TensorType(float32, vector)> ''   \n | | | |         | |     |TensorConstant{(1,) of 6.28319} [id BI] <TensorType(float32, (True,))>\n | | | |         | |     |Subtensor{int64::} [id BJ] <TensorType(float32, vector)> ''   \n | | | |         | |       |Elemwise{add,no_inplace} [id Y] <TensorType(float32, vector)> ''   \n | | | |         | |       |Constant{21} [id BF] <int64>\n | | | |         | |Elemwise{mul,no_inplace} [id BK] <TensorType(float32, vector)> ''   \n | | | |         |   |Elemwise{sqrt,no_inplace} [id T] <TensorType(float32, vector)> ''   \n | | | |         |   |Elemwise{sin,no_inplace} [id BL] <TensorType(float32, vector)> ''   \n | | | |         |     |Elemwise{mul,no_inplace} [id BH] <TensorType(float32, vector)> ''   \n | | | |         |TensorConstant{[14  3]} [id BM] <TensorType(int64, vector)>\n | | | |Reshape{1} [id BN] <TensorType(int32, vector)> ''   \n | | |   |Alloc [id BO] <TensorType(int32, row)> ''   \n | | |   | |InplaceDimShuffle{0,x} [id BP] <TensorType(int32, (True, True))> ''   \n | | |   | | |InplaceDimShuffle{x} [id BQ] <TensorType(int32, (True,))> ''   \n | | |   | |   |actions[t] [id BR] <TensorType(int32, scalar)>\n | | |   | |Subtensor{int64} [id BS] <TensorType(int64, scalar)> ''   \n | | |   | | |Shape [id BT] <TensorType(int64, vector)> ''   \n | | |   | | | |InplaceDimShuffle{x} [id BQ] <TensorType(int32, (True,))> ''   \n | | |   | | |Constant{0} [id BU] <int64>\n | | |   | |TensorConstant{10} [id BV] <TensorType(int8, scalar)>\n | | |   |MakeVector{dtype='int64'} [id BW] <TensorType(int64, vector)> ''   \n | | |     |Elemwise{mul,no_inplace} [id BX] <TensorType(int64, scalar)> ''   \n | | |       |Subtensor{int64} [id BS] <TensorType(int64, scalar)> ''   \n | | |       |TensorConstant{10} [id BV] <TensorType(int8, scalar)>\n | | |MakeVector{dtype='int64'} [id BY] <TensorType(int64, vector)> ''   \n | |   |Subtensor{int64} [id BZ] <TensorType(int64, scalar)> ''   \n | |   | |Subtensor{:int64:} [id CA] <TensorType(int64, vector)> ''   \n | |   | | |Shape [id CB] <TensorType(int64, vector)> ''   \n | |   | | | |AdvancedSubtensor1 [id E] <TensorType(float32, matrix)> ''   \n | |   | | |Constant{1} [id CC] <int64>\n | |   | |Constant{0} [id BU] <int64>\n | |   |TensorConstant{-1} [id CD] <TensorType(int64, scalar)>\n | |Reshape{2} [id CE] <TensorType(float32, matrix)> ''   \n |   |Alloc [id CF] <TensorType(float32, (True, False, False))> ''   \n |   | |InplaceDimShuffle{0,x,1} [id CG] <TensorType(float32, (True, True, False))> ''   \n |   | | |InplaceDimShuffle{x,0} [id CH] <TensorType(float32, row)> ''   \n |   | |   |previous states[t] [id CI] <TensorType(float32, vector)>\n |   | |Subtensor{int64} [id CJ] <TensorType(int64, scalar)> ''   \n |   | | |Shape [id CK] <TensorType(int64, vector)> ''   \n |   | | | |InplaceDimShuffle{x,0} [id CH] <TensorType(float32, row)> ''   \n |   | | |Constant{0} [id BU] <int64>\n |   | |TensorConstant{10} [id BV] <TensorType(int8, scalar)>\n |   | |Subtensor{int64} [id CL] <TensorType(int64, scalar)> ''   \n |   |   |Shape [id CK] <TensorType(int64, vector)> ''   \n |   |   |Constant{1} [id CC] <int64>\n |   |MakeVector{dtype='int64'} [id CM] <TensorType(int64, vector)> ''   \n |     |Elemwise{mul,no_inplace} [id CN] <TensorType(int64, scalar)> ''   \n |     | |Subtensor{int64} [id CJ] <TensorType(int64, scalar)> ''   \n |     | |TensorConstant{10} [id BV] <TensorType(int8, scalar)>\n |     |Subtensor{int64} [id CL] <TensorType(int64, scalar)> ''   \n |Elemwise{add,no_inplace} [id CO] <TensorType(float32, matrix)> ''   \n   |bnn.mu_copy [id CP] <TensorType(float32, matrix)>\n   |Elemwise{mul,no_inplace} [id CQ] <TensorType(float32, matrix)> ''   \n     |Elemwise{log1p,no_inplace} [id CR] <TensorType(float32, matrix)> ''   \n     | |Elemwise{exp,no_inplace} [id CS] <TensorType(float32, matrix)> ''   \n     |   |bnn.rho_copy [id CT] <TensorType(float32, matrix)>\n     |Elemwise{add,no_inplace} [id CU] <TensorType(float32, matrix)> ''   \n       |TensorConstant{(1, 1) of 0.0} [id M] <TensorType(float32, (True, True))>\n       |Elemwise{mul,no_inplace} [id CV] <TensorType(float32, matrix)> ''   \n         |TensorConstant{(1, 1) of 1.0} [id O] <TensorType(float32, (True, True))>\n         |Reshape{2} [id CW] <TensorType(float32, matrix)> ''   \n           |Join [id CX] <TensorType(float32, vector)> ''   \n           | |TensorConstant{0} [id R] <TensorType(int8, scalar)>\n           | |Elemwise{mul,no_inplace} [id CY] <TensorType(float32, vector)> ''   \n           | | |Elemwise{sqrt,no_inplace} [id CZ] <TensorType(float32, vector)> ''   \n           | | | |Elemwise{mul,no_inplace} [id DA] <TensorType(float32, vector)> ''   \n           | | |   |TensorConstant{(1,) of -2.0} [id V] <TensorType(float32, (True,))>\n           | | |   |Elemwise{log,no_inplace} [id DB] <TensorType(float32, vector)> ''   \n           | | |     |Subtensor{:int64:} [id DC] <TensorType(float32, vector)> ''   \n           | | |       |Elemwise{add,no_inplace} [id DD] <TensorType(float32, vector)> ''   \n           | | |       | |Elemwise{mul,no_inplace} [id DE] <TensorType(float32, vector)> ''   \n           | | |       | | |mrg_uniform{TensorType(float32, vector),no_inplace}.1 [id DF] <TensorType(float32, vector)> ''   \n           | | |       | | | |<TensorType(int32, matrix)> [id DG] <TensorType(int32, matrix)>\n           | | |       | | | |TensorConstant{(1,) of 2800} [id DH] <TensorType(int64, (True,))>\n           | | |       | | |TensorConstant{(1,) of 1.0} [id BD] <TensorType(float32, (True,))>\n           | | |       | |TensorConstant{(1,) of 0.0} [id BE] <TensorType(float32, (True,))>\n           | | |       |Constant{1400} [id DI] <int64>\n           | | |Elemwise{cos,no_inplace} [id DJ] <TensorType(float32, vector)> ''   \n           | |   |Elemwise{mul,no_inplace} [id DK] <TensorType(float32, vector)> ''   \n           | |     |TensorConstant{(1,) of 6.28319} [id BI] <TensorType(float32, (True,))>\n           | |     |Subtensor{int64::} [id DL] <TensorType(float32, vector)> ''   \n           | |       |Elemwise{add,no_inplace} [id DD] <TensorType(float32, vector)> ''   \n           | |       |Constant{1400} [id DI] <int64>\n           | |Elemwise{mul,no_inplace} [id DM] <TensorType(float32, vector)> ''   \n           |   |Elemwise{sqrt,no_inplace} [id CZ] <TensorType(float32, vector)> ''   \n           |   |Elemwise{sin,no_inplace} [id DN] <TensorType(float32, vector)> ''   \n           |     |Elemwise{mul,no_inplace} [id DK] <TensorType(float32, vector)> ''   \n           |TensorConstant{[56 50]} [id DO] <TensorType(int64, vector)>\n\nHINT: Re-running with most Theano optimization disabled could give you a back-trace of when this node was created. This can be done with by setting the Theano flag 'optimizer=fast_compile'. If that does not work, Theano optimizations can be disabled with 'optimizer=None'.\nHINT: Use the Theano flag 'exception_verbosity=high' for a debugprint and storage map footprint of this apply node.\nApply node that caused the error: for{cpu,scan_fn}(Elemwise{minimum,no_inplace}.0, Subtensor{:int64:}.0, Subtensor{:int64:}.0, Subtensor{:int64:}.0, IncSubtensor{Set;:int64:}.0, IncSubtensor{Set;:int64:}.0, IncSubtensor{Set;:int64:}.0, IncSubtensor{Set;:int64:}.0, IncSubtensor{Set;:int64:}.0, Elemwise{minimum,no_inplace}.0, bnn.rho, bnn.mu, bnn.mu, bnn.rho, bnn.mu, bnn.rho, bnn.mu, bnn.rho, bnn.mu, bnn.rho)\nToposort index: 65\nInputs types: [TensorType(int64, scalar), TensorType(float32, matrix), TensorType(int32, vector), TensorType(float32, matrix), TensorType(int32, 3D), TensorType(int32, 3D), TensorType(int32, 3D), TensorType(int32, 3D), TensorType(int32, 3D), TensorType(int64, scalar), TensorType(float32, matrix), TensorType(float32, matrix), TensorType(float32, matrix), TensorType(float32, matrix), TensorType(float32, vector), TensorType(float32, vector), TensorType(float32, matrix), TensorType(float32, matrix), TensorType(float32, vector), TensorType(float32, vector)]\nInputs shapes: [(), (9, 14), (9,), (9, 14), (10, 15360, 6), (10, 15360, 6), (10, 15360, 6), (10, 15360, 6), (10, 15360, 6), (), (14, 3), (14, 3), (56, 50), (56, 50), (50,), (50,), (50, 14), (50, 14), (14,), (14,)]\nInputs strides: [(), (56, 4), (4,), (56, 4), (368640, 24, 4), (368640, 24, 4), (368640, 24, 4), (368640, 24, 4), (368640, 24, 4), (), (12, 4), (12, 4), (200, 4), (200, 4), (4,), (4,), (56, 4), (56, 4), (4,), (4,)]\nInputs values: [array(9), 'not shown', 'not shown', 'not shown', 'not shown', 'not shown', 'not shown', 'not shown', 'not shown', array(9), 'not shown', 'not shown', 'not shown', 'not shown', 'not shown', 'not shown', 'not shown', 'not shown', 'not shown', 'not shown']\nInputs type_num: [7, 11, 5, 11, 5, 5, 5, 5, 5, 7, 11, 11, 11, 11, 11, 11, 11, 11, 11, 11]\nOutputs clients: [[Subtensor{int64::}(for{cpu,scan_fn}.0, Constant{1})], [Subtensor{int64::}(for{cpu,scan_fn}.1, Constant{1})], [Subtensor{int64::}(for{cpu,scan_fn}.2, Constant{1})], [Subtensor{int64::}(for{cpu,scan_fn}.3, Constant{1})], [Subtensor{int64::}(for{cpu,scan_fn}.4, Constant{1})], ['output']]\n\nBacktrace when the node is created(use Theano flag traceback.limit=N to make it longer):\n  File \"/home/manatee/anaconda3/lib/python3.6/site-packages/ipykernel/ipkernel.py\", line 196, in do_execute\n    res = shell.run_cell(code, store_history=store_history, silent=silent)\n  File \"/home/manatee/anaconda3/lib/python3.6/site-packages/ipykernel/zmqshell.py\", line 501, in run_cell\n    return super(ZMQInteractiveShell, self).run_cell(*args, **kwargs)\n  File \"/home/manatee/anaconda3/lib/python3.6/site-packages/IPython/core/interactiveshell.py\", line 2717, in run_cell\n    interactivity=interactivity, compiler=compiler, result=result)\n  File \"/home/manatee/anaconda3/lib/python3.6/site-packages/IPython/core/interactiveshell.py\", line 2821, in run_ast_nodes\n    if self.run_code(code, result):\n  File \"/home/manatee/anaconda3/lib/python3.6/site-packages/IPython/core/interactiveshell.py\", line 2881, in run_code\n    exec(code_obj, self.user_global_ns, self.user_ns)\n  File \"<ipython-input-21-3939ba4f6cbd>\", line 2, in <module>\n    bnn = BNN(state_shape, action_shape, action_emb_shape, replay)\n  File \"/home/manatee/Desktop/inn.prac/Algorithms/src/agent/bnn.py\", line 99, in __init__\n    n_samples=10)\n  File \"/home/manatee/Desktop/inn.prac/Algorithms/src/agent/curiosity.py\", line 92, in compile_vime_reward\n    sequences=[prev_states, actions, next_states])\n\nDebugprint of the apply node: \nfor{cpu,scan_fn}.0 [id A] <TensorType(int32, 3D)> ''   \n |Elemwise{minimum,no_inplace} [id B] <TensorType(int64, scalar)> ''   \n | |Elemwise{minimum,no_inplace} [id C] <TensorType(int64, scalar)> ''   \n | | |Subtensor{int64} [id D] <TensorType(int64, scalar)> ''   \n | | | |Shape [id E] <TensorType(int64, vector)> ''   \n | | | | |Subtensor{int64::} [id F] <TensorType(float32, matrix)> 'previous states[0:]'   \n | | | |Constant{0} [id G] <int64>\n | | |Subtensor{int64} [id H] <TensorType(int64, scalar)> ''   \n | |   |Shape [id I] <TensorType(int64, vector)> ''   \n | |   | |Subtensor{int64::} [id J] <TensorType(int32, vector)> 'actions[0:]'   \n | |   |Constant{0} [id G] <int64>\n | |Subtensor{int64} [id K] <TensorType(int64, scalar)> ''   \n |   |Shape [id L] <TensorType(int64, vector)> ''   \n |   | |Subtensor{int64::} [id M] <TensorType(float32, matrix)> 'next states[0:]'   \n |   |Constant{0} [id G] <int64>\n |Subtensor{:int64:} [id N] <TensorType(float32, matrix)> ''   \n | |Subtensor{int64::} [id F] <TensorType(float32, matrix)> 'previous states[0:]'   \n | |ScalarFromTensor [id O] <int64> ''   \n |   |Elemwise{minimum,no_inplace} [id B] <TensorType(int64, scalar)> ''   \n |Subtensor{:int64:} [id P] <TensorType(int32, vector)> ''   \n | |Subtensor{int64::} [id J] <TensorType(int32, vector)> 'actions[0:]'   \n | |ScalarFromTensor [id O] <int64> ''   \n |Subtensor{:int64:} [id Q] <TensorType(float32, matrix)> ''   \n | |Subtensor{int64::} [id M] <TensorType(float32, matrix)> 'next states[0:]'   \n | |ScalarFromTensor [id O] <int64> ''   \n |IncSubtensor{Set;:int64:} [id R] <TensorType(int32, 3D)> ''   \n | |AllocEmpty{dtype='int32'} [id S] <TensorType(int32, 3D)> ''   \n | | |Elemwise{add,no_inplace} [id T] <TensorType(int64, scalar)> ''   \n | | | |Elemwise{minimum,no_inplace} [id B] <TensorType(int64, scalar)> ''   \n | | | |Subtensor{int64} [id U] <TensorType(int64, scalar)> ''   \n | | |   |Shape [id V] <TensorType(int64, vector)> ''   \n | | |   | |Rebroadcast{0} [id W] <TensorType(int32, 3D)> ''   \n | | |   |   |InplaceDimShuffle{x,0,1} [id X] <TensorType(int32, (True, False, False))> ''   \n | | |   |     |<TensorType(int32, matrix)> [id Y] <TensorType(int32, matrix)>\n | | |   |Constant{0} [id G] <int64>\n | | |Subtensor{int64} [id Z] <TensorType(int64, scalar)> ''   \n | | | |Shape [id V] <TensorType(int64, vector)> ''   \n | | | |Constant{1} [id BA] <int64>\n | | |Subtensor{int64} [id BB] <TensorType(int64, scalar)> ''   \n | |   |Shape [id V] <TensorType(int64, vector)> ''   \n | |   |Constant{2} [id BC] <int64>\n | |Rebroadcast{0} [id W] <TensorType(int32, 3D)> ''   \n | |ScalarFromTensor [id BD] <int64> ''   \n |   |Subtensor{int64} [id U] <TensorType(int64, scalar)> ''   \n |IncSubtensor{Set;:int64:} [id BE] <TensorType(int32, 3D)> ''   \n | |AllocEmpty{dtype='int32'} [id BF] <TensorType(int32, 3D)> ''   \n | | |Elemwise{add,no_inplace} [id BG] <TensorType(int64, scalar)> ''   \n | | | |Elemwise{minimum,no_inplace} [id B] <TensorType(int64, scalar)> ''   \n | | | |Subtensor{int64} [id BH] <TensorType(int64, scalar)> ''   \n | | |   |Shape [id BI] <TensorType(int64, vector)> ''   \n | | |   | |Rebroadcast{0} [id BJ] <TensorType(int32, 3D)> ''   \n | | |   |   |InplaceDimShuffle{x,0,1} [id BK] <TensorType(int32, (True, False, False))> ''   \n | | |   |     |<TensorType(int32, matrix)> [id BL] <TensorType(int32, matrix)>\n | | |   |Constant{0} [id G] <int64>\n | | |Subtensor{int64} [id BM] <TensorType(int64, scalar)> ''   \n | | | |Shape [id BI] <TensorType(int64, vector)> ''   \n | | | |Constant{1} [id BA] <int64>\n | | |Subtensor{int64} [id BN] <TensorType(int64, scalar)> ''   \n | |   |Shape [id BI] <TensorType(int64, vector)> ''   \n | |   |Constant{2} [id BC] <int64>\n | |Rebroadcast{0} [id BJ] <TensorType(int32, 3D)> ''   \n | |ScalarFromTensor [id BO] <int64> ''   \n |   |Subtensor{int64} [id BH] <TensorType(int64, scalar)> ''   \n |IncSubtensor{Set;:int64:} [id BP] <TensorType(int32, 3D)> ''   \n | |AllocEmpty{dtype='int32'} [id BQ] <TensorType(int32, 3D)> ''   \n | | |Elemwise{add,no_inplace} [id BR] <TensorType(int64, scalar)> ''   \n | | | |Elemwise{minimum,no_inplace} [id B] <TensorType(int64, scalar)> ''   \n | | | |Subtensor{int64} [id BS] <TensorType(int64, scalar)> ''   \n | | |   |Shape [id BT] <TensorType(int64, vector)> ''   \n | | |   | |Rebroadcast{0} [id BU] <TensorType(int32, 3D)> ''   \n | | |   |   |InplaceDimShuffle{x,0,1} [id BV] <TensorType(int32, (True, False, False))> ''   \n | | |   |     |<TensorType(int32, matrix)> [id BW] <TensorType(int32, matrix)>\n | | |   |Constant{0} [id G] <int64>\n | | |Subtensor{int64} [id BX] <TensorType(int64, scalar)> ''   \n | | | |Shape [id BT] <TensorType(int64, vector)> ''   \n | | | |Constant{1} [id BA] <int64>\n | | |Subtensor{int64} [id BY] <TensorType(int64, scalar)> ''   \n | |   |Shape [id BT] <TensorType(int64, vector)> ''   \n | |   |Constant{2} [id BC] <int64>\n | |Rebroadcast{0} [id BU] <TensorType(int32, 3D)> ''   \n | |ScalarFromTensor [id BZ] <int64> ''   \n |   |Subtensor{int64} [id BS] <TensorType(int64, scalar)> ''   \n |IncSubtensor{Set;:int64:} [id CA] <TensorType(int32, 3D)> ''   \n | |AllocEmpty{dtype='int32'} [id CB] <TensorType(int32, 3D)> ''   \n | | |Elemwise{add,no_inplace} [id CC] <TensorType(int64, scalar)> ''   \n | | | |Elemwise{minimum,no_inplace} [id B] <TensorType(int64, scalar)> ''   \n | | | |Subtensor{int64} [id CD] <TensorType(int64, scalar)> ''   \n | | |   |Shape [id CE] <TensorType(int64, vector)> ''   \n | | |   | |Rebroadcast{0} [id CF] <TensorType(int32, 3D)> ''   \n | | |   |   |InplaceDimShuffle{x,0,1} [id CG] <TensorType(int32, (True, False, False))> ''   \n | | |   |     |<TensorType(int32, matrix)> [id CH] <TensorType(int32, matrix)>\n | | |   |Constant{0} [id G] <int64>\n | | |Subtensor{int64} [id CI] <TensorType(int64, scalar)> ''   \n | | | |Shape [id CE] <TensorType(int64, vector)> ''   \n | | | |Constant{1} [id BA] <int64>\n | | |Subtensor{int64} [id CJ] <TensorType(int64, scalar)> ''   \n | |   |Shape [id CE] <TensorType(int64, vector)> ''   \n | |   |Constant{2} [id BC] <int64>\n | |Rebroadcast{0} [id CF] <TensorType(int32, 3D)> ''   \n | |ScalarFromTensor [id CK] <int64> ''   \n |   |Subtensor{int64} [id CD] <TensorType(int64, scalar)> ''   \n |IncSubtensor{Set;:int64:} [id CL] <TensorType(int32, 3D)> ''   \n | |AllocEmpty{dtype='int32'} [id CM] <TensorType(int32, 3D)> ''   \n | | |Elemwise{add,no_inplace} [id CN] <TensorType(int64, scalar)> ''   \n | | | |Elemwise{minimum,no_inplace} [id B] <TensorType(int64, scalar)> ''   \n | | | |Subtensor{int64} [id CO] <TensorType(int64, scalar)> ''   \n | | |   |Shape [id CP] <TensorType(int64, vector)> ''   \n | | |   | |Rebroadcast{0} [id CQ] <TensorType(int32, 3D)> ''   \n | | |   |   |InplaceDimShuffle{x,0,1} [id CR] <TensorType(int32, (True, False, False))> ''   \n | | |   |     |<TensorType(int32, matrix)> [id CS] <TensorType(int32, matrix)>\n | | |   |Constant{0} [id G] <int64>\n | | |Subtensor{int64} [id CT] <TensorType(int64, scalar)> ''   \n | | | |Shape [id CP] <TensorType(int64, vector)> ''   \n | | | |Constant{1} [id BA] <int64>\n | | |Subtensor{int64} [id CU] <TensorType(int64, scalar)> ''   \n | |   |Shape [id CP] <TensorType(int64, vector)> ''   \n | |   |Constant{2} [id BC] <int64>\n | |Rebroadcast{0} [id CQ] <TensorType(int32, 3D)> ''   \n | |ScalarFromTensor [id CV] <int64> ''   \n |   |Subtensor{int64} [id CO] <TensorType(int64, scalar)> ''   \n |Elemwise{minimum,no_inplace} [id B] <TensorType(int64, scalar)> ''   \n |bnn.rho [id CW] <TensorType(float32, matrix)>\n |bnn.mu [id CX] <TensorType(float32, matrix)>\n |bnn.mu [id CY] <TensorType(float32, matrix)>\n |bnn.rho [id CZ] <TensorType(float32, matrix)>\n |bnn.mu [id DA] <TensorType(float32, vector)>\n |bnn.rho [id DB] <TensorType(float32, vector)>\n |bnn.mu [id DC] <TensorType(float32, matrix)>\n |bnn.rho [id DD] <TensorType(float32, matrix)>\n |bnn.mu [id DE] <TensorType(float32, vector)>\n |bnn.rho [id DF] <TensorType(float32, vector)>\nfor{cpu,scan_fn}.1 [id A] <TensorType(int32, 3D)> ''   \nfor{cpu,scan_fn}.2 [id A] <TensorType(int32, 3D)> ''   \nfor{cpu,scan_fn}.3 [id A] <TensorType(int32, 3D)> ''   \nfor{cpu,scan_fn}.4 [id A] <TensorType(int32, 3D)> ''   \nfor{cpu,scan_fn}.5 [id A] <TensorType(float64, vector)> ''   \n\nInner graphs of the scan ops:\n\nfor{cpu,scan_fn}.0 [id A] <TensorType(int32, 3D)> ''   \n >mrg_uniform{TensorType(float32, vector),no_inplace}.0 [id DG] <TensorType(int32, matrix)> ''   \n > |<TensorType(int32, matrix)> [id DH] <TensorType(int32, matrix)> -> [id R]\n > |TensorConstant{(1,) of 42} [id DI] <TensorType(int64, (True,))>\n >mrg_uniform{TensorType(float32, vector),no_inplace}.0 [id DJ] <TensorType(int32, matrix)> ''   \n > |<TensorType(int32, matrix)> [id DK] <TensorType(int32, matrix)> -> [id BE]\n > |TensorConstant{(1,) of 2800} [id DL] <TensorType(int64, (True,))>\n >mrg_uniform{TensorType(float32, vector),no_inplace}.0 [id DM] <TensorType(int32, matrix)> ''   \n > |<TensorType(int32, matrix)> [id DN] <TensorType(int32, matrix)> -> [id BP]\n > |TensorConstant{(1,) of 50} [id DO] <TensorType(int64, (True,))>\n >mrg_uniform{TensorType(float32, vector),no_inplace}.0 [id DP] <TensorType(int32, matrix)> ''   \n > |<TensorType(int32, matrix)> [id DQ] <TensorType(int32, matrix)> -> [id CA]\n > |TensorConstant{(1,) of 700} [id DR] <TensorType(int64, (True,))>\n >mrg_uniform{TensorType(float32, vector),no_inplace}.0 [id DS] <TensorType(int32, matrix)> ''   \n > |<TensorType(int32, matrix)> [id DT] <TensorType(int32, matrix)> -> [id CL]\n > |TensorConstant{(1,) of 14} [id DU] <TensorType(int64, (True,))>\n >Elemwise{sub,no_inplace} [id DV] <TensorType(float64, scalar)> ''   \n > |Elemwise{mul,no_inplace} [id DW] <TensorType(float32, scalar)> ''   \n > | |Elemwise{add,no_inplace} [id DX] <TensorType(float32, scalar)> ''   \n > | | |Elemwise{sub,no_inplace} [id DY] <TensorType(float32, scalar)> ''   \n > | | | |Elemwise{add,no_inplace} [id DZ] <TensorType(float32, scalar)> ''   \n > | | | | |Sum{acc_dtype=float64} [id EA] <TensorType(float32, scalar)> ''   \n > | | | | | |Elemwise{pow,no_inplace} [id EB] <TensorType(float32, vector)> ''   \n > | | | | |   |Elemwise{true_div,no_inplace} [id EC] <TensorType(float32, vector)> ''   \n > | | | | |   | |Elemwise{log1p,no_inplace} [id ED] <TensorType(float32, vector)> ''   \n > | | | | |   | | |Elemwise{exp,no_inplace} [id EE] <TensorType(float32, vector)> ''   \n > | | | | |   | |   |Join [id EF] <TensorType(float32, vector)> ''   \n > | | | | |   | |     |TensorConstant{0} [id EG] <TensorType(int8, scalar)>\n > | | | | |   | |     |Reshape{1} [id EH] <TensorType(float32, vector)> ''   \n > | | | | |   | |     | |Elemwise{sub,no_inplace} [id EI] <TensorType(float32, matrix)> 'new_rho'   \n > | | | | |   | |     | |TensorConstant{(1,) of -1} [id EJ] <TensorType(int64, (True,))>\n > | | | | |   | |     |Reshape{1} [id EK] <TensorType(float32, vector)> ''   \n > | | | | |   | |     | |Elemwise{sub,no_inplace} [id EL] <TensorType(float32, matrix)> 'new_rho'   \n > | | | | |   | |     | |TensorConstant{(1,) of -1} [id EJ] <TensorType(int64, (True,))>\n > | | | | |   | |     |Reshape{1} [id EM] <TensorType(float32, vector)> ''   \n > | | | | |   | |     | |Elemwise{sub,no_inplace} [id EN] <TensorType(float32, vector)> 'new_rho'   \n > | | | | |   | |     | |TensorConstant{(1,) of -1} [id EJ] <TensorType(int64, (True,))>\n > | | | | |   | |     |Reshape{1} [id EO] <TensorType(float32, vector)> ''   \n > | | | | |   | |     | |Elemwise{sub,no_inplace} [id EP] <TensorType(float32, matrix)> 'new_rho'   \n > | | | | |   | |     | |TensorConstant{(1,) of -1} [id EJ] <TensorType(int64, (True,))>\n > | | | | |   | |     |Reshape{1} [id EQ] <TensorType(float32, vector)> ''   \n > | | | | |   | |       |Elemwise{sub,no_inplace} [id ER] <TensorType(float32, vector)> 'new_rho'   \n > | | | | |   | |       |TensorConstant{(1,) of -1} [id EJ] <TensorType(int64, (True,))>\n > | | | | |   | |Elemwise{log1p,no_inplace} [id ES] <TensorType(float32, vector)> ''   \n > | | | | |   |   |Elemwise{exp,no_inplace} [id ET] <TensorType(float32, vector)> ''   \n > | | | | |   |     |Join [id EU] <TensorType(float32, vector)> ''   \n > | | | | |   |       |TensorConstant{0} [id EG] <TensorType(int8, scalar)>\n > | | | | |   |       |Reshape{1} [id EV] <TensorType(float32, vector)> ''   \n > | | | | |   |       | |bnn.rho_copy [id EW] <TensorType(float32, matrix)> -> [id CW]\n > | | | | |   |       | |TensorConstant{(1,) of -1} [id EJ] <TensorType(int64, (True,))>\n > | | | | |   |       |Reshape{1} [id EX] <TensorType(float32, vector)> ''   \n > | | | | |   |       | |bnn.rho_copy [id EY] <TensorType(float32, matrix)> -> [id CZ]\n > | | | | |   |       | |TensorConstant{(1,) of -1} [id EJ] <TensorType(int64, (True,))>\n > | | | | |   |       |Reshape{1} [id EZ] <TensorType(float32, vector)> ''   \n > | | | | |   |       | |bnn.rho_copy [id FA] <TensorType(float32, vector)> -> [id DB]\n > | | | | |   |       | |TensorConstant{(1,) of -1} [id EJ] <TensorType(int64, (True,))>\n > | | | | |   |       |Reshape{1} [id FB] <TensorType(float32, vector)> ''   \n > | | | | |   |       | |bnn.rho_copy [id FC] <TensorType(float32, matrix)> -> [id DD]\n > | | | | |   |       | |TensorConstant{(1,) of -1} [id EJ] <TensorType(int64, (True,))>\n > | | | | |   |       |Reshape{1} [id FD] <TensorType(float32, vector)> ''   \n > | | | | |   |         |bnn.rho_copy [id FE] <TensorType(float32, vector)> -> [id DF]\n > | | | | |   |         |TensorConstant{(1,) of -1} [id EJ] <TensorType(int64, (True,))>\n > | | | | |   |TensorConstant{(1,) of 2} [id FF] <TensorType(int8, (True,))>\n > | | | | |Elemwise{mul,no_inplace} [id FG] <TensorType(float32, scalar)> ''   \n > | | | |   |TensorConstant{2} [id FH] <TensorType(int8, scalar)>\n > | | | |   |Sum{acc_dtype=float64} [id FI] <TensorType(float32, scalar)> ''   \n > | | | |     |Elemwise{log,no_inplace} [id FJ] <TensorType(float32, vector)> ''   \n > | | | |       |Elemwise{log1p,no_inplace} [id ES] <TensorType(float32, vector)> ''   \n > | | | |Elemwise{mul,no_inplace} [id FK] <TensorType(float32, scalar)> ''   \n > | | |   |TensorConstant{2} [id FH] <TensorType(int8, scalar)>\n > | | |   |Sum{acc_dtype=float64} [id FL] <TensorType(float32, scalar)> ''   \n > | | |     |Elemwise{log,no_inplace} [id FM] <TensorType(float32, vector)> ''   \n > | | |       |Elemwise{log1p,no_inplace} [id ED] <TensorType(float32, vector)> ''   \n > | | |Sum{acc_dtype=float64} [id FN] <TensorType(float32, scalar)> ''   \n > | |   |Elemwise{pow,no_inplace} [id FO] <TensorType(float32, vector)> ''   \n > | |     |Elemwise{true_div,no_inplace} [id FP] <TensorType(float32, vector)> ''   \n > | |     | |Elemwise{sub,no_inplace} [id FQ] <TensorType(float32, vector)> ''   \n > | |     | | |Join [id FR] <TensorType(float32, vector)> ''   \n > | |     | | | |TensorConstant{0} [id EG] <TensorType(int8, scalar)>\n > | |     | | | |Reshape{1} [id FS] <TensorType(float32, vector)> ''   \n > | |     | | | | |Elemwise{sub,no_inplace} [id FT] <TensorType(float32, matrix)> 'new_mu'   \n > | |     | | | | |TensorConstant{(1,) of -1} [id EJ] <TensorType(int64, (True,))>\n > | |     | | | |Reshape{1} [id FU] <TensorType(float32, vector)> ''   \n > | |     | | | | |Elemwise{sub,no_inplace} [id FV] <TensorType(float32, matrix)> 'new_mu'   \n > | |     | | | | |TensorConstant{(1,) of -1} [id EJ] <TensorType(int64, (True,))>\n > | |     | | | |Reshape{1} [id FW] <TensorType(float32, vector)> ''   \n > | |     | | | | |Elemwise{sub,no_inplace} [id FX] <TensorType(float32, vector)> 'new_mu'   \n > | |     | | | | |TensorConstant{(1,) of -1} [id EJ] <TensorType(int64, (True,))>\n > | |     | | | |Reshape{1} [id FY] <TensorType(float32, vector)> ''   \n > | |     | | | | |Elemwise{sub,no_inplace} [id FZ] <TensorType(float32, matrix)> 'new_mu'   \n > | |     | | | | |TensorConstant{(1,) of -1} [id EJ] <TensorType(int64, (True,))>\n > | |     | | | |Reshape{1} [id GA] <TensorType(float32, vector)> ''   \n > | |     | | |   |Elemwise{sub,no_inplace} [id GB] <TensorType(float32, vector)> 'new_mu'   \n > | |     | | |   |TensorConstant{(1,) of -1} [id EJ] <TensorType(int64, (True,))>\n > | |     | | |Join [id GC] <TensorType(float32, vector)> ''   \n > | |     | |   |TensorConstant{0} [id EG] <TensorType(int8, scalar)>\n > | |     | |   |Reshape{1} [id GD] <TensorType(float32, vector)> ''   \n > | |     | |   | |bnn.mu_copy [id GE] <TensorType(float32, matrix)> -> [id CX]\n > | |     | |   | |TensorConstant{(1,) of -1} [id EJ] <TensorType(int64, (True,))>\n > | |     | |   |Reshape{1} [id GF] <TensorType(float32, vector)> ''   \n > | |     | |   | |bnn.mu_copy [id GG] <TensorType(float32, matrix)> -> [id CY]\n > | |     | |   | |TensorConstant{(1,) of -1} [id EJ] <TensorType(int64, (True,))>\n > | |     | |   |Reshape{1} [id GH] <TensorType(float32, vector)> ''   \n > | |     | |   | |bnn.mu_copy [id GI] <TensorType(float32, vector)> -> [id DA]\n > | |     | |   | |TensorConstant{(1,) of -1} [id EJ] <TensorType(int64, (True,))>\n > | |     | |   |Reshape{1} [id GJ] <TensorType(float32, vector)> ''   \n > | |     | |   | |bnn.mu_copy [id GK] <TensorType(float32, matrix)> -> [id DC]\n > | |     | |   | |TensorConstant{(1,) of -1} [id EJ] <TensorType(int64, (True,))>\n > | |     | |   |Reshape{1} [id GL] <TensorType(float32, vector)> ''   \n > | |     | |     |bnn.mu_copy [id GM] <TensorType(float32, vector)> -> [id DE]\n > | |     | |     |TensorConstant{(1,) of -1} [id EJ] <TensorType(int64, (True,))>\n > | |     | |Elemwise{log1p,no_inplace} [id ES] <TensorType(float32, vector)> ''   \n > | |     |TensorConstant{(1,) of 2} [id FF] <TensorType(int8, (True,))>\n > | |TensorConstant{0.5} [id GN] <TensorType(float32, scalar)>\n > |Elemwise{mul,no_inplace} [id GO] <TensorType(float64, scalar)> ''   \n >   |TensorConstant{0.5} [id GN] <TensorType(float32, scalar)>\n >   |Subtensor{int64} [id GP] <TensorType(int64, scalar)> ''   \n >     |Shape [id GQ] <TensorType(int64, vector)> ''   \n >     | |Elemwise{log1p,no_inplace} [id ED] <TensorType(float32, vector)> ''   \n >     |Constant{0} [id GR] <int64>\n\nfor{cpu,scan_fn}.1 [id A] <TensorType(int32, 3D)> ''   \n >mrg_uniform{TensorType(float32, vector),no_inplace}.0 [id DG] <TensorType(int32, matrix)> ''   \n >mrg_uniform{TensorType(float32, vector),no_inplace}.0 [id DJ] <TensorType(int32, matrix)> ''   \n >mrg_uniform{TensorType(float32, vector),no_inplace}.0 [id DM] <TensorType(int32, matrix)> ''   \n >mrg_uniform{TensorType(float32, vector),no_inplace}.0 [id DP] <TensorType(int32, matrix)> ''   \n >mrg_uniform{TensorType(float32, vector),no_inplace}.0 [id DS] <TensorType(int32, matrix)> ''   \n >Elemwise{sub,no_inplace} [id DV] <TensorType(float64, scalar)> ''   \n\nfor{cpu,scan_fn}.2 [id A] <TensorType(int32, 3D)> ''   \n >mrg_uniform{TensorType(float32, vector),no_inplace}.0 [id DG] <TensorType(int32, matrix)> ''   \n >mrg_uniform{TensorType(float32, vector),no_inplace}.0 [id DJ] <TensorType(int32, matrix)> ''   \n >mrg_uniform{TensorType(float32, vector),no_inplace}.0 [id DM] <TensorType(int32, matrix)> ''   \n >mrg_uniform{TensorType(float32, vector),no_inplace}.0 [id DP] <TensorType(int32, matrix)> ''   \n >mrg_uniform{TensorType(float32, vector),no_inplace}.0 [id DS] <TensorType(int32, matrix)> ''   \n >Elemwise{sub,no_inplace} [id DV] <TensorType(float64, scalar)> ''   \n\nfor{cpu,scan_fn}.3 [id A] <TensorType(int32, 3D)> ''   \n >mrg_uniform{TensorType(float32, vector),no_inplace}.0 [id DG] <TensorType(int32, matrix)> ''   \n >mrg_uniform{TensorType(float32, vector),no_inplace}.0 [id DJ] <TensorType(int32, matrix)> ''   \n >mrg_uniform{TensorType(float32, vector),no_inplace}.0 [id DM] <TensorType(int32, matrix)> ''   \n >mrg_uniform{TensorType(float32, vector),no_inplace}.0 [id DP] <TensorType(int32, matrix)> ''   \n >mrg_uniform{TensorType(float32, vector),no_inplace}.0 [id DS] <TensorType(int32, matrix)> ''   \n >Elemwise{sub,no_inplace} [id DV] <TensorType(float64, scalar)> ''   \n\nfor{cpu,scan_fn}.4 [id A] <TensorType(int32, 3D)> ''   \n >mrg_uniform{TensorType(float32, vector),no_inplace}.0 [id DG] <TensorType(int32, matrix)> ''   \n >mrg_uniform{TensorType(float32, vector),no_inplace}.0 [id DJ] <TensorType(int32, matrix)> ''   \n >mrg_uniform{TensorType(float32, vector),no_inplace}.0 [id DM] <TensorType(int32, matrix)> ''   \n >mrg_uniform{TensorType(float32, vector),no_inplace}.0 [id DP] <TensorType(int32, matrix)> ''   \n >mrg_uniform{TensorType(float32, vector),no_inplace}.0 [id DS] <TensorType(int32, matrix)> ''   \n >Elemwise{sub,no_inplace} [id DV] <TensorType(float64, scalar)> ''   \n\nfor{cpu,scan_fn}.5 [id A] <TensorType(float64, vector)> ''   \n >mrg_uniform{TensorType(float32, vector),no_inplace}.0 [id DG] <TensorType(int32, matrix)> ''   \n >mrg_uniform{TensorType(float32, vector),no_inplace}.0 [id DJ] <TensorType(int32, matrix)> ''   \n >mrg_uniform{TensorType(float32, vector),no_inplace}.0 [id DM] <TensorType(int32, matrix)> ''   \n >mrg_uniform{TensorType(float32, vector),no_inplace}.0 [id DP] <TensorType(int32, matrix)> ''   \n >mrg_uniform{TensorType(float32, vector),no_inplace}.0 [id DS] <TensorType(int32, matrix)> ''   \n >Elemwise{sub,no_inplace} [id DV] <TensorType(float64, scalar)> ''   \n\nStorage map footprint:\n - IncSubtensor{Set;:int64:}.0, Shape: (10, 15360, 6), ElemSize: 4 Byte(s), TotalSize: 3686400 Byte(s)\n - IncSubtensor{Set;:int64:}.0, Shape: (10, 15360, 6), ElemSize: 4 Byte(s), TotalSize: 3686400 Byte(s)\n - IncSubtensor{Set;:int64:}.0, Shape: (10, 15360, 6), ElemSize: 4 Byte(s), TotalSize: 3686400 Byte(s)\n - IncSubtensor{Set;:int64:}.0, Shape: (10, 15360, 6), ElemSize: 4 Byte(s), TotalSize: 3686400 Byte(s)\n - IncSubtensor{Set;:int64:}.0, Shape: (10, 15360, 6), ElemSize: 4 Byte(s), TotalSize: 3686400 Byte(s)\n - for{cpu,scan_fn}.0, Shape: (10, 15360, 6), ElemSize: 4 Byte(s), TotalSize: 3686400 Byte(s)\n - for{cpu,scan_fn}.1, Shape: (10, 15360, 6), ElemSize: 4 Byte(s), TotalSize: 3686400 Byte(s)\n - for{cpu,scan_fn}.2, Shape: (10, 15360, 6), ElemSize: 4 Byte(s), TotalSize: 3686400 Byte(s)\n - for{cpu,scan_fn}.3, Shape: (10, 15360, 6), ElemSize: 4 Byte(s), TotalSize: 3686400 Byte(s)\n - for{cpu,scan_fn}.4, Shape: (10, 15360, 6), ElemSize: 4 Byte(s), TotalSize: 3686400 Byte(s)\n - <TensorType(int32, matrix)>, Shared Input, Shape: (15360, 6), ElemSize: 4 Byte(s), TotalSize: 368640 Byte(s)\n - <TensorType(int32, matrix)>, Shared Input, Shape: (15360, 6), ElemSize: 4 Byte(s), TotalSize: 368640 Byte(s)\n - <TensorType(int32, matrix)>, Shared Input, Shape: (15360, 6), ElemSize: 4 Byte(s), TotalSize: 368640 Byte(s)\n - <TensorType(int32, matrix)>, Shared Input, Shape: (15360, 6), ElemSize: 4 Byte(s), TotalSize: 368640 Byte(s)\n - <TensorType(int32, matrix)>, Shared Input, Shape: (15360, 6), ElemSize: 4 Byte(s), TotalSize: 368640 Byte(s)\n - bnn.mu, Shared Input, Shape: (56, 50), ElemSize: 4 Byte(s), TotalSize: 11200 Byte(s)\n - bnn.rho, Shared Input, Shape: (56, 50), ElemSize: 4 Byte(s), TotalSize: 11200 Byte(s)\n - bnn.mu, Shared Input, Shape: (50, 14), ElemSize: 4 Byte(s), TotalSize: 2800 Byte(s)\n - bnn.rho, Shared Input, Shape: (50, 14), ElemSize: 4 Byte(s), TotalSize: 2800 Byte(s)\n - previous states, Input, Shape: (9, 14), ElemSize: 4 Byte(s), TotalSize: 504 Byte(s)\n - actions, Input, Shape: (126,), ElemSize: 4 Byte(s), TotalSize: 504 Byte(s)\n - next states, Input, Shape: (9, 14), ElemSize: 4 Byte(s), TotalSize: 504 Byte(s)\n - Subtensor{:int64:}.0, Shape: (9, 14), ElemSize: 4 Byte(s), TotalSize: 504 Byte(s)\n - Subtensor{:int64:}.0, Shape: (9, 14), ElemSize: 4 Byte(s), TotalSize: 504 Byte(s)\n - bnn.mu, Shared Input, Shape: (50,), ElemSize: 4 Byte(s), TotalSize: 200 Byte(s)\n - bnn.rho, Shared Input, Shape: (50,), ElemSize: 4 Byte(s), TotalSize: 200 Byte(s)\n - bnn.rho, Shared Input, Shape: (14, 3), ElemSize: 4 Byte(s), TotalSize: 168 Byte(s)\n - bnn.mu, Shared Input, Shape: (14, 3), ElemSize: 4 Byte(s), TotalSize: 168 Byte(s)\n - bnn.mu, Shared Input, Shape: (14,), ElemSize: 4 Byte(s), TotalSize: 56 Byte(s)\n - bnn.rho, Shared Input, Shape: (14,), ElemSize: 4 Byte(s), TotalSize: 56 Byte(s)\n - Subtensor{:int64:}.0, Shape: (9,), ElemSize: 4 Byte(s), TotalSize: 36 Byte(s)\n - Constant{0}, Shape: (), ElemSize: 8 Byte(s), TotalSize: 8.0 Byte(s)\n - Constant{2}, Shape: (), ElemSize: 8 Byte(s), TotalSize: 8.0 Byte(s)\n - Constant{1}, Shape: (), ElemSize: 8 Byte(s), TotalSize: 8.0 Byte(s)\n - Elemwise{minimum,no_inplace}.0, Shape: (), ElemSize: 8 Byte(s), TotalSize: 8.0 Byte(s)\n - Constant{-1}, Shape: (), ElemSize: 8 Byte(s), TotalSize: 8.0 Byte(s)\n TotalSize: 38738644.0 Byte(s) 0.036 GB\n TotalSize inputs: 1873592.0 Byte(s) 0.002 GB\n\n",
     "traceback": [
      "\u001b[0;31m---------------------------------------------------------------------------\u001b[0m",
      "\u001b[0;31mValueError\u001b[0m                                Traceback (most recent call last)",
      "\u001b[0;32mtheano/scan_module/scan_perform.pyx\u001b[0m in \u001b[0;36mtheano.scan_module.scan_perform.perform (/home/manatee/.theano/compiledir_Linux-4.4--generic-x86_64-with-debian-stretch-sid-x86_64-3.6.0-64/scan_perform/mod.cpp:4490)\u001b[0;34m()\u001b[0m\n",
      "\u001b[0;31mValueError\u001b[0m: Shape mismatch: x has 17 cols (and 10 rows) but y has 56 rows (and 50 cols)",
      "\nDuring handling of the above exception, another exception occurred:\n",
      "\u001b[0;31mValueError\u001b[0m                                Traceback (most recent call last)",
      "\u001b[0;32m/home/manatee/anaconda3/lib/python3.6/site-packages/theano/compile/function_module.py\u001b[0m in \u001b[0;36m__call__\u001b[0;34m(self, *args, **kwargs)\u001b[0m\n\u001b[1;32m    883\u001b[0m             \u001b[0moutputs\u001b[0m \u001b[0;34m=\u001b[0m\u001b[0;31m\\\u001b[0m\u001b[0;34m\u001b[0m\u001b[0m\n\u001b[0;32m--> 884\u001b[0;31m                 \u001b[0mself\u001b[0m\u001b[0;34m.\u001b[0m\u001b[0mfn\u001b[0m\u001b[0;34m(\u001b[0m\u001b[0;34m)\u001b[0m \u001b[0;32mif\u001b[0m \u001b[0moutput_subset\u001b[0m \u001b[0;32mis\u001b[0m \u001b[0;32mNone\u001b[0m \u001b[0;32melse\u001b[0m\u001b[0;31m\\\u001b[0m\u001b[0;34m\u001b[0m\u001b[0m\n\u001b[0m\u001b[1;32m    885\u001b[0m                 \u001b[0mself\u001b[0m\u001b[0;34m.\u001b[0m\u001b[0mfn\u001b[0m\u001b[0;34m(\u001b[0m\u001b[0moutput_subset\u001b[0m\u001b[0;34m=\u001b[0m\u001b[0moutput_subset\u001b[0m\u001b[0;34m)\u001b[0m\u001b[0;34m\u001b[0m\u001b[0m\n",
      "\u001b[0;32m/home/manatee/anaconda3/lib/python3.6/site-packages/theano/scan_module/scan_op.py\u001b[0m in \u001b[0;36mrval\u001b[0;34m(p, i, o, n, allow_gc)\u001b[0m\n\u001b[1;32m    988\u001b[0m                  allow_gc=allow_gc):\n\u001b[0;32m--> 989\u001b[0;31m             \u001b[0mr\u001b[0m \u001b[0;34m=\u001b[0m \u001b[0mp\u001b[0m\u001b[0;34m(\u001b[0m\u001b[0mn\u001b[0m\u001b[0;34m,\u001b[0m \u001b[0;34m[\u001b[0m\u001b[0mx\u001b[0m\u001b[0;34m[\u001b[0m\u001b[0;36m0\u001b[0m\u001b[0;34m]\u001b[0m \u001b[0;32mfor\u001b[0m \u001b[0mx\u001b[0m \u001b[0;32min\u001b[0m \u001b[0mi\u001b[0m\u001b[0;34m]\u001b[0m\u001b[0;34m,\u001b[0m \u001b[0mo\u001b[0m\u001b[0;34m)\u001b[0m\u001b[0;34m\u001b[0m\u001b[0m\n\u001b[0m\u001b[1;32m    990\u001b[0m             \u001b[0;32mfor\u001b[0m \u001b[0mo\u001b[0m \u001b[0;32min\u001b[0m \u001b[0mnode\u001b[0m\u001b[0;34m.\u001b[0m\u001b[0moutputs\u001b[0m\u001b[0;34m:\u001b[0m\u001b[0;34m\u001b[0m\u001b[0m\n",
      "\u001b[0;32m/home/manatee/anaconda3/lib/python3.6/site-packages/theano/scan_module/scan_op.py\u001b[0m in \u001b[0;36mp\u001b[0;34m(node, args, outs)\u001b[0m\n\u001b[1;32m    977\u001b[0m                                                 \u001b[0mouts\u001b[0m\u001b[0;34m,\u001b[0m\u001b[0;34m\u001b[0m\u001b[0m\n\u001b[0;32m--> 978\u001b[0;31m                                                 self, node)\n\u001b[0m\u001b[1;32m    979\u001b[0m         \u001b[0;32mexcept\u001b[0m \u001b[0;34m(\u001b[0m\u001b[0mImportError\u001b[0m\u001b[0;34m,\u001b[0m \u001b[0mtheano\u001b[0m\u001b[0;34m.\u001b[0m\u001b[0mgof\u001b[0m\u001b[0;34m.\u001b[0m\u001b[0mcmodule\u001b[0m\u001b[0;34m.\u001b[0m\u001b[0mMissingGXX\u001b[0m\u001b[0;34m)\u001b[0m\u001b[0;34m:\u001b[0m\u001b[0;34m\u001b[0m\u001b[0m\n",
      "\u001b[0;32mtheano/scan_module/scan_perform.pyx\u001b[0m in \u001b[0;36mtheano.scan_module.scan_perform.perform (/home/manatee/.theano/compiledir_Linux-4.4--generic-x86_64-with-debian-stretch-sid-x86_64-3.6.0-64/scan_perform/mod.cpp:4606)\u001b[0;34m()\u001b[0m\n",
      "\u001b[0;32m/home/manatee/anaconda3/lib/python3.6/site-packages/theano/gof/link.py\u001b[0m in \u001b[0;36mraise_with_op\u001b[0;34m(node, thunk, exc_info, storage_map)\u001b[0m\n\u001b[1;32m    324\u001b[0m         \u001b[0;32mpass\u001b[0m\u001b[0;34m\u001b[0m\u001b[0m\n\u001b[0;32m--> 325\u001b[0;31m     \u001b[0mreraise\u001b[0m\u001b[0;34m(\u001b[0m\u001b[0mexc_type\u001b[0m\u001b[0;34m,\u001b[0m \u001b[0mexc_value\u001b[0m\u001b[0;34m,\u001b[0m \u001b[0mexc_trace\u001b[0m\u001b[0;34m)\u001b[0m\u001b[0;34m\u001b[0m\u001b[0m\n\u001b[0m\u001b[1;32m    326\u001b[0m \u001b[0;34m\u001b[0m\u001b[0m\n",
      "\u001b[0;32m/home/manatee/anaconda3/lib/python3.6/site-packages/six.py\u001b[0m in \u001b[0;36mreraise\u001b[0;34m(tp, value, tb)\u001b[0m\n\u001b[1;32m    684\u001b[0m         \u001b[0;32mif\u001b[0m \u001b[0mvalue\u001b[0m\u001b[0;34m.\u001b[0m\u001b[0m__traceback__\u001b[0m \u001b[0;32mis\u001b[0m \u001b[0;32mnot\u001b[0m \u001b[0mtb\u001b[0m\u001b[0;34m:\u001b[0m\u001b[0;34m\u001b[0m\u001b[0m\n\u001b[0;32m--> 685\u001b[0;31m             \u001b[0;32mraise\u001b[0m \u001b[0mvalue\u001b[0m\u001b[0;34m.\u001b[0m\u001b[0mwith_traceback\u001b[0m\u001b[0;34m(\u001b[0m\u001b[0mtb\u001b[0m\u001b[0;34m)\u001b[0m\u001b[0;34m\u001b[0m\u001b[0m\n\u001b[0m\u001b[1;32m    686\u001b[0m         \u001b[0;32mraise\u001b[0m \u001b[0mvalue\u001b[0m\u001b[0;34m\u001b[0m\u001b[0m\n",
      "\u001b[0;32mtheano/scan_module/scan_perform.pyx\u001b[0m in \u001b[0;36mtheano.scan_module.scan_perform.perform (/home/manatee/.theano/compiledir_Linux-4.4--generic-x86_64-with-debian-stretch-sid-x86_64-3.6.0-64/scan_perform/mod.cpp:4490)\u001b[0;34m()\u001b[0m\n",
      "\u001b[0;31mValueError\u001b[0m: Shape mismatch: x has 17 cols (and 10 rows) but y has 56 rows (and 50 cols)\nApply node that caused the error: Dot22(Join.0, Elemwise{add,no_inplace}.0)\nToposort index: 160\nInputs types: [TensorType(float32, matrix), TensorType(float32, matrix)]\nInputs shapes: [(10, 17), (56, 50)]\nInputs strides: [(68, 4), (200, 4)]\nInputs values: ['not shown', 'not shown']\nInputs type_num: [11, 11]\nOutputs clients: [[Elemwise{add,no_inplace}(Dot22.0, InplaceDimShuffle{x,0}.0)]]\n\nDebugprint of the apply node: \nDot22 [id A] <TensorType(float32, matrix)> ''   \n |Join [id B] <TensorType(float32, matrix)> ''   \n | |TensorConstant{1} [id C] <TensorType(int8, scalar)>\n | |Reshape{2} [id D] <TensorType(float32, matrix)> ''   \n | | |AdvancedSubtensor1 [id E] <TensorType(float32, matrix)> ''   \n | | | |Elemwise{add,no_inplace} [id F] <TensorType(float32, matrix)> ''   \n | | | | |bnn.mu_copy [id G] <TensorType(float32, matrix)>\n | | | | |Elemwise{mul,no_inplace} [id H] <TensorType(float32, matrix)> ''   \n | | | |   |Elemwise{log1p,no_inplace} [id I] <TensorType(float32, matrix)> ''   \n | | | |   | |Elemwise{exp,no_inplace} [id J] <TensorType(float32, matrix)> ''   \n | | | |   |   |bnn.rho_copy [id K] <TensorType(float32, matrix)>\n | | | |   |Elemwise{add,no_inplace} [id L] <TensorType(float32, matrix)> ''   \n | | | |     |TensorConstant{(1, 1) of 0.0} [id M] <TensorType(float32, (True, True))>\n | | | |     |Elemwise{mul,no_inplace} [id N] <TensorType(float32, matrix)> ''   \n | | | |       |TensorConstant{(1, 1) of 1.0} [id O] <TensorType(float32, (True, True))>\n | | | |       |Reshape{2} [id P] <TensorType(float32, matrix)> ''   \n | | | |         |Join [id Q] <TensorType(float32, vector)> ''   \n | | | |         | |TensorConstant{0} [id R] <TensorType(int8, scalar)>\n | | | |         | |Elemwise{mul,no_inplace} [id S] <TensorType(float32, vector)> ''   \n | | | |         | | |Elemwise{sqrt,no_inplace} [id T] <TensorType(float32, vector)> ''   \n | | | |         | | | |Elemwise{mul,no_inplace} [id U] <TensorType(float32, vector)> ''   \n | | | |         | | |   |TensorConstant{(1,) of -2.0} [id V] <TensorType(float32, (True,))>\n | | | |         | | |   |Elemwise{log,no_inplace} [id W] <TensorType(float32, vector)> ''   \n | | | |         | | |     |Subtensor{:int64:} [id X] <TensorType(float32, vector)> ''   \n | | | |         | | |       |Elemwise{add,no_inplace} [id Y] <TensorType(float32, vector)> ''   \n | | | |         | | |       | |Elemwise{mul,no_inplace} [id Z] <TensorType(float32, vector)> ''   \n | | | |         | | |       | | |mrg_uniform{TensorType(float32, vector),no_inplace}.1 [id BA] <TensorType(float32, vector)> ''   \n | | | |         | | |       | | | |<TensorType(int32, matrix)> [id BB] <TensorType(int32, matrix)>\n | | | |         | | |       | | | |TensorConstant{(1,) of 42} [id BC] <TensorType(int64, (True,))>\n | | | |         | | |       | | |TensorConstant{(1,) of 1.0} [id BD] <TensorType(float32, (True,))>\n | | | |         | | |       | |TensorConstant{(1,) of 0.0} [id BE] <TensorType(float32, (True,))>\n | | | |         | | |       |Constant{21} [id BF] <int64>\n | | | |         | | |Elemwise{cos,no_inplace} [id BG] <TensorType(float32, vector)> ''   \n | | | |         | |   |Elemwise{mul,no_inplace} [id BH] <TensorType(float32, vector)> ''   \n | | | |         | |     |TensorConstant{(1,) of 6.28319} [id BI] <TensorType(float32, (True,))>\n | | | |         | |     |Subtensor{int64::} [id BJ] <TensorType(float32, vector)> ''   \n | | | |         | |       |Elemwise{add,no_inplace} [id Y] <TensorType(float32, vector)> ''   \n | | | |         | |       |Constant{21} [id BF] <int64>\n | | | |         | |Elemwise{mul,no_inplace} [id BK] <TensorType(float32, vector)> ''   \n | | | |         |   |Elemwise{sqrt,no_inplace} [id T] <TensorType(float32, vector)> ''   \n | | | |         |   |Elemwise{sin,no_inplace} [id BL] <TensorType(float32, vector)> ''   \n | | | |         |     |Elemwise{mul,no_inplace} [id BH] <TensorType(float32, vector)> ''   \n | | | |         |TensorConstant{[14  3]} [id BM] <TensorType(int64, vector)>\n | | | |Reshape{1} [id BN] <TensorType(int32, vector)> ''   \n | | |   |Alloc [id BO] <TensorType(int32, row)> ''   \n | | |   | |InplaceDimShuffle{0,x} [id BP] <TensorType(int32, (True, True))> ''   \n | | |   | | |InplaceDimShuffle{x} [id BQ] <TensorType(int32, (True,))> ''   \n | | |   | |   |actions[t] [id BR] <TensorType(int32, scalar)>\n | | |   | |Subtensor{int64} [id BS] <TensorType(int64, scalar)> ''   \n | | |   | | |Shape [id BT] <TensorType(int64, vector)> ''   \n | | |   | | | |InplaceDimShuffle{x} [id BQ] <TensorType(int32, (True,))> ''   \n | | |   | | |Constant{0} [id BU] <int64>\n | | |   | |TensorConstant{10} [id BV] <TensorType(int8, scalar)>\n | | |   |MakeVector{dtype='int64'} [id BW] <TensorType(int64, vector)> ''   \n | | |     |Elemwise{mul,no_inplace} [id BX] <TensorType(int64, scalar)> ''   \n | | |       |Subtensor{int64} [id BS] <TensorType(int64, scalar)> ''   \n | | |       |TensorConstant{10} [id BV] <TensorType(int8, scalar)>\n | | |MakeVector{dtype='int64'} [id BY] <TensorType(int64, vector)> ''   \n | |   |Subtensor{int64} [id BZ] <TensorType(int64, scalar)> ''   \n | |   | |Subtensor{:int64:} [id CA] <TensorType(int64, vector)> ''   \n | |   | | |Shape [id CB] <TensorType(int64, vector)> ''   \n | |   | | | |AdvancedSubtensor1 [id E] <TensorType(float32, matrix)> ''   \n | |   | | |Constant{1} [id CC] <int64>\n | |   | |Constant{0} [id BU] <int64>\n | |   |TensorConstant{-1} [id CD] <TensorType(int64, scalar)>\n | |Reshape{2} [id CE] <TensorType(float32, matrix)> ''   \n |   |Alloc [id CF] <TensorType(float32, (True, False, False))> ''   \n |   | |InplaceDimShuffle{0,x,1} [id CG] <TensorType(float32, (True, True, False))> ''   \n |   | | |InplaceDimShuffle{x,0} [id CH] <TensorType(float32, row)> ''   \n |   | |   |previous states[t] [id CI] <TensorType(float32, vector)>\n |   | |Subtensor{int64} [id CJ] <TensorType(int64, scalar)> ''   \n |   | | |Shape [id CK] <TensorType(int64, vector)> ''   \n |   | | | |InplaceDimShuffle{x,0} [id CH] <TensorType(float32, row)> ''   \n |   | | |Constant{0} [id BU] <int64>\n |   | |TensorConstant{10} [id BV] <TensorType(int8, scalar)>\n |   | |Subtensor{int64} [id CL] <TensorType(int64, scalar)> ''   \n |   |   |Shape [id CK] <TensorType(int64, vector)> ''   \n |   |   |Constant{1} [id CC] <int64>\n |   |MakeVector{dtype='int64'} [id CM] <TensorType(int64, vector)> ''   \n |     |Elemwise{mul,no_inplace} [id CN] <TensorType(int64, scalar)> ''   \n |     | |Subtensor{int64} [id CJ] <TensorType(int64, scalar)> ''   \n |     | |TensorConstant{10} [id BV] <TensorType(int8, scalar)>\n |     |Subtensor{int64} [id CL] <TensorType(int64, scalar)> ''   \n |Elemwise{add,no_inplace} [id CO] <TensorType(float32, matrix)> ''   \n   |bnn.mu_copy [id CP] <TensorType(float32, matrix)>\n   |Elemwise{mul,no_inplace} [id CQ] <TensorType(float32, matrix)> ''   \n     |Elemwise{log1p,no_inplace} [id CR] <TensorType(float32, matrix)> ''   \n     | |Elemwise{exp,no_inplace} [id CS] <TensorType(float32, matrix)> ''   \n     |   |bnn.rho_copy [id CT] <TensorType(float32, matrix)>\n     |Elemwise{add,no_inplace} [id CU] <TensorType(float32, matrix)> ''   \n       |TensorConstant{(1, 1) of 0.0} [id M] <TensorType(float32, (True, True))>\n       |Elemwise{mul,no_inplace} [id CV] <TensorType(float32, matrix)> ''   \n         |TensorConstant{(1, 1) of 1.0} [id O] <TensorType(float32, (True, True))>\n         |Reshape{2} [id CW] <TensorType(float32, matrix)> ''   \n           |Join [id CX] <TensorType(float32, vector)> ''   \n           | |TensorConstant{0} [id R] <TensorType(int8, scalar)>\n           | |Elemwise{mul,no_inplace} [id CY] <TensorType(float32, vector)> ''   \n           | | |Elemwise{sqrt,no_inplace} [id CZ] <TensorType(float32, vector)> ''   \n           | | | |Elemwise{mul,no_inplace} [id DA] <TensorType(float32, vector)> ''   \n           | | |   |TensorConstant{(1,) of -2.0} [id V] <TensorType(float32, (True,))>\n           | | |   |Elemwise{log,no_inplace} [id DB] <TensorType(float32, vector)> ''   \n           | | |     |Subtensor{:int64:} [id DC] <TensorType(float32, vector)> ''   \n           | | |       |Elemwise{add,no_inplace} [id DD] <TensorType(float32, vector)> ''   \n           | | |       | |Elemwise{mul,no_inplace} [id DE] <TensorType(float32, vector)> ''   \n           | | |       | | |mrg_uniform{TensorType(float32, vector),no_inplace}.1 [id DF] <TensorType(float32, vector)> ''   \n           | | |       | | | |<TensorType(int32, matrix)> [id DG] <TensorType(int32, matrix)>\n           | | |       | | | |TensorConstant{(1,) of 2800} [id DH] <TensorType(int64, (True,))>\n           | | |       | | |TensorConstant{(1,) of 1.0} [id BD] <TensorType(float32, (True,))>\n           | | |       | |TensorConstant{(1,) of 0.0} [id BE] <TensorType(float32, (True,))>\n           | | |       |Constant{1400} [id DI] <int64>\n           | | |Elemwise{cos,no_inplace} [id DJ] <TensorType(float32, vector)> ''   \n           | |   |Elemwise{mul,no_inplace} [id DK] <TensorType(float32, vector)> ''   \n           | |     |TensorConstant{(1,) of 6.28319} [id BI] <TensorType(float32, (True,))>\n           | |     |Subtensor{int64::} [id DL] <TensorType(float32, vector)> ''   \n           | |       |Elemwise{add,no_inplace} [id DD] <TensorType(float32, vector)> ''   \n           | |       |Constant{1400} [id DI] <int64>\n           | |Elemwise{mul,no_inplace} [id DM] <TensorType(float32, vector)> ''   \n           |   |Elemwise{sqrt,no_inplace} [id CZ] <TensorType(float32, vector)> ''   \n           |   |Elemwise{sin,no_inplace} [id DN] <TensorType(float32, vector)> ''   \n           |     |Elemwise{mul,no_inplace} [id DK] <TensorType(float32, vector)> ''   \n           |TensorConstant{[56 50]} [id DO] <TensorType(int64, vector)>\n\nHINT: Re-running with most Theano optimization disabled could give you a back-trace of when this node was created. This can be done with by setting the Theano flag 'optimizer=fast_compile'. If that does not work, Theano optimizations can be disabled with 'optimizer=None'.\nHINT: Use the Theano flag 'exception_verbosity=high' for a debugprint and storage map footprint of this apply node.",
      "\nDuring handling of the above exception, another exception occurred:\n",
      "\u001b[0;31mValueError\u001b[0m                                Traceback (most recent call last)",
      "\u001b[0;32m<ipython-input-23-9e04722ffb55>\u001b[0m in \u001b[0;36m<module>\u001b[0;34m()\u001b[0m\n\u001b[1;32m      1\u001b[0m \u001b[0;31m#pre-fill pool\u001b[0m\u001b[0;34m\u001b[0m\u001b[0;34m\u001b[0m\u001b[0m\n\u001b[1;32m      2\u001b[0m \u001b[0;32mfor\u001b[0m \u001b[0mi\u001b[0m \u001b[0;32min\u001b[0m \u001b[0mtqdm\u001b[0m\u001b[0;34m(\u001b[0m\u001b[0mrange\u001b[0m\u001b[0;34m(\u001b[0m\u001b[0;36m1000\u001b[0m\u001b[0;34m)\u001b[0m\u001b[0;34m)\u001b[0m\u001b[0;34m:\u001b[0m\u001b[0;34m\u001b[0m\u001b[0m\n\u001b[0;32m----> 3\u001b[0;31m     \u001b[0mpool\u001b[0m\u001b[0;34m.\u001b[0m\u001b[0mupdate\u001b[0m\u001b[0;34m(\u001b[0m\u001b[0mSEQ_LENGTH\u001b[0m\u001b[0;34m,\u001b[0m \u001b[0mappend\u001b[0m\u001b[0;34m=\u001b[0m\u001b[0;32mTrue\u001b[0m\u001b[0;34m,\u001b[0m \u001b[0mpreprocess\u001b[0m\u001b[0;34m=\u001b[0m\u001b[0mbnn\u001b[0m\u001b[0;34m.\u001b[0m\u001b[0madd_vime_reward\u001b[0m\u001b[0;34m)\u001b[0m\u001b[0;34m\u001b[0m\u001b[0m\n\u001b[0m",
      "\u001b[0;32m/home/manatee/anaconda3/lib/python3.6/site-packages/agentnet/experiments/openai_gym/pool.py\u001b[0m in \u001b[0;36mupdate\u001b[0;34m(self, n_steps, append, max_size, add_last_observation, preprocess)\u001b[0m\n\u001b[1;32m    195\u001b[0m \u001b[0;34m\u001b[0m\u001b[0m\n\u001b[1;32m    196\u001b[0m         \u001b[0mobservation_tensor\u001b[0m\u001b[0;34m,\u001b[0m \u001b[0maction_tensor\u001b[0m\u001b[0;34m,\u001b[0m \u001b[0mreward_tensor\u001b[0m\u001b[0;34m,\u001b[0m \u001b[0mis_alive_tensor\u001b[0m\u001b[0;34m,\u001b[0m \u001b[0mpreceding_memory_states\u001b[0m \u001b[0;34m=\u001b[0m\u001b[0;31m \u001b[0m\u001b[0;31m\\\u001b[0m\u001b[0;34m\u001b[0m\u001b[0m\n\u001b[0;32m--> 197\u001b[0;31m             \u001b[0mpreprocess\u001b[0m\u001b[0;34m(\u001b[0m\u001b[0mobservation_tensor\u001b[0m\u001b[0;34m,\u001b[0m \u001b[0maction_tensor\u001b[0m\u001b[0;34m,\u001b[0m \u001b[0mreward_tensor\u001b[0m\u001b[0;34m,\u001b[0m \u001b[0mis_alive_tensor\u001b[0m\u001b[0;34m,\u001b[0m \u001b[0mpreceding_memory_states\u001b[0m\u001b[0;34m)\u001b[0m\u001b[0;34m\u001b[0m\u001b[0m\n\u001b[0m\u001b[1;32m    198\u001b[0m \u001b[0;34m\u001b[0m\u001b[0m\n\u001b[1;32m    199\u001b[0m         \u001b[0;31m# Load them into experience replay environment.\u001b[0m\u001b[0;34m\u001b[0m\u001b[0;34m\u001b[0m\u001b[0m\n",
      "\u001b[0;32m/home/manatee/Desktop/inn.prac/Algorithms/src/agent/bnn.py\u001b[0m in \u001b[0;36madd_vime_reward\u001b[0;34m(self, observations, actions, rewards, is_alive, h0)\u001b[0m\n\u001b[1;32m    113\u001b[0m             \u001b[0mobservations_flat\u001b[0m\u001b[0;34m,\u001b[0m\u001b[0;34m\u001b[0m\u001b[0m\n\u001b[1;32m    114\u001b[0m             \u001b[0mactions_flat\u001b[0m\u001b[0;34m,\u001b[0m\u001b[0;34m\u001b[0m\u001b[0m\n\u001b[0;32m--> 115\u001b[0;31m             next_observations_flat)\n\u001b[0m\u001b[1;32m    116\u001b[0m         vime_rewards = np.concatenate(\n\u001b[1;32m    117\u001b[0m             [vime_rewards.reshape(rewards[:, :-1].shape),\n",
      "\u001b[0;32m/home/manatee/anaconda3/lib/python3.6/site-packages/theano/compile/function_module.py\u001b[0m in \u001b[0;36m__call__\u001b[0;34m(self, *args, **kwargs)\u001b[0m\n\u001b[1;32m    896\u001b[0m                     \u001b[0mnode\u001b[0m\u001b[0;34m=\u001b[0m\u001b[0mself\u001b[0m\u001b[0;34m.\u001b[0m\u001b[0mfn\u001b[0m\u001b[0;34m.\u001b[0m\u001b[0mnodes\u001b[0m\u001b[0;34m[\u001b[0m\u001b[0mself\u001b[0m\u001b[0;34m.\u001b[0m\u001b[0mfn\u001b[0m\u001b[0;34m.\u001b[0m\u001b[0mposition_of_error\u001b[0m\u001b[0;34m]\u001b[0m\u001b[0;34m,\u001b[0m\u001b[0;34m\u001b[0m\u001b[0m\n\u001b[1;32m    897\u001b[0m                     \u001b[0mthunk\u001b[0m\u001b[0;34m=\u001b[0m\u001b[0mthunk\u001b[0m\u001b[0;34m,\u001b[0m\u001b[0;34m\u001b[0m\u001b[0m\n\u001b[0;32m--> 898\u001b[0;31m                     storage_map=getattr(self.fn, 'storage_map', None))\n\u001b[0m\u001b[1;32m    899\u001b[0m             \u001b[0;32melse\u001b[0m\u001b[0;34m:\u001b[0m\u001b[0;34m\u001b[0m\u001b[0m\n\u001b[1;32m    900\u001b[0m                 \u001b[0;31m# old-style linkers raise their own exceptions\u001b[0m\u001b[0;34m\u001b[0m\u001b[0;34m\u001b[0m\u001b[0m\n",
      "\u001b[0;32m/home/manatee/anaconda3/lib/python3.6/site-packages/theano/gof/link.py\u001b[0m in \u001b[0;36mraise_with_op\u001b[0;34m(node, thunk, exc_info, storage_map)\u001b[0m\n\u001b[1;32m    323\u001b[0m         \u001b[0;31m# extra long error message in that case.\u001b[0m\u001b[0;34m\u001b[0m\u001b[0;34m\u001b[0m\u001b[0m\n\u001b[1;32m    324\u001b[0m         \u001b[0;32mpass\u001b[0m\u001b[0;34m\u001b[0m\u001b[0m\n\u001b[0;32m--> 325\u001b[0;31m     \u001b[0mreraise\u001b[0m\u001b[0;34m(\u001b[0m\u001b[0mexc_type\u001b[0m\u001b[0;34m,\u001b[0m \u001b[0mexc_value\u001b[0m\u001b[0;34m,\u001b[0m \u001b[0mexc_trace\u001b[0m\u001b[0;34m)\u001b[0m\u001b[0;34m\u001b[0m\u001b[0m\n\u001b[0m\u001b[1;32m    326\u001b[0m \u001b[0;34m\u001b[0m\u001b[0m\n\u001b[1;32m    327\u001b[0m \u001b[0;34m\u001b[0m\u001b[0m\n",
      "\u001b[0;32m/home/manatee/anaconda3/lib/python3.6/site-packages/six.py\u001b[0m in \u001b[0;36mreraise\u001b[0;34m(tp, value, tb)\u001b[0m\n\u001b[1;32m    683\u001b[0m             \u001b[0mvalue\u001b[0m \u001b[0;34m=\u001b[0m \u001b[0mtp\u001b[0m\u001b[0;34m(\u001b[0m\u001b[0;34m)\u001b[0m\u001b[0;34m\u001b[0m\u001b[0m\n\u001b[1;32m    684\u001b[0m         \u001b[0;32mif\u001b[0m \u001b[0mvalue\u001b[0m\u001b[0;34m.\u001b[0m\u001b[0m__traceback__\u001b[0m \u001b[0;32mis\u001b[0m \u001b[0;32mnot\u001b[0m \u001b[0mtb\u001b[0m\u001b[0;34m:\u001b[0m\u001b[0;34m\u001b[0m\u001b[0m\n\u001b[0;32m--> 685\u001b[0;31m             \u001b[0;32mraise\u001b[0m \u001b[0mvalue\u001b[0m\u001b[0;34m.\u001b[0m\u001b[0mwith_traceback\u001b[0m\u001b[0;34m(\u001b[0m\u001b[0mtb\u001b[0m\u001b[0;34m)\u001b[0m\u001b[0;34m\u001b[0m\u001b[0m\n\u001b[0m\u001b[1;32m    686\u001b[0m         \u001b[0;32mraise\u001b[0m \u001b[0mvalue\u001b[0m\u001b[0;34m\u001b[0m\u001b[0m\n\u001b[1;32m    687\u001b[0m \u001b[0;34m\u001b[0m\u001b[0m\n",
      "\u001b[0;32m/home/manatee/anaconda3/lib/python3.6/site-packages/theano/compile/function_module.py\u001b[0m in \u001b[0;36m__call__\u001b[0;34m(self, *args, **kwargs)\u001b[0m\n\u001b[1;32m    882\u001b[0m         \u001b[0;32mtry\u001b[0m\u001b[0;34m:\u001b[0m\u001b[0;34m\u001b[0m\u001b[0m\n\u001b[1;32m    883\u001b[0m             \u001b[0moutputs\u001b[0m \u001b[0;34m=\u001b[0m\u001b[0;31m\\\u001b[0m\u001b[0;34m\u001b[0m\u001b[0m\n\u001b[0;32m--> 884\u001b[0;31m                 \u001b[0mself\u001b[0m\u001b[0;34m.\u001b[0m\u001b[0mfn\u001b[0m\u001b[0;34m(\u001b[0m\u001b[0;34m)\u001b[0m \u001b[0;32mif\u001b[0m \u001b[0moutput_subset\u001b[0m \u001b[0;32mis\u001b[0m \u001b[0;32mNone\u001b[0m \u001b[0;32melse\u001b[0m\u001b[0;31m\\\u001b[0m\u001b[0;34m\u001b[0m\u001b[0m\n\u001b[0m\u001b[1;32m    885\u001b[0m                 \u001b[0mself\u001b[0m\u001b[0;34m.\u001b[0m\u001b[0mfn\u001b[0m\u001b[0;34m(\u001b[0m\u001b[0moutput_subset\u001b[0m\u001b[0;34m=\u001b[0m\u001b[0moutput_subset\u001b[0m\u001b[0;34m)\u001b[0m\u001b[0;34m\u001b[0m\u001b[0m\n\u001b[1;32m    886\u001b[0m         \u001b[0;32mexcept\u001b[0m \u001b[0mException\u001b[0m\u001b[0;34m:\u001b[0m\u001b[0;34m\u001b[0m\u001b[0m\n",
      "\u001b[0;32m/home/manatee/anaconda3/lib/python3.6/site-packages/theano/scan_module/scan_op.py\u001b[0m in \u001b[0;36mrval\u001b[0;34m(p, i, o, n, allow_gc)\u001b[0m\n\u001b[1;32m    987\u001b[0m         def rval(p=p, i=node_input_storage, o=node_output_storage, n=node,\n\u001b[1;32m    988\u001b[0m                  allow_gc=allow_gc):\n\u001b[0;32m--> 989\u001b[0;31m             \u001b[0mr\u001b[0m \u001b[0;34m=\u001b[0m \u001b[0mp\u001b[0m\u001b[0;34m(\u001b[0m\u001b[0mn\u001b[0m\u001b[0;34m,\u001b[0m \u001b[0;34m[\u001b[0m\u001b[0mx\u001b[0m\u001b[0;34m[\u001b[0m\u001b[0;36m0\u001b[0m\u001b[0;34m]\u001b[0m \u001b[0;32mfor\u001b[0m \u001b[0mx\u001b[0m \u001b[0;32min\u001b[0m \u001b[0mi\u001b[0m\u001b[0;34m]\u001b[0m\u001b[0;34m,\u001b[0m \u001b[0mo\u001b[0m\u001b[0;34m)\u001b[0m\u001b[0;34m\u001b[0m\u001b[0m\n\u001b[0m\u001b[1;32m    990\u001b[0m             \u001b[0;32mfor\u001b[0m \u001b[0mo\u001b[0m \u001b[0;32min\u001b[0m \u001b[0mnode\u001b[0m\u001b[0;34m.\u001b[0m\u001b[0moutputs\u001b[0m\u001b[0;34m:\u001b[0m\u001b[0;34m\u001b[0m\u001b[0m\n\u001b[1;32m    991\u001b[0m                 \u001b[0mcompute_map\u001b[0m\u001b[0;34m[\u001b[0m\u001b[0mo\u001b[0m\u001b[0;34m]\u001b[0m\u001b[0;34m[\u001b[0m\u001b[0;36m0\u001b[0m\u001b[0;34m]\u001b[0m \u001b[0;34m=\u001b[0m \u001b[0;32mTrue\u001b[0m\u001b[0;34m\u001b[0m\u001b[0m\n",
      "\u001b[0;32m/home/manatee/anaconda3/lib/python3.6/site-packages/theano/scan_module/scan_op.py\u001b[0m in \u001b[0;36mp\u001b[0;34m(node, args, outs)\u001b[0m\n\u001b[1;32m    976\u001b[0m                                                 \u001b[0margs\u001b[0m\u001b[0;34m,\u001b[0m\u001b[0;34m\u001b[0m\u001b[0m\n\u001b[1;32m    977\u001b[0m                                                 \u001b[0mouts\u001b[0m\u001b[0;34m,\u001b[0m\u001b[0;34m\u001b[0m\u001b[0m\n\u001b[0;32m--> 978\u001b[0;31m                                                 self, node)\n\u001b[0m\u001b[1;32m    979\u001b[0m         \u001b[0;32mexcept\u001b[0m \u001b[0;34m(\u001b[0m\u001b[0mImportError\u001b[0m\u001b[0;34m,\u001b[0m \u001b[0mtheano\u001b[0m\u001b[0;34m.\u001b[0m\u001b[0mgof\u001b[0m\u001b[0;34m.\u001b[0m\u001b[0mcmodule\u001b[0m\u001b[0;34m.\u001b[0m\u001b[0mMissingGXX\u001b[0m\u001b[0;34m)\u001b[0m\u001b[0;34m:\u001b[0m\u001b[0;34m\u001b[0m\u001b[0m\n\u001b[1;32m    980\u001b[0m             \u001b[0mp\u001b[0m \u001b[0;34m=\u001b[0m \u001b[0mself\u001b[0m\u001b[0;34m.\u001b[0m\u001b[0mexecute\u001b[0m\u001b[0;34m\u001b[0m\u001b[0m\n",
      "\u001b[0;32mtheano/scan_module/scan_perform.pyx\u001b[0m in \u001b[0;36mtheano.scan_module.scan_perform.perform (/home/manatee/.theano/compiledir_Linux-4.4--generic-x86_64-with-debian-stretch-sid-x86_64-3.6.0-64/scan_perform/mod.cpp:4606)\u001b[0;34m()\u001b[0m\n",
      "\u001b[0;32m/home/manatee/anaconda3/lib/python3.6/site-packages/theano/gof/link.py\u001b[0m in \u001b[0;36mraise_with_op\u001b[0;34m(node, thunk, exc_info, storage_map)\u001b[0m\n\u001b[1;32m    323\u001b[0m         \u001b[0;31m# extra long error message in that case.\u001b[0m\u001b[0;34m\u001b[0m\u001b[0;34m\u001b[0m\u001b[0m\n\u001b[1;32m    324\u001b[0m         \u001b[0;32mpass\u001b[0m\u001b[0;34m\u001b[0m\u001b[0m\n\u001b[0;32m--> 325\u001b[0;31m     \u001b[0mreraise\u001b[0m\u001b[0;34m(\u001b[0m\u001b[0mexc_type\u001b[0m\u001b[0;34m,\u001b[0m \u001b[0mexc_value\u001b[0m\u001b[0;34m,\u001b[0m \u001b[0mexc_trace\u001b[0m\u001b[0;34m)\u001b[0m\u001b[0;34m\u001b[0m\u001b[0m\n\u001b[0m\u001b[1;32m    326\u001b[0m \u001b[0;34m\u001b[0m\u001b[0m\n\u001b[1;32m    327\u001b[0m \u001b[0;34m\u001b[0m\u001b[0m\n",
      "\u001b[0;32m/home/manatee/anaconda3/lib/python3.6/site-packages/six.py\u001b[0m in \u001b[0;36mreraise\u001b[0;34m(tp, value, tb)\u001b[0m\n\u001b[1;32m    683\u001b[0m             \u001b[0mvalue\u001b[0m \u001b[0;34m=\u001b[0m \u001b[0mtp\u001b[0m\u001b[0;34m(\u001b[0m\u001b[0;34m)\u001b[0m\u001b[0;34m\u001b[0m\u001b[0m\n\u001b[1;32m    684\u001b[0m         \u001b[0;32mif\u001b[0m \u001b[0mvalue\u001b[0m\u001b[0;34m.\u001b[0m\u001b[0m__traceback__\u001b[0m \u001b[0;32mis\u001b[0m \u001b[0;32mnot\u001b[0m \u001b[0mtb\u001b[0m\u001b[0;34m:\u001b[0m\u001b[0;34m\u001b[0m\u001b[0m\n\u001b[0;32m--> 685\u001b[0;31m             \u001b[0;32mraise\u001b[0m \u001b[0mvalue\u001b[0m\u001b[0;34m.\u001b[0m\u001b[0mwith_traceback\u001b[0m\u001b[0;34m(\u001b[0m\u001b[0mtb\u001b[0m\u001b[0;34m)\u001b[0m\u001b[0;34m\u001b[0m\u001b[0m\n\u001b[0m\u001b[1;32m    686\u001b[0m         \u001b[0;32mraise\u001b[0m \u001b[0mvalue\u001b[0m\u001b[0;34m\u001b[0m\u001b[0m\n\u001b[1;32m    687\u001b[0m \u001b[0;34m\u001b[0m\u001b[0m\n",
      "\u001b[0;32mtheano/scan_module/scan_perform.pyx\u001b[0m in \u001b[0;36mtheano.scan_module.scan_perform.perform (/home/manatee/.theano/compiledir_Linux-4.4--generic-x86_64-with-debian-stretch-sid-x86_64-3.6.0-64/scan_perform/mod.cpp:4490)\u001b[0;34m()\u001b[0m\n",
      "\u001b[0;31mValueError\u001b[0m: Shape mismatch: x has 17 cols (and 10 rows) but y has 56 rows (and 50 cols)\nApply node that caused the error: Dot22(Join.0, Elemwise{add,no_inplace}.0)\nToposort index: 160\nInputs types: [TensorType(float32, matrix), TensorType(float32, matrix)]\nInputs shapes: [(10, 17), (56, 50)]\nInputs strides: [(68, 4), (200, 4)]\nInputs values: ['not shown', 'not shown']\nInputs type_num: [11, 11]\nOutputs clients: [[Elemwise{add,no_inplace}(Dot22.0, InplaceDimShuffle{x,0}.0)]]\n\nDebugprint of the apply node: \nDot22 [id A] <TensorType(float32, matrix)> ''   \n |Join [id B] <TensorType(float32, matrix)> ''   \n | |TensorConstant{1} [id C] <TensorType(int8, scalar)>\n | |Reshape{2} [id D] <TensorType(float32, matrix)> ''   \n | | |AdvancedSubtensor1 [id E] <TensorType(float32, matrix)> ''   \n | | | |Elemwise{add,no_inplace} [id F] <TensorType(float32, matrix)> ''   \n | | | | |bnn.mu_copy [id G] <TensorType(float32, matrix)>\n | | | | |Elemwise{mul,no_inplace} [id H] <TensorType(float32, matrix)> ''   \n | | | |   |Elemwise{log1p,no_inplace} [id I] <TensorType(float32, matrix)> ''   \n | | | |   | |Elemwise{exp,no_inplace} [id J] <TensorType(float32, matrix)> ''   \n | | | |   |   |bnn.rho_copy [id K] <TensorType(float32, matrix)>\n | | | |   |Elemwise{add,no_inplace} [id L] <TensorType(float32, matrix)> ''   \n | | | |     |TensorConstant{(1, 1) of 0.0} [id M] <TensorType(float32, (True, True))>\n | | | |     |Elemwise{mul,no_inplace} [id N] <TensorType(float32, matrix)> ''   \n | | | |       |TensorConstant{(1, 1) of 1.0} [id O] <TensorType(float32, (True, True))>\n | | | |       |Reshape{2} [id P] <TensorType(float32, matrix)> ''   \n | | | |         |Join [id Q] <TensorType(float32, vector)> ''   \n | | | |         | |TensorConstant{0} [id R] <TensorType(int8, scalar)>\n | | | |         | |Elemwise{mul,no_inplace} [id S] <TensorType(float32, vector)> ''   \n | | | |         | | |Elemwise{sqrt,no_inplace} [id T] <TensorType(float32, vector)> ''   \n | | | |         | | | |Elemwise{mul,no_inplace} [id U] <TensorType(float32, vector)> ''   \n | | | |         | | |   |TensorConstant{(1,) of -2.0} [id V] <TensorType(float32, (True,))>\n | | | |         | | |   |Elemwise{log,no_inplace} [id W] <TensorType(float32, vector)> ''   \n | | | |         | | |     |Subtensor{:int64:} [id X] <TensorType(float32, vector)> ''   \n | | | |         | | |       |Elemwise{add,no_inplace} [id Y] <TensorType(float32, vector)> ''   \n | | | |         | | |       | |Elemwise{mul,no_inplace} [id Z] <TensorType(float32, vector)> ''   \n | | | |         | | |       | | |mrg_uniform{TensorType(float32, vector),no_inplace}.1 [id BA] <TensorType(float32, vector)> ''   \n | | | |         | | |       | | | |<TensorType(int32, matrix)> [id BB] <TensorType(int32, matrix)>\n | | | |         | | |       | | | |TensorConstant{(1,) of 42} [id BC] <TensorType(int64, (True,))>\n | | | |         | | |       | | |TensorConstant{(1,) of 1.0} [id BD] <TensorType(float32, (True,))>\n | | | |         | | |       | |TensorConstant{(1,) of 0.0} [id BE] <TensorType(float32, (True,))>\n | | | |         | | |       |Constant{21} [id BF] <int64>\n | | | |         | | |Elemwise{cos,no_inplace} [id BG] <TensorType(float32, vector)> ''   \n | | | |         | |   |Elemwise{mul,no_inplace} [id BH] <TensorType(float32, vector)> ''   \n | | | |         | |     |TensorConstant{(1,) of 6.28319} [id BI] <TensorType(float32, (True,))>\n | | | |         | |     |Subtensor{int64::} [id BJ] <TensorType(float32, vector)> ''   \n | | | |         | |       |Elemwise{add,no_inplace} [id Y] <TensorType(float32, vector)> ''   \n | | | |         | |       |Constant{21} [id BF] <int64>\n | | | |         | |Elemwise{mul,no_inplace} [id BK] <TensorType(float32, vector)> ''   \n | | | |         |   |Elemwise{sqrt,no_inplace} [id T] <TensorType(float32, vector)> ''   \n | | | |         |   |Elemwise{sin,no_inplace} [id BL] <TensorType(float32, vector)> ''   \n | | | |         |     |Elemwise{mul,no_inplace} [id BH] <TensorType(float32, vector)> ''   \n | | | |         |TensorConstant{[14  3]} [id BM] <TensorType(int64, vector)>\n | | | |Reshape{1} [id BN] <TensorType(int32, vector)> ''   \n | | |   |Alloc [id BO] <TensorType(int32, row)> ''   \n | | |   | |InplaceDimShuffle{0,x} [id BP] <TensorType(int32, (True, True))> ''   \n | | |   | | |InplaceDimShuffle{x} [id BQ] <TensorType(int32, (True,))> ''   \n | | |   | |   |actions[t] [id BR] <TensorType(int32, scalar)>\n | | |   | |Subtensor{int64} [id BS] <TensorType(int64, scalar)> ''   \n | | |   | | |Shape [id BT] <TensorType(int64, vector)> ''   \n | | |   | | | |InplaceDimShuffle{x} [id BQ] <TensorType(int32, (True,))> ''   \n | | |   | | |Constant{0} [id BU] <int64>\n | | |   | |TensorConstant{10} [id BV] <TensorType(int8, scalar)>\n | | |   |MakeVector{dtype='int64'} [id BW] <TensorType(int64, vector)> ''   \n | | |     |Elemwise{mul,no_inplace} [id BX] <TensorType(int64, scalar)> ''   \n | | |       |Subtensor{int64} [id BS] <TensorType(int64, scalar)> ''   \n | | |       |TensorConstant{10} [id BV] <TensorType(int8, scalar)>\n | | |MakeVector{dtype='int64'} [id BY] <TensorType(int64, vector)> ''   \n | |   |Subtensor{int64} [id BZ] <TensorType(int64, scalar)> ''   \n | |   | |Subtensor{:int64:} [id CA] <TensorType(int64, vector)> ''   \n | |   | | |Shape [id CB] <TensorType(int64, vector)> ''   \n | |   | | | |AdvancedSubtensor1 [id E] <TensorType(float32, matrix)> ''   \n | |   | | |Constant{1} [id CC] <int64>\n | |   | |Constant{0} [id BU] <int64>\n | |   |TensorConstant{-1} [id CD] <TensorType(int64, scalar)>\n | |Reshape{2} [id CE] <TensorType(float32, matrix)> ''   \n |   |Alloc [id CF] <TensorType(float32, (True, False, False))> ''   \n |   | |InplaceDimShuffle{0,x,1} [id CG] <TensorType(float32, (True, True, False))> ''   \n |   | | |InplaceDimShuffle{x,0} [id CH] <TensorType(float32, row)> ''   \n |   | |   |previous states[t] [id CI] <TensorType(float32, vector)>\n |   | |Subtensor{int64} [id CJ] <TensorType(int64, scalar)> ''   \n |   | | |Shape [id CK] <TensorType(int64, vector)> ''   \n |   | | | |InplaceDimShuffle{x,0} [id CH] <TensorType(float32, row)> ''   \n |   | | |Constant{0} [id BU] <int64>\n |   | |TensorConstant{10} [id BV] <TensorType(int8, scalar)>\n |   | |Subtensor{int64} [id CL] <TensorType(int64, scalar)> ''   \n |   |   |Shape [id CK] <TensorType(int64, vector)> ''   \n |   |   |Constant{1} [id CC] <int64>\n |   |MakeVector{dtype='int64'} [id CM] <TensorType(int64, vector)> ''   \n |     |Elemwise{mul,no_inplace} [id CN] <TensorType(int64, scalar)> ''   \n |     | |Subtensor{int64} [id CJ] <TensorType(int64, scalar)> ''   \n |     | |TensorConstant{10} [id BV] <TensorType(int8, scalar)>\n |     |Subtensor{int64} [id CL] <TensorType(int64, scalar)> ''   \n |Elemwise{add,no_inplace} [id CO] <TensorType(float32, matrix)> ''   \n   |bnn.mu_copy [id CP] <TensorType(float32, matrix)>\n   |Elemwise{mul,no_inplace} [id CQ] <TensorType(float32, matrix)> ''   \n     |Elemwise{log1p,no_inplace} [id CR] <TensorType(float32, matrix)> ''   \n     | |Elemwise{exp,no_inplace} [id CS] <TensorType(float32, matrix)> ''   \n     |   |bnn.rho_copy [id CT] <TensorType(float32, matrix)>\n     |Elemwise{add,no_inplace} [id CU] <TensorType(float32, matrix)> ''   \n       |TensorConstant{(1, 1) of 0.0} [id M] <TensorType(float32, (True, True))>\n       |Elemwise{mul,no_inplace} [id CV] <TensorType(float32, matrix)> ''   \n         |TensorConstant{(1, 1) of 1.0} [id O] <TensorType(float32, (True, True))>\n         |Reshape{2} [id CW] <TensorType(float32, matrix)> ''   \n           |Join [id CX] <TensorType(float32, vector)> ''   \n           | |TensorConstant{0} [id R] <TensorType(int8, scalar)>\n           | |Elemwise{mul,no_inplace} [id CY] <TensorType(float32, vector)> ''   \n           | | |Elemwise{sqrt,no_inplace} [id CZ] <TensorType(float32, vector)> ''   \n           | | | |Elemwise{mul,no_inplace} [id DA] <TensorType(float32, vector)> ''   \n           | | |   |TensorConstant{(1,) of -2.0} [id V] <TensorType(float32, (True,))>\n           | | |   |Elemwise{log,no_inplace} [id DB] <TensorType(float32, vector)> ''   \n           | | |     |Subtensor{:int64:} [id DC] <TensorType(float32, vector)> ''   \n           | | |       |Elemwise{add,no_inplace} [id DD] <TensorType(float32, vector)> ''   \n           | | |       | |Elemwise{mul,no_inplace} [id DE] <TensorType(float32, vector)> ''   \n           | | |       | | |mrg_uniform{TensorType(float32, vector),no_inplace}.1 [id DF] <TensorType(float32, vector)> ''   \n           | | |       | | | |<TensorType(int32, matrix)> [id DG] <TensorType(int32, matrix)>\n           | | |       | | | |TensorConstant{(1,) of 2800} [id DH] <TensorType(int64, (True,))>\n           | | |       | | |TensorConstant{(1,) of 1.0} [id BD] <TensorType(float32, (True,))>\n           | | |       | |TensorConstant{(1,) of 0.0} [id BE] <TensorType(float32, (True,))>\n           | | |       |Constant{1400} [id DI] <int64>\n           | | |Elemwise{cos,no_inplace} [id DJ] <TensorType(float32, vector)> ''   \n           | |   |Elemwise{mul,no_inplace} [id DK] <TensorType(float32, vector)> ''   \n           | |     |TensorConstant{(1,) of 6.28319} [id BI] <TensorType(float32, (True,))>\n           | |     |Subtensor{int64::} [id DL] <TensorType(float32, vector)> ''   \n           | |       |Elemwise{add,no_inplace} [id DD] <TensorType(float32, vector)> ''   \n           | |       |Constant{1400} [id DI] <int64>\n           | |Elemwise{mul,no_inplace} [id DM] <TensorType(float32, vector)> ''   \n           |   |Elemwise{sqrt,no_inplace} [id CZ] <TensorType(float32, vector)> ''   \n           |   |Elemwise{sin,no_inplace} [id DN] <TensorType(float32, vector)> ''   \n           |     |Elemwise{mul,no_inplace} [id DK] <TensorType(float32, vector)> ''   \n           |TensorConstant{[56 50]} [id DO] <TensorType(int64, vector)>\n\nHINT: Re-running with most Theano optimization disabled could give you a back-trace of when this node was created. This can be done with by setting the Theano flag 'optimizer=fast_compile'. If that does not work, Theano optimizations can be disabled with 'optimizer=None'.\nHINT: Use the Theano flag 'exception_verbosity=high' for a debugprint and storage map footprint of this apply node.\nApply node that caused the error: for{cpu,scan_fn}(Elemwise{minimum,no_inplace}.0, Subtensor{:int64:}.0, Subtensor{:int64:}.0, Subtensor{:int64:}.0, IncSubtensor{Set;:int64:}.0, IncSubtensor{Set;:int64:}.0, IncSubtensor{Set;:int64:}.0, IncSubtensor{Set;:int64:}.0, IncSubtensor{Set;:int64:}.0, Elemwise{minimum,no_inplace}.0, bnn.rho, bnn.mu, bnn.mu, bnn.rho, bnn.mu, bnn.rho, bnn.mu, bnn.rho, bnn.mu, bnn.rho)\nToposort index: 65\nInputs types: [TensorType(int64, scalar), TensorType(float32, matrix), TensorType(int32, vector), TensorType(float32, matrix), TensorType(int32, 3D), TensorType(int32, 3D), TensorType(int32, 3D), TensorType(int32, 3D), TensorType(int32, 3D), TensorType(int64, scalar), TensorType(float32, matrix), TensorType(float32, matrix), TensorType(float32, matrix), TensorType(float32, matrix), TensorType(float32, vector), TensorType(float32, vector), TensorType(float32, matrix), TensorType(float32, matrix), TensorType(float32, vector), TensorType(float32, vector)]\nInputs shapes: [(), (9, 14), (9,), (9, 14), (10, 15360, 6), (10, 15360, 6), (10, 15360, 6), (10, 15360, 6), (10, 15360, 6), (), (14, 3), (14, 3), (56, 50), (56, 50), (50,), (50,), (50, 14), (50, 14), (14,), (14,)]\nInputs strides: [(), (56, 4), (4,), (56, 4), (368640, 24, 4), (368640, 24, 4), (368640, 24, 4), (368640, 24, 4), (368640, 24, 4), (), (12, 4), (12, 4), (200, 4), (200, 4), (4,), (4,), (56, 4), (56, 4), (4,), (4,)]\nInputs values: [array(9), 'not shown', 'not shown', 'not shown', 'not shown', 'not shown', 'not shown', 'not shown', 'not shown', array(9), 'not shown', 'not shown', 'not shown', 'not shown', 'not shown', 'not shown', 'not shown', 'not shown', 'not shown', 'not shown']\nInputs type_num: [7, 11, 5, 11, 5, 5, 5, 5, 5, 7, 11, 11, 11, 11, 11, 11, 11, 11, 11, 11]\nOutputs clients: [[Subtensor{int64::}(for{cpu,scan_fn}.0, Constant{1})], [Subtensor{int64::}(for{cpu,scan_fn}.1, Constant{1})], [Subtensor{int64::}(for{cpu,scan_fn}.2, Constant{1})], [Subtensor{int64::}(for{cpu,scan_fn}.3, Constant{1})], [Subtensor{int64::}(for{cpu,scan_fn}.4, Constant{1})], ['output']]\n\nBacktrace when the node is created(use Theano flag traceback.limit=N to make it longer):\n  File \"/home/manatee/anaconda3/lib/python3.6/site-packages/ipykernel/ipkernel.py\", line 196, in do_execute\n    res = shell.run_cell(code, store_history=store_history, silent=silent)\n  File \"/home/manatee/anaconda3/lib/python3.6/site-packages/ipykernel/zmqshell.py\", line 501, in run_cell\n    return super(ZMQInteractiveShell, self).run_cell(*args, **kwargs)\n  File \"/home/manatee/anaconda3/lib/python3.6/site-packages/IPython/core/interactiveshell.py\", line 2717, in run_cell\n    interactivity=interactivity, compiler=compiler, result=result)\n  File \"/home/manatee/anaconda3/lib/python3.6/site-packages/IPython/core/interactiveshell.py\", line 2821, in run_ast_nodes\n    if self.run_code(code, result):\n  File \"/home/manatee/anaconda3/lib/python3.6/site-packages/IPython/core/interactiveshell.py\", line 2881, in run_code\n    exec(code_obj, self.user_global_ns, self.user_ns)\n  File \"<ipython-input-21-3939ba4f6cbd>\", line 2, in <module>\n    bnn = BNN(state_shape, action_shape, action_emb_shape, replay)\n  File \"/home/manatee/Desktop/inn.prac/Algorithms/src/agent/bnn.py\", line 99, in __init__\n    n_samples=10)\n  File \"/home/manatee/Desktop/inn.prac/Algorithms/src/agent/curiosity.py\", line 92, in compile_vime_reward\n    sequences=[prev_states, actions, next_states])\n\nDebugprint of the apply node: \nfor{cpu,scan_fn}.0 [id A] <TensorType(int32, 3D)> ''   \n |Elemwise{minimum,no_inplace} [id B] <TensorType(int64, scalar)> ''   \n | |Elemwise{minimum,no_inplace} [id C] <TensorType(int64, scalar)> ''   \n | | |Subtensor{int64} [id D] <TensorType(int64, scalar)> ''   \n | | | |Shape [id E] <TensorType(int64, vector)> ''   \n | | | | |Subtensor{int64::} [id F] <TensorType(float32, matrix)> 'previous states[0:]'   \n | | | |Constant{0} [id G] <int64>\n | | |Subtensor{int64} [id H] <TensorType(int64, scalar)> ''   \n | |   |Shape [id I] <TensorType(int64, vector)> ''   \n | |   | |Subtensor{int64::} [id J] <TensorType(int32, vector)> 'actions[0:]'   \n | |   |Constant{0} [id G] <int64>\n | |Subtensor{int64} [id K] <TensorType(int64, scalar)> ''   \n |   |Shape [id L] <TensorType(int64, vector)> ''   \n |   | |Subtensor{int64::} [id M] <TensorType(float32, matrix)> 'next states[0:]'   \n |   |Constant{0} [id G] <int64>\n |Subtensor{:int64:} [id N] <TensorType(float32, matrix)> ''   \n | |Subtensor{int64::} [id F] <TensorType(float32, matrix)> 'previous states[0:]'   \n | |ScalarFromTensor [id O] <int64> ''   \n |   |Elemwise{minimum,no_inplace} [id B] <TensorType(int64, scalar)> ''   \n |Subtensor{:int64:} [id P] <TensorType(int32, vector)> ''   \n | |Subtensor{int64::} [id J] <TensorType(int32, vector)> 'actions[0:]'   \n | |ScalarFromTensor [id O] <int64> ''   \n |Subtensor{:int64:} [id Q] <TensorType(float32, matrix)> ''   \n | |Subtensor{int64::} [id M] <TensorType(float32, matrix)> 'next states[0:]'   \n | |ScalarFromTensor [id O] <int64> ''   \n |IncSubtensor{Set;:int64:} [id R] <TensorType(int32, 3D)> ''   \n | |AllocEmpty{dtype='int32'} [id S] <TensorType(int32, 3D)> ''   \n | | |Elemwise{add,no_inplace} [id T] <TensorType(int64, scalar)> ''   \n | | | |Elemwise{minimum,no_inplace} [id B] <TensorType(int64, scalar)> ''   \n | | | |Subtensor{int64} [id U] <TensorType(int64, scalar)> ''   \n | | |   |Shape [id V] <TensorType(int64, vector)> ''   \n | | |   | |Rebroadcast{0} [id W] <TensorType(int32, 3D)> ''   \n | | |   |   |InplaceDimShuffle{x,0,1} [id X] <TensorType(int32, (True, False, False))> ''   \n | | |   |     |<TensorType(int32, matrix)> [id Y] <TensorType(int32, matrix)>\n | | |   |Constant{0} [id G] <int64>\n | | |Subtensor{int64} [id Z] <TensorType(int64, scalar)> ''   \n | | | |Shape [id V] <TensorType(int64, vector)> ''   \n | | | |Constant{1} [id BA] <int64>\n | | |Subtensor{int64} [id BB] <TensorType(int64, scalar)> ''   \n | |   |Shape [id V] <TensorType(int64, vector)> ''   \n | |   |Constant{2} [id BC] <int64>\n | |Rebroadcast{0} [id W] <TensorType(int32, 3D)> ''   \n | |ScalarFromTensor [id BD] <int64> ''   \n |   |Subtensor{int64} [id U] <TensorType(int64, scalar)> ''   \n |IncSubtensor{Set;:int64:} [id BE] <TensorType(int32, 3D)> ''   \n | |AllocEmpty{dtype='int32'} [id BF] <TensorType(int32, 3D)> ''   \n | | |Elemwise{add,no_inplace} [id BG] <TensorType(int64, scalar)> ''   \n | | | |Elemwise{minimum,no_inplace} [id B] <TensorType(int64, scalar)> ''   \n | | | |Subtensor{int64} [id BH] <TensorType(int64, scalar)> ''   \n | | |   |Shape [id BI] <TensorType(int64, vector)> ''   \n | | |   | |Rebroadcast{0} [id BJ] <TensorType(int32, 3D)> ''   \n | | |   |   |InplaceDimShuffle{x,0,1} [id BK] <TensorType(int32, (True, False, False))> ''   \n | | |   |     |<TensorType(int32, matrix)> [id BL] <TensorType(int32, matrix)>\n | | |   |Constant{0} [id G] <int64>\n | | |Subtensor{int64} [id BM] <TensorType(int64, scalar)> ''   \n | | | |Shape [id BI] <TensorType(int64, vector)> ''   \n | | | |Constant{1} [id BA] <int64>\n | | |Subtensor{int64} [id BN] <TensorType(int64, scalar)> ''   \n | |   |Shape [id BI] <TensorType(int64, vector)> ''   \n | |   |Constant{2} [id BC] <int64>\n | |Rebroadcast{0} [id BJ] <TensorType(int32, 3D)> ''   \n | |ScalarFromTensor [id BO] <int64> ''   \n |   |Subtensor{int64} [id BH] <TensorType(int64, scalar)> ''   \n |IncSubtensor{Set;:int64:} [id BP] <TensorType(int32, 3D)> ''   \n | |AllocEmpty{dtype='int32'} [id BQ] <TensorType(int32, 3D)> ''   \n | | |Elemwise{add,no_inplace} [id BR] <TensorType(int64, scalar)> ''   \n | | | |Elemwise{minimum,no_inplace} [id B] <TensorType(int64, scalar)> ''   \n | | | |Subtensor{int64} [id BS] <TensorType(int64, scalar)> ''   \n | | |   |Shape [id BT] <TensorType(int64, vector)> ''   \n | | |   | |Rebroadcast{0} [id BU] <TensorType(int32, 3D)> ''   \n | | |   |   |InplaceDimShuffle{x,0,1} [id BV] <TensorType(int32, (True, False, False))> ''   \n | | |   |     |<TensorType(int32, matrix)> [id BW] <TensorType(int32, matrix)>\n | | |   |Constant{0} [id G] <int64>\n | | |Subtensor{int64} [id BX] <TensorType(int64, scalar)> ''   \n | | | |Shape [id BT] <TensorType(int64, vector)> ''   \n | | | |Constant{1} [id BA] <int64>\n | | |Subtensor{int64} [id BY] <TensorType(int64, scalar)> ''   \n | |   |Shape [id BT] <TensorType(int64, vector)> ''   \n | |   |Constant{2} [id BC] <int64>\n | |Rebroadcast{0} [id BU] <TensorType(int32, 3D)> ''   \n | |ScalarFromTensor [id BZ] <int64> ''   \n |   |Subtensor{int64} [id BS] <TensorType(int64, scalar)> ''   \n |IncSubtensor{Set;:int64:} [id CA] <TensorType(int32, 3D)> ''   \n | |AllocEmpty{dtype='int32'} [id CB] <TensorType(int32, 3D)> ''   \n | | |Elemwise{add,no_inplace} [id CC] <TensorType(int64, scalar)> ''   \n | | | |Elemwise{minimum,no_inplace} [id B] <TensorType(int64, scalar)> ''   \n | | | |Subtensor{int64} [id CD] <TensorType(int64, scalar)> ''   \n | | |   |Shape [id CE] <TensorType(int64, vector)> ''   \n | | |   | |Rebroadcast{0} [id CF] <TensorType(int32, 3D)> ''   \n | | |   |   |InplaceDimShuffle{x,0,1} [id CG] <TensorType(int32, (True, False, False))> ''   \n | | |   |     |<TensorType(int32, matrix)> [id CH] <TensorType(int32, matrix)>\n | | |   |Constant{0} [id G] <int64>\n | | |Subtensor{int64} [id CI] <TensorType(int64, scalar)> ''   \n | | | |Shape [id CE] <TensorType(int64, vector)> ''   \n | | | |Constant{1} [id BA] <int64>\n | | |Subtensor{int64} [id CJ] <TensorType(int64, scalar)> ''   \n | |   |Shape [id CE] <TensorType(int64, vector)> ''   \n | |   |Constant{2} [id BC] <int64>\n | |Rebroadcast{0} [id CF] <TensorType(int32, 3D)> ''   \n | |ScalarFromTensor [id CK] <int64> ''   \n |   |Subtensor{int64} [id CD] <TensorType(int64, scalar)> ''   \n |IncSubtensor{Set;:int64:} [id CL] <TensorType(int32, 3D)> ''   \n | |AllocEmpty{dtype='int32'} [id CM] <TensorType(int32, 3D)> ''   \n | | |Elemwise{add,no_inplace} [id CN] <TensorType(int64, scalar)> ''   \n | | | |Elemwise{minimum,no_inplace} [id B] <TensorType(int64, scalar)> ''   \n | | | |Subtensor{int64} [id CO] <TensorType(int64, scalar)> ''   \n | | |   |Shape [id CP] <TensorType(int64, vector)> ''   \n | | |   | |Rebroadcast{0} [id CQ] <TensorType(int32, 3D)> ''   \n | | |   |   |InplaceDimShuffle{x,0,1} [id CR] <TensorType(int32, (True, False, False))> ''   \n | | |   |     |<TensorType(int32, matrix)> [id CS] <TensorType(int32, matrix)>\n | | |   |Constant{0} [id G] <int64>\n | | |Subtensor{int64} [id CT] <TensorType(int64, scalar)> ''   \n | | | |Shape [id CP] <TensorType(int64, vector)> ''   \n | | | |Constant{1} [id BA] <int64>\n | | |Subtensor{int64} [id CU] <TensorType(int64, scalar)> ''   \n | |   |Shape [id CP] <TensorType(int64, vector)> ''   \n | |   |Constant{2} [id BC] <int64>\n | |Rebroadcast{0} [id CQ] <TensorType(int32, 3D)> ''   \n | |ScalarFromTensor [id CV] <int64> ''   \n |   |Subtensor{int64} [id CO] <TensorType(int64, scalar)> ''   \n |Elemwise{minimum,no_inplace} [id B] <TensorType(int64, scalar)> ''   \n |bnn.rho [id CW] <TensorType(float32, matrix)>\n |bnn.mu [id CX] <TensorType(float32, matrix)>\n |bnn.mu [id CY] <TensorType(float32, matrix)>\n |bnn.rho [id CZ] <TensorType(float32, matrix)>\n |bnn.mu [id DA] <TensorType(float32, vector)>\n |bnn.rho [id DB] <TensorType(float32, vector)>\n |bnn.mu [id DC] <TensorType(float32, matrix)>\n |bnn.rho [id DD] <TensorType(float32, matrix)>\n |bnn.mu [id DE] <TensorType(float32, vector)>\n |bnn.rho [id DF] <TensorType(float32, vector)>\nfor{cpu,scan_fn}.1 [id A] <TensorType(int32, 3D)> ''   \nfor{cpu,scan_fn}.2 [id A] <TensorType(int32, 3D)> ''   \nfor{cpu,scan_fn}.3 [id A] <TensorType(int32, 3D)> ''   \nfor{cpu,scan_fn}.4 [id A] <TensorType(int32, 3D)> ''   \nfor{cpu,scan_fn}.5 [id A] <TensorType(float64, vector)> ''   \n\nInner graphs of the scan ops:\n\nfor{cpu,scan_fn}.0 [id A] <TensorType(int32, 3D)> ''   \n >mrg_uniform{TensorType(float32, vector),no_inplace}.0 [id DG] <TensorType(int32, matrix)> ''   \n > |<TensorType(int32, matrix)> [id DH] <TensorType(int32, matrix)> -> [id R]\n > |TensorConstant{(1,) of 42} [id DI] <TensorType(int64, (True,))>\n >mrg_uniform{TensorType(float32, vector),no_inplace}.0 [id DJ] <TensorType(int32, matrix)> ''   \n > |<TensorType(int32, matrix)> [id DK] <TensorType(int32, matrix)> -> [id BE]\n > |TensorConstant{(1,) of 2800} [id DL] <TensorType(int64, (True,))>\n >mrg_uniform{TensorType(float32, vector),no_inplace}.0 [id DM] <TensorType(int32, matrix)> ''   \n > |<TensorType(int32, matrix)> [id DN] <TensorType(int32, matrix)> -> [id BP]\n > |TensorConstant{(1,) of 50} [id DO] <TensorType(int64, (True,))>\n >mrg_uniform{TensorType(float32, vector),no_inplace}.0 [id DP] <TensorType(int32, matrix)> ''   \n > |<TensorType(int32, matrix)> [id DQ] <TensorType(int32, matrix)> -> [id CA]\n > |TensorConstant{(1,) of 700} [id DR] <TensorType(int64, (True,))>\n >mrg_uniform{TensorType(float32, vector),no_inplace}.0 [id DS] <TensorType(int32, matrix)> ''   \n > |<TensorType(int32, matrix)> [id DT] <TensorType(int32, matrix)> -> [id CL]\n > |TensorConstant{(1,) of 14} [id DU] <TensorType(int64, (True,))>\n >Elemwise{sub,no_inplace} [id DV] <TensorType(float64, scalar)> ''   \n > |Elemwise{mul,no_inplace} [id DW] <TensorType(float32, scalar)> ''   \n > | |Elemwise{add,no_inplace} [id DX] <TensorType(float32, scalar)> ''   \n > | | |Elemwise{sub,no_inplace} [id DY] <TensorType(float32, scalar)> ''   \n > | | | |Elemwise{add,no_inplace} [id DZ] <TensorType(float32, scalar)> ''   \n > | | | | |Sum{acc_dtype=float64} [id EA] <TensorType(float32, scalar)> ''   \n > | | | | | |Elemwise{pow,no_inplace} [id EB] <TensorType(float32, vector)> ''   \n > | | | | |   |Elemwise{true_div,no_inplace} [id EC] <TensorType(float32, vector)> ''   \n > | | | | |   | |Elemwise{log1p,no_inplace} [id ED] <TensorType(float32, vector)> ''   \n > | | | | |   | | |Elemwise{exp,no_inplace} [id EE] <TensorType(float32, vector)> ''   \n > | | | | |   | |   |Join [id EF] <TensorType(float32, vector)> ''   \n > | | | | |   | |     |TensorConstant{0} [id EG] <TensorType(int8, scalar)>\n > | | | | |   | |     |Reshape{1} [id EH] <TensorType(float32, vector)> ''   \n > | | | | |   | |     | |Elemwise{sub,no_inplace} [id EI] <TensorType(float32, matrix)> 'new_rho'   \n > | | | | |   | |     | |TensorConstant{(1,) of -1} [id EJ] <TensorType(int64, (True,))>\n > | | | | |   | |     |Reshape{1} [id EK] <TensorType(float32, vector)> ''   \n > | | | | |   | |     | |Elemwise{sub,no_inplace} [id EL] <TensorType(float32, matrix)> 'new_rho'   \n > | | | | |   | |     | |TensorConstant{(1,) of -1} [id EJ] <TensorType(int64, (True,))>\n > | | | | |   | |     |Reshape{1} [id EM] <TensorType(float32, vector)> ''   \n > | | | | |   | |     | |Elemwise{sub,no_inplace} [id EN] <TensorType(float32, vector)> 'new_rho'   \n > | | | | |   | |     | |TensorConstant{(1,) of -1} [id EJ] <TensorType(int64, (True,))>\n > | | | | |   | |     |Reshape{1} [id EO] <TensorType(float32, vector)> ''   \n > | | | | |   | |     | |Elemwise{sub,no_inplace} [id EP] <TensorType(float32, matrix)> 'new_rho'   \n > | | | | |   | |     | |TensorConstant{(1,) of -1} [id EJ] <TensorType(int64, (True,))>\n > | | | | |   | |     |Reshape{1} [id EQ] <TensorType(float32, vector)> ''   \n > | | | | |   | |       |Elemwise{sub,no_inplace} [id ER] <TensorType(float32, vector)> 'new_rho'   \n > | | | | |   | |       |TensorConstant{(1,) of -1} [id EJ] <TensorType(int64, (True,))>\n > | | | | |   | |Elemwise{log1p,no_inplace} [id ES] <TensorType(float32, vector)> ''   \n > | | | | |   |   |Elemwise{exp,no_inplace} [id ET] <TensorType(float32, vector)> ''   \n > | | | | |   |     |Join [id EU] <TensorType(float32, vector)> ''   \n > | | | | |   |       |TensorConstant{0} [id EG] <TensorType(int8, scalar)>\n > | | | | |   |       |Reshape{1} [id EV] <TensorType(float32, vector)> ''   \n > | | | | |   |       | |bnn.rho_copy [id EW] <TensorType(float32, matrix)> -> [id CW]\n > | | | | |   |       | |TensorConstant{(1,) of -1} [id EJ] <TensorType(int64, (True,))>\n > | | | | |   |       |Reshape{1} [id EX] <TensorType(float32, vector)> ''   \n > | | | | |   |       | |bnn.rho_copy [id EY] <TensorType(float32, matrix)> -> [id CZ]\n > | | | | |   |       | |TensorConstant{(1,) of -1} [id EJ] <TensorType(int64, (True,))>\n > | | | | |   |       |Reshape{1} [id EZ] <TensorType(float32, vector)> ''   \n > | | | | |   |       | |bnn.rho_copy [id FA] <TensorType(float32, vector)> -> [id DB]\n > | | | | |   |       | |TensorConstant{(1,) of -1} [id EJ] <TensorType(int64, (True,))>\n > | | | | |   |       |Reshape{1} [id FB] <TensorType(float32, vector)> ''   \n > | | | | |   |       | |bnn.rho_copy [id FC] <TensorType(float32, matrix)> -> [id DD]\n > | | | | |   |       | |TensorConstant{(1,) of -1} [id EJ] <TensorType(int64, (True,))>\n > | | | | |   |       |Reshape{1} [id FD] <TensorType(float32, vector)> ''   \n > | | | | |   |         |bnn.rho_copy [id FE] <TensorType(float32, vector)> -> [id DF]\n > | | | | |   |         |TensorConstant{(1,) of -1} [id EJ] <TensorType(int64, (True,))>\n > | | | | |   |TensorConstant{(1,) of 2} [id FF] <TensorType(int8, (True,))>\n > | | | | |Elemwise{mul,no_inplace} [id FG] <TensorType(float32, scalar)> ''   \n > | | | |   |TensorConstant{2} [id FH] <TensorType(int8, scalar)>\n > | | | |   |Sum{acc_dtype=float64} [id FI] <TensorType(float32, scalar)> ''   \n > | | | |     |Elemwise{log,no_inplace} [id FJ] <TensorType(float32, vector)> ''   \n > | | | |       |Elemwise{log1p,no_inplace} [id ES] <TensorType(float32, vector)> ''   \n > | | | |Elemwise{mul,no_inplace} [id FK] <TensorType(float32, scalar)> ''   \n > | | |   |TensorConstant{2} [id FH] <TensorType(int8, scalar)>\n > | | |   |Sum{acc_dtype=float64} [id FL] <TensorType(float32, scalar)> ''   \n > | | |     |Elemwise{log,no_inplace} [id FM] <TensorType(float32, vector)> ''   \n > | | |       |Elemwise{log1p,no_inplace} [id ED] <TensorType(float32, vector)> ''   \n > | | |Sum{acc_dtype=float64} [id FN] <TensorType(float32, scalar)> ''   \n > | |   |Elemwise{pow,no_inplace} [id FO] <TensorType(float32, vector)> ''   \n > | |     |Elemwise{true_div,no_inplace} [id FP] <TensorType(float32, vector)> ''   \n > | |     | |Elemwise{sub,no_inplace} [id FQ] <TensorType(float32, vector)> ''   \n > | |     | | |Join [id FR] <TensorType(float32, vector)> ''   \n > | |     | | | |TensorConstant{0} [id EG] <TensorType(int8, scalar)>\n > | |     | | | |Reshape{1} [id FS] <TensorType(float32, vector)> ''   \n > | |     | | | | |Elemwise{sub,no_inplace} [id FT] <TensorType(float32, matrix)> 'new_mu'   \n > | |     | | | | |TensorConstant{(1,) of -1} [id EJ] <TensorType(int64, (True,))>\n > | |     | | | |Reshape{1} [id FU] <TensorType(float32, vector)> ''   \n > | |     | | | | |Elemwise{sub,no_inplace} [id FV] <TensorType(float32, matrix)> 'new_mu'   \n > | |     | | | | |TensorConstant{(1,) of -1} [id EJ] <TensorType(int64, (True,))>\n > | |     | | | |Reshape{1} [id FW] <TensorType(float32, vector)> ''   \n > | |     | | | | |Elemwise{sub,no_inplace} [id FX] <TensorType(float32, vector)> 'new_mu'   \n > | |     | | | | |TensorConstant{(1,) of -1} [id EJ] <TensorType(int64, (True,))>\n > | |     | | | |Reshape{1} [id FY] <TensorType(float32, vector)> ''   \n > | |     | | | | |Elemwise{sub,no_inplace} [id FZ] <TensorType(float32, matrix)> 'new_mu'   \n > | |     | | | | |TensorConstant{(1,) of -1} [id EJ] <TensorType(int64, (True,))>\n > | |     | | | |Reshape{1} [id GA] <TensorType(float32, vector)> ''   \n > | |     | | |   |Elemwise{sub,no_inplace} [id GB] <TensorType(float32, vector)> 'new_mu'   \n > | |     | | |   |TensorConstant{(1,) of -1} [id EJ] <TensorType(int64, (True,))>\n > | |     | | |Join [id GC] <TensorType(float32, vector)> ''   \n > | |     | |   |TensorConstant{0} [id EG] <TensorType(int8, scalar)>\n > | |     | |   |Reshape{1} [id GD] <TensorType(float32, vector)> ''   \n > | |     | |   | |bnn.mu_copy [id GE] <TensorType(float32, matrix)> -> [id CX]\n > | |     | |   | |TensorConstant{(1,) of -1} [id EJ] <TensorType(int64, (True,))>\n > | |     | |   |Reshape{1} [id GF] <TensorType(float32, vector)> ''   \n > | |     | |   | |bnn.mu_copy [id GG] <TensorType(float32, matrix)> -> [id CY]\n > | |     | |   | |TensorConstant{(1,) of -1} [id EJ] <TensorType(int64, (True,))>\n > | |     | |   |Reshape{1} [id GH] <TensorType(float32, vector)> ''   \n > | |     | |   | |bnn.mu_copy [id GI] <TensorType(float32, vector)> -> [id DA]\n > | |     | |   | |TensorConstant{(1,) of -1} [id EJ] <TensorType(int64, (True,))>\n > | |     | |   |Reshape{1} [id GJ] <TensorType(float32, vector)> ''   \n > | |     | |   | |bnn.mu_copy [id GK] <TensorType(float32, matrix)> -> [id DC]\n > | |     | |   | |TensorConstant{(1,) of -1} [id EJ] <TensorType(int64, (True,))>\n > | |     | |   |Reshape{1} [id GL] <TensorType(float32, vector)> ''   \n > | |     | |     |bnn.mu_copy [id GM] <TensorType(float32, vector)> -> [id DE]\n > | |     | |     |TensorConstant{(1,) of -1} [id EJ] <TensorType(int64, (True,))>\n > | |     | |Elemwise{log1p,no_inplace} [id ES] <TensorType(float32, vector)> ''   \n > | |     |TensorConstant{(1,) of 2} [id FF] <TensorType(int8, (True,))>\n > | |TensorConstant{0.5} [id GN] <TensorType(float32, scalar)>\n > |Elemwise{mul,no_inplace} [id GO] <TensorType(float64, scalar)> ''   \n >   |TensorConstant{0.5} [id GN] <TensorType(float32, scalar)>\n >   |Subtensor{int64} [id GP] <TensorType(int64, scalar)> ''   \n >     |Shape [id GQ] <TensorType(int64, vector)> ''   \n >     | |Elemwise{log1p,no_inplace} [id ED] <TensorType(float32, vector)> ''   \n >     |Constant{0} [id GR] <int64>\n\nfor{cpu,scan_fn}.1 [id A] <TensorType(int32, 3D)> ''   \n >mrg_uniform{TensorType(float32, vector),no_inplace}.0 [id DG] <TensorType(int32, matrix)> ''   \n >mrg_uniform{TensorType(float32, vector),no_inplace}.0 [id DJ] <TensorType(int32, matrix)> ''   \n >mrg_uniform{TensorType(float32, vector),no_inplace}.0 [id DM] <TensorType(int32, matrix)> ''   \n >mrg_uniform{TensorType(float32, vector),no_inplace}.0 [id DP] <TensorType(int32, matrix)> ''   \n >mrg_uniform{TensorType(float32, vector),no_inplace}.0 [id DS] <TensorType(int32, matrix)> ''   \n >Elemwise{sub,no_inplace} [id DV] <TensorType(float64, scalar)> ''   \n\nfor{cpu,scan_fn}.2 [id A] <TensorType(int32, 3D)> ''   \n >mrg_uniform{TensorType(float32, vector),no_inplace}.0 [id DG] <TensorType(int32, matrix)> ''   \n >mrg_uniform{TensorType(float32, vector),no_inplace}.0 [id DJ] <TensorType(int32, matrix)> ''   \n >mrg_uniform{TensorType(float32, vector),no_inplace}.0 [id DM] <TensorType(int32, matrix)> ''   \n >mrg_uniform{TensorType(float32, vector),no_inplace}.0 [id DP] <TensorType(int32, matrix)> ''   \n >mrg_uniform{TensorType(float32, vector),no_inplace}.0 [id DS] <TensorType(int32, matrix)> ''   \n >Elemwise{sub,no_inplace} [id DV] <TensorType(float64, scalar)> ''   \n\nfor{cpu,scan_fn}.3 [id A] <TensorType(int32, 3D)> ''   \n >mrg_uniform{TensorType(float32, vector),no_inplace}.0 [id DG] <TensorType(int32, matrix)> ''   \n >mrg_uniform{TensorType(float32, vector),no_inplace}.0 [id DJ] <TensorType(int32, matrix)> ''   \n >mrg_uniform{TensorType(float32, vector),no_inplace}.0 [id DM] <TensorType(int32, matrix)> ''   \n >mrg_uniform{TensorType(float32, vector),no_inplace}.0 [id DP] <TensorType(int32, matrix)> ''   \n >mrg_uniform{TensorType(float32, vector),no_inplace}.0 [id DS] <TensorType(int32, matrix)> ''   \n >Elemwise{sub,no_inplace} [id DV] <TensorType(float64, scalar)> ''   \n\nfor{cpu,scan_fn}.4 [id A] <TensorType(int32, 3D)> ''   \n >mrg_uniform{TensorType(float32, vector),no_inplace}.0 [id DG] <TensorType(int32, matrix)> ''   \n >mrg_uniform{TensorType(float32, vector),no_inplace}.0 [id DJ] <TensorType(int32, matrix)> ''   \n >mrg_uniform{TensorType(float32, vector),no_inplace}.0 [id DM] <TensorType(int32, matrix)> ''   \n >mrg_uniform{TensorType(float32, vector),no_inplace}.0 [id DP] <TensorType(int32, matrix)> ''   \n >mrg_uniform{TensorType(float32, vector),no_inplace}.0 [id DS] <TensorType(int32, matrix)> ''   \n >Elemwise{sub,no_inplace} [id DV] <TensorType(float64, scalar)> ''   \n\nfor{cpu,scan_fn}.5 [id A] <TensorType(float64, vector)> ''   \n >mrg_uniform{TensorType(float32, vector),no_inplace}.0 [id DG] <TensorType(int32, matrix)> ''   \n >mrg_uniform{TensorType(float32, vector),no_inplace}.0 [id DJ] <TensorType(int32, matrix)> ''   \n >mrg_uniform{TensorType(float32, vector),no_inplace}.0 [id DM] <TensorType(int32, matrix)> ''   \n >mrg_uniform{TensorType(float32, vector),no_inplace}.0 [id DP] <TensorType(int32, matrix)> ''   \n >mrg_uniform{TensorType(float32, vector),no_inplace}.0 [id DS] <TensorType(int32, matrix)> ''   \n >Elemwise{sub,no_inplace} [id DV] <TensorType(float64, scalar)> ''   \n\nStorage map footprint:\n - IncSubtensor{Set;:int64:}.0, Shape: (10, 15360, 6), ElemSize: 4 Byte(s), TotalSize: 3686400 Byte(s)\n - IncSubtensor{Set;:int64:}.0, Shape: (10, 15360, 6), ElemSize: 4 Byte(s), TotalSize: 3686400 Byte(s)\n - IncSubtensor{Set;:int64:}.0, Shape: (10, 15360, 6), ElemSize: 4 Byte(s), TotalSize: 3686400 Byte(s)\n - IncSubtensor{Set;:int64:}.0, Shape: (10, 15360, 6), ElemSize: 4 Byte(s), TotalSize: 3686400 Byte(s)\n - IncSubtensor{Set;:int64:}.0, Shape: (10, 15360, 6), ElemSize: 4 Byte(s), TotalSize: 3686400 Byte(s)\n - for{cpu,scan_fn}.0, Shape: (10, 15360, 6), ElemSize: 4 Byte(s), TotalSize: 3686400 Byte(s)\n - for{cpu,scan_fn}.1, Shape: (10, 15360, 6), ElemSize: 4 Byte(s), TotalSize: 3686400 Byte(s)\n - for{cpu,scan_fn}.2, Shape: (10, 15360, 6), ElemSize: 4 Byte(s), TotalSize: 3686400 Byte(s)\n - for{cpu,scan_fn}.3, Shape: (10, 15360, 6), ElemSize: 4 Byte(s), TotalSize: 3686400 Byte(s)\n - for{cpu,scan_fn}.4, Shape: (10, 15360, 6), ElemSize: 4 Byte(s), TotalSize: 3686400 Byte(s)\n - <TensorType(int32, matrix)>, Shared Input, Shape: (15360, 6), ElemSize: 4 Byte(s), TotalSize: 368640 Byte(s)\n - <TensorType(int32, matrix)>, Shared Input, Shape: (15360, 6), ElemSize: 4 Byte(s), TotalSize: 368640 Byte(s)\n - <TensorType(int32, matrix)>, Shared Input, Shape: (15360, 6), ElemSize: 4 Byte(s), TotalSize: 368640 Byte(s)\n - <TensorType(int32, matrix)>, Shared Input, Shape: (15360, 6), ElemSize: 4 Byte(s), TotalSize: 368640 Byte(s)\n - <TensorType(int32, matrix)>, Shared Input, Shape: (15360, 6), ElemSize: 4 Byte(s), TotalSize: 368640 Byte(s)\n - bnn.mu, Shared Input, Shape: (56, 50), ElemSize: 4 Byte(s), TotalSize: 11200 Byte(s)\n - bnn.rho, Shared Input, Shape: (56, 50), ElemSize: 4 Byte(s), TotalSize: 11200 Byte(s)\n - bnn.mu, Shared Input, Shape: (50, 14), ElemSize: 4 Byte(s), TotalSize: 2800 Byte(s)\n - bnn.rho, Shared Input, Shape: (50, 14), ElemSize: 4 Byte(s), TotalSize: 2800 Byte(s)\n - previous states, Input, Shape: (9, 14), ElemSize: 4 Byte(s), TotalSize: 504 Byte(s)\n - actions, Input, Shape: (126,), ElemSize: 4 Byte(s), TotalSize: 504 Byte(s)\n - next states, Input, Shape: (9, 14), ElemSize: 4 Byte(s), TotalSize: 504 Byte(s)\n - Subtensor{:int64:}.0, Shape: (9, 14), ElemSize: 4 Byte(s), TotalSize: 504 Byte(s)\n - Subtensor{:int64:}.0, Shape: (9, 14), ElemSize: 4 Byte(s), TotalSize: 504 Byte(s)\n - bnn.mu, Shared Input, Shape: (50,), ElemSize: 4 Byte(s), TotalSize: 200 Byte(s)\n - bnn.rho, Shared Input, Shape: (50,), ElemSize: 4 Byte(s), TotalSize: 200 Byte(s)\n - bnn.rho, Shared Input, Shape: (14, 3), ElemSize: 4 Byte(s), TotalSize: 168 Byte(s)\n - bnn.mu, Shared Input, Shape: (14, 3), ElemSize: 4 Byte(s), TotalSize: 168 Byte(s)\n - bnn.mu, Shared Input, Shape: (14,), ElemSize: 4 Byte(s), TotalSize: 56 Byte(s)\n - bnn.rho, Shared Input, Shape: (14,), ElemSize: 4 Byte(s), TotalSize: 56 Byte(s)\n - Subtensor{:int64:}.0, Shape: (9,), ElemSize: 4 Byte(s), TotalSize: 36 Byte(s)\n - Constant{0}, Shape: (), ElemSize: 8 Byte(s), TotalSize: 8.0 Byte(s)\n - Constant{2}, Shape: (), ElemSize: 8 Byte(s), TotalSize: 8.0 Byte(s)\n - Constant{1}, Shape: (), ElemSize: 8 Byte(s), TotalSize: 8.0 Byte(s)\n - Elemwise{minimum,no_inplace}.0, Shape: (), ElemSize: 8 Byte(s), TotalSize: 8.0 Byte(s)\n - Constant{-1}, Shape: (), ElemSize: 8 Byte(s), TotalSize: 8.0 Byte(s)\n TotalSize: 38738644.0 Byte(s) 0.036 GB\n TotalSize inputs: 1873592.0 Byte(s) 0.002 GB\n\n"
     ],
     "output_type": "error"
    }
   ],
   "source": [
    "#pre-fill pool\n",
    "for i in tqdm(range(1000)):\n",
    "    pool.update(SEQ_LENGTH, append=True, preprocess=bnn.add_vime_reward)"
   ]
  },
  {
   "cell_type": "code",
   "execution_count": null,
   "metadata": {
    "collapsed": false,
    "scrolled": false
   },
   "outputs": [],
   "source": [
    "#pre-train BNN (mitigate training lag on first iterations where BNN is stupid)\n",
    "for i in tqdm(range(1000)):\n",
    "    bnn.train_step(*bnn.sample_from_pool())"
   ]
  },
  {
   "cell_type": "code",
   "execution_count": null,
   "metadata": {
    "collapsed": false,
    "scrolled": true
   },
   "outputs": [],
   "source": [
    "#the loop may take eons to finish.\n",
    "#consider interrupting early.\n",
    "loss = 0\n",
    "for i in tqdm(range(1000)):    \n",
    "    \n",
    "    \n",
    "    #train\n",
    "    for i in range(10):\n",
    "        pool.update(SEQ_LENGTH,append=True,preprocess=bnn.add_vime_reward)\n",
    "\n",
    "    for i in range(10):\n",
    "        loss = loss*0.99 + train_step()*0.01\n",
    "    \n",
    "    for i in range(10):\n",
    "        bnn.train_step(*bnn.sample_from_pool())\n",
    "\n",
    "    if epoch_counter%100==0:\n",
    "        #average reward per game tick in current experience replay pool\n",
    "        pool_mean_reward = np.average(pool.experience_replay.rewards.get_value()[:,:-1],\n",
    "                                      weights=1+pool.experience_replay.is_alive.get_value()[:,:-1])\n",
    "        pool_size = pool.experience_replay.rewards.get_value().shape[0]\n",
    "        print(\"iter=%i\\treward/step=%.5f\\tpool_size=%i\\tvime ma=%.5f\"%(epoch_counter,\n",
    "                                                         pool_mean_reward,\n",
    "                                                         pool_size,\n",
    "                                                         bnn.vime_reward_ma))\n",
    "        \n",
    "\n",
    "    ##record current learning progress and show learning curves\n",
    "    if epoch_counter%500 ==0:\n",
    "        n_games = 10\n",
    "        rewards[epoch_counter] = pool.evaluate( record_video=False,n_games=n_games,verbose=False)\n",
    "        print(\"Current score(mean over %i) = %.3f\"%(n_games,np.mean(rewards[epoch_counter])))\n",
    "    \n",
    "    \n",
    "    epoch_counter  +=1\n",
    "\n",
    "    \n",
    "# Time to drink some coffee!"
   ]
  },
  {
   "cell_type": "code",
   "execution_count": null,
   "metadata": {
    "collapsed": false
   },
   "outputs": [],
   "source": [
    "iters, session_rewards=zip(*sorted(rewards.items(),key=lambda pr:pr[0]))"
   ]
  },
  {
   "cell_type": "code",
   "execution_count": null,
   "metadata": {
    "collapsed": false
   },
   "outputs": [],
   "source": [
    "plt.plot(iters,list(map(np.mean, session_rewards)))\n",
    "plt.title(\"Training progress\")\n",
    "plt.xlabel(\"Epoch counter\")\n",
    "plt.ylabel(\"Mean Income\")\n",
    "plt.show()"
   ]
  },
  {
   "cell_type": "code",
   "execution_count": null,
   "metadata": {
    "collapsed": true
   },
   "outputs": [],
   "source": [
    "_,_,_,_,(pool_policy,pool_V) = agent.get_sessions(\n",
    "    pool.experience_replay,\n",
    "    session_length=SEQ_LENGTH,\n",
    "    experience_replay=True,)\n",
    "\n",
    "states = pool.experience_replay.observations[0].get_value().reshape((-1, 5)).T[-2:]\n",
    "values = pool_V.ravel().eval()\n",
    "optimal_actid = pool_policy.argmax(-1).ravel().eval()"
   ]
  },
  {
   "cell_type": "code",
   "execution_count": null,
   "metadata": {
    "collapsed": false
   },
   "outputs": [],
   "source": [
    "plt.scatter(\n",
    "    *states,\n",
    "    c=values,\n",
    "    alpha = 0.1)\n",
    "plt.title(\"predicted state values\")\n",
    "plt.xlabel(\"previous\")\n",
    "plt.ylabel(\"current\")\n",
    "plt.show()"
   ]
  },
  {
   "cell_type": "code",
   "execution_count": null,
   "metadata": {
    "collapsed": false
   },
   "outputs": [],
   "source": [
    "obs_x, obs_y = states\n",
    "\n",
    "for i in range(3):\n",
    "    sel = optimal_actid==i\n",
    "    plt.scatter(obs_x[sel],obs_y[sel],\n",
    "                c=['red','blue','green'][i],\n",
    "                alpha = 0.1,label=action_names[i])\n",
    "    \n",
    "plt.title(\"most likely action id\")\n",
    "plt.xlabel(\"previous\")\n",
    "plt.ylabel(\"current\")\n",
    "plt.legend(loc='best')\n",
    "plt.show()"
   ]
  },
  {
   "cell_type": "code",
   "execution_count": null,
   "metadata": {
    "collapsed": false
   },
   "outputs": [],
   "source": [
    "#for MountainCar-v0 evaluation session is cropped to 200 ticks\n",
    "untrained_reward = pool.evaluate(save_path=\"./records\",record_video=True)"
   ]
  },
  {
   "cell_type": "code",
   "execution_count": null,
   "metadata": {
    "collapsed": true
   },
   "outputs": [],
   "source": [
    ""
   ]
  }
 ],
 "metadata": {
  "anaconda-cloud": {},
  "kernelspec": {
   "display_name": "Python 3",
   "language": "python",
   "name": "python3"
  },
  "language_info": {
   "codemirror_mode": {
    "name": "ipython",
    "version": 3.0
   },
   "file_extension": ".py",
   "mimetype": "text/x-python",
   "name": "python",
   "nbconvert_exporter": "python",
   "pygments_lexer": "ipython3",
   "version": "3.6.0"
  }
 },
 "nbformat": 4,
 "nbformat_minor": 0
}