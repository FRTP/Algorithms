{
 "cells": [
  {
   "cell_type": "code",
   "execution_count": 3,
   "metadata": {
    "collapsed": false,
    "deletable": true,
    "editable": true
   },
   "outputs": [],
   "source": [
    "import pandas as pd\n",
    "import numpy as np\n",
    "import matplotlib.pyplot as plt\n",
    "%matplotlib inline"
   ]
  },
  {
   "cell_type": "code",
   "execution_count": 21,
   "metadata": {
    "collapsed": false
   },
   "outputs": [
    {
     "data": {
      "text/plain": [
       "1"
      ]
     },
     "execution_count": 21,
     "metadata": {},
     "output_type": "execute_result"
    }
   ],
   "source": [
    "#!/usr/bin/env python\n",
    "\n",
    "import numpy as np\n",
    "import matplotlib.pyplot as plt\n",
    "\n",
    "\n",
    "def featureNormalize(X):\n",
    "    \"\"\"FEATURENORMALIZE(X) returns a normalized version of X where\n",
    "    the mean value of each feature is 0 and the standard deviation\n",
    "    is 1. This is often a good preprocessing step to do when\n",
    "    working with learning algorithms.\n",
    "    \"\"\"\n",
    "#     X_norm = X - ???\n",
    "#     mu = np.zeros((1, X.shape[1])) - ???\n",
    "#     sigma = np.zeros((1, X.shape[1])) - ???\n",
    "    \n",
    "    m = len(X)\n",
    "    mu = np.mean(X)\n",
    "    sigma = np.std(X)\n",
    "    X_norm = (X - mu) / sigma\n",
    "    \n",
    "    return X_norm\n",
    "\n",
    "\n",
    "\n",
    "def main():\n",
    "\n",
    "    with open('retDAX.txt', 'r') as f:\n",
    "        tmp = f.read()\n",
    "    retDAX = list(map(lambda x: float(x), tmp.split()))\n",
    "    \n",
    "    with open('DAX.txt', 'r') as f:\n",
    "        tmp = f.read()\n",
    "    DAX = list(map(lambda x: float(x), tmp.split()))\n",
    "\n",
    "    M = 10\n",
    "    T = 500  # The number of time series inputs to the trader\n",
    "    N = 100\n",
    "    \n",
    "    initial_theta = np.ones((M+2, 1))  # initialize theta\n",
    "    \n",
    "    X = retDAX\n",
    "    \n",
    "    Xn = featureNormalize(X)\n",
    "    \n",
    "    \n",
    "    \n",
    "    return 1\n",
    "\n",
    "main()\n"
   ]
  },
  {
   "cell_type": "code",
   "execution_count": 16,
   "metadata": {
    "collapsed": true
   },
   "outputs": [],
   "source": [
    "np.std()"
   ]
  },
  {
   "cell_type": "code",
   "execution_count": 17,
   "metadata": {
    "collapsed": false,
    "scrolled": true
   },
   "outputs": [
    {
     "data": {
      "text/plain": [
       "[6444.74,\n",
       " 6569.48,\n",
       " 6561.47,\n",
       " 6694.44,\n",
       " 6710.77,\n",
       " 6761.19,\n",
       " 6801.32,\n",
       " 6739.9,\n",
       " 6704.5,\n",
       " 6590.41,\n",
       " 6523.0,\n",
       " 6750.12,\n",
       " 6671.22,\n",
       " 673.0]"
      ]
     },
     "execution_count": 17,
     "metadata": {},
     "output_type": "execute_result"
    }
   ],
   "source": [
    "list(map(lambda x: float(x), tmp[:102].split()))"
   ]
  },
  {
   "cell_type": "code",
   "execution_count": null,
   "metadata": {
    "collapsed": true
   },
   "outputs": [],
   "source": []
  }
 ],
 "metadata": {
  "kernelspec": {
   "display_name": "Python 3",
   "language": "python",
   "name": "python3"
  },
  "language_info": {
   "codemirror_mode": {
    "name": "ipython",
    "version": 3
   },
   "file_extension": ".py",
   "mimetype": "text/x-python",
   "name": "python",
   "nbconvert_exporter": "python",
   "pygments_lexer": "ipython3",
   "version": "3.6.1"
  }
 },
 "nbformat": 4,
 "nbformat_minor": 0
}
