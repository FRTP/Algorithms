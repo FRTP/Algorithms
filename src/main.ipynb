{
 "cells": [
  {
   "cell_type": "code",
   "execution_count": 1,
   "metadata": {
    "collapsed": true
   },
   "outputs": [],
   "source": [
    "import tqdm\n",
    "import numpy as np\n",
    "import pandas as pd\n",
    "import matplotlib.pyplot as plt\n",
    "%matplotlib inline\n",
    "\n",
    "%load_ext autoreload\n",
    "%autoreload 2\n",
    "from trader.utils import *\n",
    "from trader.tradertk import *"
   ]
  },
  {
   "cell_type": "code",
   "execution_count": 18,
   "metadata": {
    "collapsed": true
   },
   "outputs": [],
   "source": [
    "def get_data(file_name):\n",
    "    stock_data = pd.read_csv(file_name)\n",
    "    \n",
    "    # Sort data by date.\n",
    "    stock_data['Date'] = pd.to_datetime(stock_data['Date'])\n",
    "    stock_data = stock_data.sort_values(by='Date')\n",
    "    stock_data.reset_index(drop=True, inplace=True)\n",
    "    \n",
    "    sliced_data = stock_data['Open']\n",
    "\n",
    "    # Just getting returns.\n",
    "    returns = [0]\n",
    "    for i in range(1, len(sliced_data)):\n",
    "        returns.append(sliced_data[i] - sliced_data[i-1])\n",
    "    \n",
    "    plt.plot(sliced_data)\n",
    "    plt.title(file_name)\n",
    "    plt.xlabel('time')\n",
    "    plt.show()\n",
    "    \n",
    "    return sliced_data, returns\n",
    "\n",
    "\n",
    "def agent_run(just_data, returns, M, window_size, n_steps, start_position, name='_',\n",
    "              miu=1, delta=0.0006, num_iter_learn=100, learning_rate_0=0.01, is_dynam_lr=False):\n",
    "    \"\"\"\n",
    "    Start trading using initial parameters.\n",
    "    \n",
    "    Parameters\n",
    "    ----------\n",
    "    just_data : list\n",
    "        List of prices.\n",
    "    returns : list\n",
    "        List of returns.\n",
    "    M : int\n",
    "        The number of time series inputs to the trader.\n",
    "    window_size : int\n",
    "        Size of historical window.\n",
    "    n_steps : int\n",
    "        Number of steps to make predictions.\n",
    "    start_position : int\n",
    "        Start-postion time step.\n",
    "    name : str\n",
    "        The name of Stocks (the default in '_').\n",
    "    miu : float, optinonal\n",
    "        Maximum possible number of shares per transaction (the default is 1).\n",
    "    delta : float, optinonal\n",
    "        (the default is 0.0006, which is used at stocks in Moscow).\n",
    "    num_iter_learn : int, optinonal\n",
    "        (the default is 0.01).\n",
    "    learning_rate_0 : float, optinonal\n",
    "        Learning rate (the default is 0.01).\n",
    "    is_dynam_lr : bool, oprional\n",
    "        Flag to use or not dynamic learning rate (the default is False).\n",
    "        \n",
    "    Returns\n",
    "    -------\n",
    "    Nothing. It just trades and plots :).\n",
    "    \n",
    "    \"\"\"\n",
    "    w = np.random.uniform(-0.1, 0.1, M + 3)  # Weights initialization.\n",
    "\n",
    "    F_predictions = []  # Agent's actions.\n",
    "    \n",
    "    # They are both needed for training.\n",
    "    F_last_value = 0\n",
    "    F_first_value = 0\n",
    "    \n",
    "    # Iterate over time from start_position to start_position + n_steps.\n",
    "    # Make prediction from \n",
    "    for t1 in tqdm.tqdm(range(start_position, start_position+n_steps)):\n",
    "        t_pred = t1 + window_size\n",
    "        \n",
    "        if is_dynam_lr:\n",
    "            # Dynamic learning rate.\n",
    "            learning_rate = learning_rate_0 * (n_steps - t1) / n_steps\n",
    "        else:\n",
    "            learning_rate = learning_rate_0\n",
    "\n",
    "        # Training on previous history.\n",
    "        for _ in range(num_iter_learn):\n",
    "            X = build_x_matrix(t1, window_size, M, returns, w, F_first_value)\n",
    "            \n",
    "            # Just getting last coordinate of vectors from matrix X.\n",
    "            F = get_trader_func(X)\n",
    "            \n",
    "            # Calculate rewards and sharpe.\n",
    "            Rewards, s_ratio = get_rewards(t1, returns, F, miu, delta)\n",
    "            \n",
    "            # Calculate gradient dF/dW.\n",
    "            dFt = get_grad_F_w(X, w)\n",
    "\n",
    "            # Calculate gradient dS/dW.\n",
    "            grad = get_grad_S_w(t1, Rewards, returns, F, miu, delta, dFt)\n",
    "            \n",
    "            # Update weights.\n",
    "            w += learning_rate * grad\n",
    "        ## End of the training on history.\n",
    "\n",
    "        F_first_value = F[1]\n",
    "        F_last_value = F[-1]\n",
    "        \n",
    "        # Make prediction for time_step t1 + 1.\n",
    "        F_predictions.append(trader_function(build_x_vector(t_pred, M, returns, F_last_value), w))\n",
    "    ## End of iteration from start_position to start_position + n_steps. \n",
    "\n",
    "\n",
    "    # Calculate rewards and sharpe on predicted data.\n",
    "    rewards_predictions, sharp = get_rewards(start_position + window_size, returns, \n",
    "                                             np.array(F_predictions), miu, delta)\n",
    "\n",
    "    # Just calculating the money we've earned [or lost].\n",
    "    money = [0]\n",
    "    for i in range(1, len(rewards_predictions)):\n",
    "        money.append(sum(rewards_predictions[:i]))\n",
    "\n",
    "        \n",
    "    # Here goes many plots.\n",
    "    plt.figure(figsize=(20,10))\n",
    "    \n",
    "    # Agent's actions.\n",
    "    plt.subplot(221)\n",
    "    plt.plot(F_predictions)\n",
    "    plt.title('Predicted $F_t$')\n",
    "    plt.xlabel('time')\n",
    "\n",
    "    # Rewards.\n",
    "    plt.subplot(222)\n",
    "    plt.plot(rewards_predictions)\n",
    "    plt.title('Predicted Rewards')\n",
    "    plt.xlabel('time')\n",
    "\n",
    "    # Stock data.\n",
    "    plt.subplot(223)\n",
    "    plt.plot(just_data[start_position + window_size:start_position + window_size + n_steps])\n",
    "    plt.title(name)\n",
    "    plt.xlabel('time')\n",
    "\n",
    "    # Earned [or lost] money.\n",
    "    plt.subplot(224)\n",
    "    plt.plot(money)\n",
    "    plt.title('Money')\n",
    "    plt.xlabel('time')\n",
    "    plt.show()\n",
    "    \n",
    "    \n",
    "    # Plot last 20 values.\n",
    "    plt.plot(F_predictions[-20:])\n",
    "    plt.title('Predicted $F_t$ - last 20 values')\n",
    "    plt.xlabel('time')\n",
    "    plt.show()\n",
    "    \n",
    "    plt.plot(money[-20:])\n",
    "    plt.title('Money - last 20 values')\n",
    "    plt.xlabel('time')\n",
    "    plt.show()\n",
    "    \n",
    "    plt.plot(just_data[start_position + window_size:start_position + window_size + n_steps][-20:])\n",
    "    plt.title(name + ' - last 20 values')\n",
    "    plt.xlabel('time')\n",
    "    plt.show()"
   ]
  },
  {
   "cell_type": "code",
   "execution_count": 19,
   "metadata": {},
   "outputs": [
    {
     "data": {
      "image/png": "[encoded data removed]",
      "text/plain": [
       "<matplotlib.figure.Figure at 0x1082c5278>"
      ]
     },
     "metadata": {},
     "output_type": "display_data"
    }
   ],
   "source": [
    "data, returns = get_data('data/yah_stocks/EA.csv')"
   ]
  },
  {
   "cell_type": "code",
   "execution_count": 20,
   "metadata": {},
   "outputs": [
    {
     "name": "stderr",
     "output_type": "stream",
     "text": [
      "\r",
      "  0%|          | 0/1000 [00:00<?, ?it/s]"
     ]
    },
    {
     "name": "stdout",
     "output_type": "stream",
     "text": [
      "[[  1.           0.           0.         ...,   0.           0.           0.        ]\n",
      " [  1.          10.           0.         ...,   0.           0.\n",
      "   -0.03511293]\n",
      " [  1.          -7.          10.         ...,   0.           0.\n",
      "   -0.63067267]\n",
      " ..., \n",
      " [  1.           0.875        2.5        ...,   0.           0.\n",
      "   -0.93338214]\n",
      " [  1.          -5.9375       0.875      ...,   0.           0.\n",
      "    0.97567835]\n",
      " [  1.           3.9375      -5.9375     ...,  10.           0.\n",
      "   -0.82241959]]\n"
     ]
    },
    {
     "name": "stderr",
     "output_type": "stream",
     "text": [
      "\n"
     ]
    },
    {
     "ename": "AssertionError",
     "evalue": "",
     "output_type": "error",
     "traceback": [
      "\u001b[0;31m---------------------------------------------------------------------------\u001b[0m",
      "\u001b[0;31mAssertionError\u001b[0m                            Traceback (most recent call last)",
      "\u001b[0;32m<ipython-input-20-62424021ca81>\u001b[0m in \u001b[0;36m<module>\u001b[0;34m()\u001b[0m\n\u001b[0;32m----> 1\u001b[0;31m \u001b[0magent_run\u001b[0m\u001b[0;34m(\u001b[0m\u001b[0mdata\u001b[0m\u001b[0;34m,\u001b[0m \u001b[0mreturns\u001b[0m\u001b[0;34m,\u001b[0m \u001b[0mname\u001b[0m\u001b[0;34m=\u001b[0m\u001b[0;34m'EA'\u001b[0m\u001b[0;34m,\u001b[0m \u001b[0mM\u001b[0m\u001b[0;34m=\u001b[0m\u001b[0;36m39\u001b[0m\u001b[0;34m,\u001b[0m \u001b[0mwindow_size\u001b[0m\u001b[0;34m=\u001b[0m\u001b[0;36m40\u001b[0m\u001b[0;34m,\u001b[0m \u001b[0mn_steps\u001b[0m\u001b[0;34m=\u001b[0m\u001b[0;36m1000\u001b[0m\u001b[0;34m,\u001b[0m \u001b[0mstart_position\u001b[0m\u001b[0;34m=\u001b[0m\u001b[0;36m0\u001b[0m\u001b[0;34m,\u001b[0m \u001b[0mnum_iter_learn\u001b[0m\u001b[0;34m=\u001b[0m\u001b[0;36m10\u001b[0m\u001b[0;34m)\u001b[0m\u001b[0;34m\u001b[0m\u001b[0m\n\u001b[0m",
      "\u001b[0;32m<ipython-input-18-e134b19ed46e>\u001b[0m in \u001b[0;36magent_run\u001b[0;34m(just_data, returns, M, window_size, n_steps, start_position, name, miu, delta, num_iter_learn, learning_rate_0, is_dynam_lr)\u001b[0m\n\u001b[1;32m     89\u001b[0m \u001b[0;34m\u001b[0m\u001b[0m\n\u001b[1;32m     90\u001b[0m             \u001b[0;31m# Calculate gradient dF/dW.\u001b[0m\u001b[0;34m\u001b[0m\u001b[0;34m\u001b[0m\u001b[0m\n\u001b[0;32m---> 91\u001b[0;31m             \u001b[0mdFt\u001b[0m \u001b[0;34m=\u001b[0m \u001b[0mget_grad_F_w\u001b[0m\u001b[0;34m(\u001b[0m\u001b[0mX\u001b[0m\u001b[0;34m,\u001b[0m \u001b[0mw\u001b[0m\u001b[0;34m)\u001b[0m\u001b[0;34m\u001b[0m\u001b[0m\n\u001b[0m\u001b[1;32m     92\u001b[0m \u001b[0;34m\u001b[0m\u001b[0m\n\u001b[1;32m     93\u001b[0m             \u001b[0;31m# Calculate gradient dS/dW.\u001b[0m\u001b[0;34m\u001b[0m\u001b[0;34m\u001b[0m\u001b[0m\n",
      "\u001b[0;32m/Users/AntonKarazeev/WD/cloned_git/Algorithms/src/trader/tradertk.py\u001b[0m in \u001b[0;36mget_grad_F_w\u001b[0;34m(X_input, w_input)\u001b[0m\n\u001b[1;32m    166\u001b[0m     \"\"\"\n\u001b[1;32m    167\u001b[0m     \u001b[0mprint\u001b[0m\u001b[0;34m(\u001b[0m\u001b[0mX_input\u001b[0m\u001b[0;34m)\u001b[0m\u001b[0;34m\u001b[0m\u001b[0m\n\u001b[0;32m--> 168\u001b[0;31m     \u001b[0;32massert\u001b[0m\u001b[0;34m(\u001b[0m\u001b[0;36m0\u001b[0m\u001b[0;34m)\u001b[0m\u001b[0;34m\u001b[0m\u001b[0m\n\u001b[0m\u001b[1;32m    169\u001b[0m     \u001b[0mdFt\u001b[0m \u001b[0;34m=\u001b[0m \u001b[0mnp\u001b[0m\u001b[0;34m.\u001b[0m\u001b[0mzeros\u001b[0m\u001b[0;34m(\u001b[0m\u001b[0mX_input\u001b[0m\u001b[0;34m.\u001b[0m\u001b[0mshape\u001b[0m\u001b[0;34m)\u001b[0m\u001b[0;34m\u001b[0m\u001b[0m\n\u001b[1;32m    170\u001b[0m     \u001b[0mdFt\u001b[0m\u001b[0;34m[\u001b[0m\u001b[0;36m0\u001b[0m\u001b[0;34m]\u001b[0m \u001b[0;34m=\u001b[0m \u001b[0;34m(\u001b[0m\u001b[0;36m1\u001b[0m \u001b[0;34m-\u001b[0m \u001b[0;34m(\u001b[0m\u001b[0mtrader_function\u001b[0m\u001b[0;34m(\u001b[0m\u001b[0mX_input\u001b[0m\u001b[0;34m[\u001b[0m\u001b[0;36m0\u001b[0m\u001b[0;34m]\u001b[0m\u001b[0;34m,\u001b[0m \u001b[0mw_input\u001b[0m\u001b[0;34m)\u001b[0m \u001b[0;34m**\u001b[0m \u001b[0;36m2\u001b[0m\u001b[0;34m)\u001b[0m\u001b[0;34m)\u001b[0m \u001b[0;34m*\u001b[0m \u001b[0mX_input\u001b[0m\u001b[0;34m[\u001b[0m\u001b[0;36m0\u001b[0m\u001b[0;34m]\u001b[0m\u001b[0;34m\u001b[0m\u001b[0m\n",
      "\u001b[0;31mAssertionError\u001b[0m: "
     ]
    }
   ],
   "source": [
    "agent_run(data, returns, name='EA', M=39, window_size=40, n_steps=1000, start_position=0, num_iter_learn=10)"
   ]
  },
  {
   "cell_type": "code",
   "execution_count": null,
   "metadata": {
    "collapsed": true
   },
   "outputs": [],
   "source": []
  }
 ],
 "metadata": {
  "kernelspec": {
   "display_name": "Python 3",
   "language": "python",
   "name": "python3"
  },
  "language_info": {
   "codemirror_mode": {
    "name": "ipython",
    "version": 3
   },
   "file_extension": ".py",
   "mimetype": "text/x-python",
   "name": "python",
   "nbconvert_exporter": "python",
   "pygments_lexer": "ipython3",
   "version": "3.6.1"
  }
 },
 "nbformat": 4,
 "nbformat_minor": 1
}
