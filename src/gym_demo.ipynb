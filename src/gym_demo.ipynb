{
 "cells": [
  {
   "cell_type": "code",
   "execution_count": 1,
   "metadata": {
    "collapsed": false
   },
   "outputs": [],
   "source": [
    "%load_ext autoreload\n",
    "%autoreload 2"
   ]
  },
  {
   "cell_type": "code",
   "execution_count": 2,
   "metadata": {
    "collapsed": true
   },
   "outputs": [],
   "source": [
    "import sys, os\n",
    "sys.path.append(os.getcwd() + '/..')\n",
    "import src"
   ]
  },
  {
   "cell_type": "markdown",
   "metadata": {},
   "source": [
    "# Experiment setup\n",
    "* Here we basically just load the game and check that it works"
   ]
  },
  {
   "cell_type": "code",
   "execution_count": 3,
   "metadata": {
    "collapsed": false
   },
   "outputs": [
    {
     "name": "stdout",
     "output_type": "stream",
     "text": [
      "env: THEANO_FLAGS=\"floatX=float32\"\n"
     ]
    }
   ],
   "source": [
    "from __future__ import print_function \n",
    "import matplotlib.pyplot as plt\n",
    "import numpy as np\n",
    "import gym\n",
    "from tqdm import tqdm\n",
    "\n",
    "%matplotlib inline\n",
    "%env THEANO_FLAGS=\"floatX=float32\""
   ]
  },
  {
   "cell_type": "code",
   "execution_count": 4,
   "metadata": {
    "collapsed": true
   },
   "outputs": [],
   "source": [
    "GAME = \"FrontoPolarStocks-v0\"\n",
    "\n",
    "N_AGENTS = 2\n",
    "SEQ_LENGTH = 13"
   ]
  },
  {
   "cell_type": "code",
   "execution_count": 5,
   "metadata": {
    "collapsed": false
   },
   "outputs": [
    {
     "name": "stderr",
     "output_type": "stream",
     "text": [
      "[2017-05-23 02:55:10,990] Making new env: FrontoPolarStocks-v0\n"
     ]
    },
    {
     "name": "stdout",
     "output_type": "stream",
     "text": [
      "[ 259.850006   21.959999   42.860001   29.23       16.99       24.1\n",
      "   20.110001   37.25       24.459999   12.93       14.26       25.33\n",
      "    9.66        9.48    ]\n"
     ]
    }
   ],
   "source": [
    "env = gym.make(GAME)\n",
    "env.reset()\n",
    "\n",
    "action_shape = (env.action_space.num_discrete_space,)\n",
    "action_emb_shape = (*action_shape, 3)\n",
    "state_shape = env.observation_space.shape\n",
    "\n",
    "state, _, _, _ = env.step([0] * action_shape[0])\n",
    "\n",
    "action_names = np.array([\"sell\", \"pass\", \"buy\"]) #i guess so... i may be wrong\n",
    "\n",
    "print(state)"
   ]
  },
  {
   "cell_type": "markdown",
   "metadata": {},
   "source": [
    "# Basic agent setup\n",
    "Here we define a simple agent that maps game images into Qvalues using shallow neural network.\n"
   ]
  },
  {
   "cell_type": "code",
   "execution_count": 6,
   "metadata": {
    "collapsed": true
   },
   "outputs": [],
   "source": [
    "import theano\n",
    "from theano import tensor as T\n",
    "import lasagne\n",
    "\n",
    "theano.config.exception_verbosity = 'high'\n",
    "theano.config.optimizer = 'fast_compile'"
   ]
  },
  {
   "cell_type": "code",
   "execution_count": 7,
   "metadata": {
    "collapsed": false
   },
   "outputs": [],
   "source": [
    "from agent.agent import build_agent"
   ]
  },
  {
   "cell_type": "code",
   "execution_count": 8,
   "metadata": {
    "collapsed": false
   },
   "outputs": [],
   "source": [
    "agent, action_layer, V_layer = build_agent(action_emb_shape, state_shape)"
   ]
  },
  {
   "cell_type": "code",
   "execution_count": 9,
   "metadata": {
    "collapsed": false
   },
   "outputs": [],
   "source": [
    "#Since it's a single lasagne network, one can get it's weights, output, etc\n",
    "weights = lasagne.layers.get_all_params((action_layer,V_layer),trainable=True)"
   ]
  },
  {
   "cell_type": "markdown",
   "metadata": {},
   "source": [
    "# Create and manage a pool of atari sessions to play with\n",
    "\n",
    "* To make training more stable, we shall have an entire batch of game sessions each happening independent of others\n",
    "* Why several parallel agents help training: http://arxiv.org/pdf/1602.01783v1.pdf\n",
    "* Alternative approach: store more sessions: https://www.cs.toronto.edu/~vmnih/docs/dqn.pdf"
   ]
  },
  {
   "cell_type": "code",
   "execution_count": 10,
   "metadata": {
    "collapsed": false,
    "scrolled": false
   },
   "outputs": [
    {
     "name": "stderr",
     "output_type": "stream",
     "text": [
      "[2017-05-23 02:55:13,116] Making new env: FrontoPolarStocks-v0\n",
      "[2017-05-23 02:55:13,393] Making new env: FrontoPolarStocks-v0\n"
     ]
    }
   ],
   "source": [
    "from agentnet.experiments.openai_gym.pool import EnvPool\n",
    "\n",
    "pool = EnvPool(agent, GAME, N_AGENTS, max_size=10000)"
   ]
  },
  {
   "cell_type": "code",
   "execution_count": 11,
   "metadata": {
    "collapsed": false,
    "scrolled": false
   },
   "outputs": [
    {
     "name": "stdout",
     "output_type": "stream",
     "text": [
      "[[['buy' 'buy' 'buy' 'buy' 'buy' 'buy' 'buy' 'buy' 'buy' 'buy' 'buy' 'buy'\n",
      "   'buy' 'buy']\n",
      "  ['buy' 'buy' 'buy' 'buy' 'buy' 'buy' 'buy' 'buy' 'buy' 'buy' 'buy' 'buy'\n",
      "   'buy' 'buy']\n",
      "  ['buy' 'buy' 'buy' 'buy' 'buy' 'buy' 'buy' 'buy' 'buy' 'buy' 'buy' 'buy'\n",
      "   'buy' 'buy']\n",
      "  ['buy' 'buy' 'buy' 'buy' 'buy' 'buy' 'buy' 'buy' 'buy' 'buy' 'buy' 'buy'\n",
      "   'buy' 'buy']\n",
      "  ['buy' 'buy' 'buy' 'buy' 'buy' 'buy' 'buy' 'buy' 'buy' 'buy' 'buy' 'buy'\n",
      "   'buy' 'buy']\n",
      "  ['buy' 'buy' 'buy' 'buy' 'buy' 'buy' 'buy' 'buy' 'buy' 'buy' 'buy' 'buy'\n",
      "   'buy' 'buy']\n",
      "  ['pass' 'buy' 'pass' 'pass' 'pass' 'pass' 'pass' 'buy' 'buy' 'pass' 'buy'\n",
      "   'pass' 'pass' 'buy']]\n",
      "\n",
      " [['buy' 'buy' 'buy' 'buy' 'buy' 'buy' 'buy' 'buy' 'buy' 'buy' 'buy' 'buy'\n",
      "   'buy' 'buy']\n",
      "  ['buy' 'buy' 'buy' 'buy' 'pass' 'buy' 'buy' 'buy' 'buy' 'buy' 'buy' 'buy'\n",
      "   'buy' 'buy']\n",
      "  ['buy' 'buy' 'buy' 'buy' 'buy' 'buy' 'buy' 'buy' 'buy' 'buy' 'buy' 'buy'\n",
      "   'buy' 'buy']\n",
      "  ['buy' 'buy' 'buy' 'buy' 'buy' 'buy' 'buy' 'buy' 'buy' 'buy' 'buy' 'buy'\n",
      "   'buy' 'buy']\n",
      "  ['buy' 'buy' 'buy' 'buy' 'buy' 'buy' 'buy' 'buy' 'buy' 'buy' 'buy' 'buy'\n",
      "   'buy' 'buy']\n",
      "  ['buy' 'buy' 'buy' 'buy' 'pass' 'buy' 'buy' 'buy' 'buy' 'buy' 'buy' 'buy'\n",
      "   'buy' 'buy']\n",
      "  ['sell' 'sell' 'sell' 'buy' 'buy' 'buy' 'buy' 'buy' 'pass' 'buy' 'sell'\n",
      "   'pass' 'sell' 'buy']]]\n",
      "[[  3.131495    12.73273603  -4.22555696  31.30607604 -69.81600499\n",
      "  -25.88640601   0.        ]\n",
      " [-11.06814395  12.36646296 -70.24922899  28.90768999  -7.89094703\n",
      "  -68.12799201   0.        ]]\n",
      "CPU times: user 8 ms, sys: 0 ns, total: 8 ms\n",
      "Wall time: 9.82 ms\n"
     ]
    }
   ],
   "source": [
    "%%time\n",
    "#interact for 7 ticks\n",
    "_,action_log,reward_log,_,_,_  = pool.interact(7)\n",
    "\n",
    "\n",
    "print(action_names[action_log])\n",
    "print(reward_log)"
   ]
  },
  {
   "cell_type": "code",
   "execution_count": 12,
   "metadata": {
    "collapsed": false
   },
   "outputs": [],
   "source": [
    "#load first sessions (this function calls interact and remembers sessions)\n",
    "pool.update(SEQ_LENGTH)"
   ]
  },
  {
   "cell_type": "markdown",
   "metadata": {},
   "source": [
    "# a2c loss\n",
    "\n",
    "Here we define obective function for actor-critic (one-step) RL.\n",
    "\n",
    "* We regularize policy with expected inverse action probabilities (discouraging very small probas) to make objective numerically stable\n"
   ]
  },
  {
   "cell_type": "code",
   "execution_count": 13,
   "metadata": {
    "collapsed": false
   },
   "outputs": [],
   "source": [
    "replay = pool.experience_replay.sample_session_batch(100, replace=True)\n",
    "\n",
    "_,_,_,_,(policy_seq,V_seq) = agent.get_sessions(\n",
    "    replay,\n",
    "    session_length=SEQ_LENGTH,\n",
    "    experience_replay=True,\n",
    ")"
   ]
  },
  {
   "cell_type": "code",
   "execution_count": 16,
   "metadata": {
    "collapsed": false
   },
   "outputs": [],
   "source": [
    "from agentnet.learning import a2c\n",
    "\n",
    "\n",
    "#Train via actor-critic (see here - https://www.youtube.com/watch?v=KHZVXao4qXs)\n",
    "\n",
    "### COMMENTED ASSERT ACTION.DIM==2 LINE IN THIS METHOD\n",
    "elwise_mse_loss = a2c.get_elementwise_objective(\n",
    "    policy_seq,\n",
    "    V_seq[:,:,0],\n",
    "    replay.actions[0],\n",
    "    replay.rewards,\n",
    "    replay.is_alive,\n",
    "    gamma_or_gammas=0.99)\n",
    "\n",
    "#compute mean over \"alive\" fragments\n",
    "loss = elwise_mse_loss.sum() / replay.is_alive.sum()"
   ]
  },
  {
   "cell_type": "code",
   "execution_count": 17,
   "metadata": {
    "collapsed": false
   },
   "outputs": [],
   "source": [
    "reg = T.mean((1. / policy_seq).sum(axis=-1))\n",
    "loss += 0.001 * reg"
   ]
  },
  {
   "cell_type": "code",
   "execution_count": 18,
   "metadata": {
    "collapsed": false
   },
   "outputs": [],
   "source": [
    "# Compute weight updates\n",
    "updates = lasagne.updates.rmsprop(loss, weights, learning_rate=0.001)"
   ]
  },
  {
   "cell_type": "code",
   "execution_count": 19,
   "metadata": {
    "collapsed": false
   },
   "outputs": [],
   "source": [
    "#compile train function\n",
    "\n",
    "train_step = theano.function([], loss, updates=updates)"
   ]
  },
  {
   "cell_type": "markdown",
   "metadata": {},
   "source": [
    "# Demo run"
   ]
  },
  {
   "cell_type": "code",
   "execution_count": 20,
   "metadata": {
    "collapsed": false
   },
   "outputs": [
    {
     "name": "stderr",
     "output_type": "stream",
     "text": [
      "[2017-05-23 02:55:17,716] Making new env: FrontoPolarStocks-v0\n",
      "[2017-05-23 02:55:17,949] Clearing 4 monitor files from previous run (because force=True was provided)\n",
      "[2017-05-23 02:55:17,951] Starting new video recorder writing to /home/manatee/Desktop/inn.prac/Algorithms/src/records/openaigym.video.0.22897.video000000.mp4\n",
      "[2017-05-23 02:55:23,470] Finished writing results. You can upload them to the scoreboard via gym.upload('/home/manatee/Desktop/inn.prac/Algorithms/src/records')\n"
     ]
    },
    {
     "name": "stdout",
     "output_type": "stream",
     "text": [
      "Episode finished after 313 timesteps with reward=48001.23716385198\n"
     ]
    }
   ],
   "source": [
    "#for MountainCar-v0 evaluation session is cropped to 200 ticks\n",
    "untrained_reward = pool.evaluate(save_path=\"./records\",record_video=True)"
   ]
  },
  {
   "cell_type": "code",
   "execution_count": 21,
   "metadata": {
    "collapsed": false
   },
   "outputs": [
    {
     "data": {
      "text/html": [
       "\n",
       "<video width=\"640\" height=\"480\" controls>\n",
       "  <source src=\"records/openaigym.video.0.15895.video000000.mp4\" type=\"video/mp4\">\n",
       "</video>\n"
      ],
      "text/plain": [
       "<IPython.core.display.HTML object>"
      ]
     },
     "execution_count": 21,
     "metadata": {},
     "output_type": "execute_result"
    }
   ],
   "source": [
    "from IPython.display import HTML\n",
    "\n",
    "video_path=\"records/openaigym.video.0.15895.video000000.mp4\"\n",
    "\n",
    "HTML(\"\"\"\n",
    "<video width=\"640\" height=\"480\" controls>\n",
    "  <source src=\"{}\" type=\"video/mp4\">\n",
    "</video>\n",
    "\"\"\".format(video_path))"
   ]
  },
  {
   "cell_type": "markdown",
   "metadata": {},
   "source": [
    "# Training loop"
   ]
  },
  {
   "cell_type": "code",
   "execution_count": 22,
   "metadata": {
    "collapsed": true
   },
   "outputs": [],
   "source": [
    "#starting epoch\n",
    "epoch_counter = 1\n",
    "\n",
    "#full game rewards\n",
    "rewards = {epoch_counter: untrained_reward}"
   ]
  },
  {
   "cell_type": "code",
   "execution_count": 23,
   "metadata": {
    "collapsed": false,
    "scrolled": false
   },
   "outputs": [
    {
     "name": "stderr",
     "output_type": "stream",
     "text": [
      "100%|██████████| 1000/1000 [00:06<00:00, 165.23it/s]\n"
     ]
    }
   ],
   "source": [
    "#pre-fill pool\n",
    "for i in tqdm(range(1000)):\n",
    "    pool.update(SEQ_LENGTH, append=True) #, preprocess=bnn.add_vime_reward)"
   ]
  },
  {
   "cell_type": "code",
   "execution_count": 24,
   "metadata": {
    "collapsed": false,
    "scrolled": false
   },
   "outputs": [
    {
     "name": "stderr",
     "output_type": "stream",
     "text": [
      "  0%|          | 0/1000 [00:00<?, ?it/s]\n"
     ]
    },
    {
     "ename": "IndexError",
     "evalue": "shape mismatch: indexing arrays could not be broadcast together with shapes (100,1) (1,13) (100,13,14) \nApply node that caused the error: AdvancedSubtensor(Elemwise{log,no_inplace}.0, InplaceDimShuffle{0,x}.0, InplaceDimShuffle{x,0}.0, AdvancedSubtensor1.0)\nToposort index: 326\nInputs types: [TensorType(float32, 3D), TensorType(int64, col), TensorType(int64, row), TensorType(int32, 3D)]\nInputs shapes: [(100, 13, 42), (100, 1), (1, 13), (100, 13, 14)]\nInputs strides: [(2184, 168, 4), (8, 8), (104, 8), (728, 56, 4)]\nInputs values: ['not shown', 'not shown', 'not shown', 'not shown']\nInputs type_num: [11, 7, 7, 5]\nOutputs clients: [[Elemwise{neg,no_inplace}(AdvancedSubtensor.0)]]\n\nBacktrace when the node is created(use Theano flag traceback.limit=N to make it longer):\n  File \"/home/manatee/anaconda3/lib/python3.6/site-packages/ipykernel/ipkernel.py\", line 196, in do_execute\n    res = shell.run_cell(code, store_history=store_history, silent=silent)\n  File \"/home/manatee/anaconda3/lib/python3.6/site-packages/ipykernel/zmqshell.py\", line 501, in run_cell\n    return super(ZMQInteractiveShell, self).run_cell(*args, **kwargs)\n  File \"/home/manatee/anaconda3/lib/python3.6/site-packages/IPython/core/interactiveshell.py\", line 2717, in run_cell\n    interactivity=interactivity, compiler=compiler, result=result)\n  File \"/home/manatee/anaconda3/lib/python3.6/site-packages/IPython/core/interactiveshell.py\", line 2821, in run_ast_nodes\n    if self.run_code(code, result):\n  File \"/home/manatee/anaconda3/lib/python3.6/site-packages/IPython/core/interactiveshell.py\", line 2881, in run_code\n    exec(code_obj, self.user_global_ns, self.user_ns)\n  File \"<ipython-input-16-bba4d0ea15d1>\", line 13, in <module>\n    gamma_or_gammas=0.99)\n  File \"/home/manatee/anaconda3/lib/python3.6/site-packages/agentnet/learning/a2c.py\", line 140, in get_elementwise_objective\n    action_logprobas = get_values_for_actions(logpolicy, actions) if logpolicy.ndim == 3 else logpolicy\n  File \"/home/manatee/anaconda3/lib/python3.6/site-packages/agentnet/learning/generic.py\", line 265, in get_values_for_actions\n    action_values_predicted = values_for_all_actions[batch_i, time_i, actions]\n\nDebugprint of the apply node: \nAdvancedSubtensor [id A] <TensorType(float32, 3D)> ''   \n |Elemwise{log,no_inplace} [id B] <TensorType(float32, 3D)> ''   \n | |InplaceDimShuffle{1,0,2} [id C] <TensorType(float32, 3D)> ''   \n |   |Join [id D] <TensorType(float32, 3D)> ''   \n |     |TensorConstant{0} [id E] <TensorType(int8, scalar)>\n |     |InplaceDimShuffle{x,0,1} [id F] <TensorType(float32, (True, False, False))> ''   \n |     | |SoftmaxWithBias [id G] <TensorType(float32, matrix)> ''   \n |     |   |Dot22 [id H] <TensorType(float32, matrix)> ''   \n |     |   | |Elemwise{mul,no_inplace} [id I] <TensorType(float32, matrix)> ''   \n |     |   | | |TensorConstant{(1, 1) of 0.5} [id J] <TensorType(float32, (True, True))>\n |     |   | | |Elemwise{add,no_inplace} [id K] <TensorType(float32, matrix)> ''   \n |     |   | |   |Elemwise{add,no_inplace} [id L] <TensorType(float32, matrix)> ''   \n |     |   | |   | |Dot22 [id M] <TensorType(float32, matrix)> ''   \n |     |   | |   | | |Subtensor{int64} [id N] <TensorType(float32, matrix)> ''   \n |     |   | |   | | | |InplaceDimShuffle{1,0,2} [id O] <TensorType(float32, 3D)> ''   \n |     |   | |   | | | | |AdvancedSubtensor1 [id P] <TensorType(float32, 3D)> ''   \n |     |   | |   | | | |   |sessions.observations_history.0 [id Q] <TensorType(float32, 3D)>\n |     |   | |   | | | |   |RandomFunction{choice_helper}.1 [id R] <TensorType(int32, vector)> ''   \n |     |   | |   | | | |     |<RandomStateType> [id S] <RandomStateType>\n |     |   | |   | | | |     |TensorConstant{(1,) of 100} [id T] <TensorType(int64, vector)>\n |     |   | |   | | | |     |Subtensor{int64} [id U] <TensorType(int64, scalar)> ''   \n |     |   | |   | | | |     | |Shape [id V] <TensorType(int64, vector)> ''   \n |     |   | |   | | | |     | | |session.rewards_history [id W] <TensorType(float32, matrix)>\n |     |   | |   | | | |     | |Constant{0} [id X] <int64>\n |     |   | |   | | | |     |TensorConstant{1} [id Y] <TensorType(int8, scalar)>\n |     |   | |   | | | |     |TensorConstant{[]} [id Z] <TensorType(float32, vector)>\n |     |   | |   | | | |Constant{0} [id X] <int64>\n |     |   | |   | | |dense1.W [id BA] <TensorType(float32, matrix)>\n |     |   | |   | |InplaceDimShuffle{x,0} [id BB] <TensorType(float32, row)> ''   \n |     |   | |   |   |dense1.b [id BC] <TensorType(float32, vector)>\n |     |   | |   |Elemwise{abs_,no_inplace} [id BD] <TensorType(float32, matrix)> ''   \n |     |   | |     |Elemwise{add,no_inplace} [id L] <TensorType(float32, matrix)> ''   \n |     |   | |q-evaluator layer.W [id BE] <TensorType(float32, matrix)>\n |     |   |q-evaluator layer.b [id BF] <TensorType(float32, vector)>\n |     |InplaceDimShuffle{x,0,1} [id BG] <TensorType(float32, (True, False, False))> ''   \n |     | |SoftmaxWithBias [id BH] <TensorType(float32, matrix)> ''   \n |     |   |Dot22 [id BI] <TensorType(float32, matrix)> ''   \n |     |   | |Elemwise{mul,no_inplace} [id BJ] <TensorType(float32, matrix)> ''   \n |     |   | | |TensorConstant{(1, 1) of 0.5} [id J] <TensorType(float32, (True, True))>\n |     |   | | |Elemwise{add,no_inplace} [id BK] <TensorType(float32, matrix)> ''   \n |     |   | |   |Elemwise{add,no_inplace} [id BL] <TensorType(float32, matrix)> ''   \n |     |   | |   | |Dot22 [id BM] <TensorType(float32, matrix)> ''   \n |     |   | |   | | |Subtensor{int64} [id BN] <TensorType(float32, matrix)> ''   \n |     |   | |   | | | |InplaceDimShuffle{1,0,2} [id O] <TensorType(float32, 3D)> ''   \n |     |   | |   | | | |Constant{1} [id BO] <int64>\n |     |   | |   | | |dense1.W [id BA] <TensorType(float32, matrix)>\n |     |   | |   | |InplaceDimShuffle{x,0} [id BB] <TensorType(float32, row)> ''   \n |     |   | |   |Elemwise{abs_,no_inplace} [id BP] <TensorType(float32, matrix)> ''   \n |     |   | |     |Elemwise{add,no_inplace} [id BL] <TensorType(float32, matrix)> ''   \n |     |   | |q-evaluator layer.W [id BE] <TensorType(float32, matrix)>\n |     |   |q-evaluator layer.b [id BF] <TensorType(float32, vector)>\n |     |InplaceDimShuffle{x,0,1} [id BQ] <TensorType(float32, (True, False, False))> ''   \n |     | |SoftmaxWithBias [id BR] <TensorType(float32, matrix)> ''   \n |     |   |Dot22 [id BS] <TensorType(float32, matrix)> ''   \n |     |   | |Elemwise{mul,no_inplace} [id BT] <TensorType(float32, matrix)> ''   \n |     |   | | |TensorConstant{(1, 1) of 0.5} [id J] <TensorType(float32, (True, True))>\n |     |   | | |Elemwise{add,no_inplace} [id BU] <TensorType(float32, matrix)> ''   \n |     |   | |   |Elemwise{add,no_inplace} [id BV] <TensorType(float32, matrix)> ''   \n |     |   | |   | |Dot22 [id BW] <TensorType(float32, matrix)> ''   \n |     |   | |   | | |Subtensor{int64} [id BX] <TensorType(float32, matrix)> ''   \n |     |   | |   | | | |InplaceDimShuffle{1,0,2} [id O] <TensorType(float32, 3D)> ''   \n |     |   | |   | | | |Constant{2} [id BY] <int64>\n |     |   | |   | | |dense1.W [id BA] <TensorType(float32, matrix)>\n |     |   | |   | |InplaceDimShuffle{x,0} [id BB] <TensorType(float32, row)> ''   \n |     |   | |   |Elemwise{abs_,no_inplace} [id BZ] <TensorType(float32, matrix)> ''   \n |     |   | |     |Elemwise{add,no_inplace} [id BV] <TensorType(float32, matrix)> ''   \n |     |   | |q-evaluator layer.W [id BE] <TensorType(float32, matrix)>\n |     |   |q-evaluator layer.b [id BF] <TensorType(float32, vector)>\n |     |InplaceDimShuffle{x,0,1} [id CA] <TensorType(float32, (True, False, False))> ''   \n |     | |SoftmaxWithBias [id CB] <TensorType(float32, matrix)> ''   \n |     |   |Dot22 [id CC] <TensorType(float32, matrix)> ''   \n |     |   | |Elemwise{mul,no_inplace} [id CD] <TensorType(float32, matrix)> ''   \n |     |   | | |TensorConstant{(1, 1) of 0.5} [id J] <TensorType(float32, (True, True))>\n |     |   | | |Elemwise{add,no_inplace} [id CE] <TensorType(float32, matrix)> ''   \n |     |   | |   |Elemwise{add,no_inplace} [id CF] <TensorType(float32, matrix)> ''   \n |     |   | |   | |Dot22 [id CG] <TensorType(float32, matrix)> ''   \n |     |   | |   | | |Subtensor{int64} [id CH] <TensorType(float32, matrix)> ''   \n |     |   | |   | | | |InplaceDimShuffle{1,0,2} [id O] <TensorType(float32, 3D)> ''   \n |     |   | |   | | | |Constant{3} [id CI] <int64>\n |     |   | |   | | |dense1.W [id BA] <TensorType(float32, matrix)>\n |     |   | |   | |InplaceDimShuffle{x,0} [id BB] <TensorType(float32, row)> ''   \n |     |   | |   |Elemwise{abs_,no_inplace} [id CJ] <TensorType(float32, matrix)> ''   \n |     |   | |     |Elemwise{add,no_inplace} [id CF] <TensorType(float32, matrix)> ''   \n |     |   | |q-evaluator layer.W [id BE] <TensorType(float32, matrix)>\n |     |   |q-evaluator layer.b [id BF] <TensorType(float32, vector)>\n |     |InplaceDimShuffle{x,0,1} [id CK] <TensorType(float32, (True, False, False))> ''   \n |     | |SoftmaxWithBias [id CL] <TensorType(float32, matrix)> ''   \n |     |   |Dot22 [id CM] <TensorType(float32, matrix)> ''   \n |     |   | |Elemwise{mul,no_inplace} [id CN] <TensorType(float32, matrix)> ''   \n |     |   | | |TensorConstant{(1, 1) of 0.5} [id J] <TensorType(float32, (True, True))>\n |     |   | | |Elemwise{add,no_inplace} [id CO] <TensorType(float32, matrix)> ''   \n |     |   | |   |Elemwise{add,no_inplace} [id CP] <TensorType(float32, matrix)> ''   \n |     |   | |   | |Dot22 [id CQ] <TensorType(float32, matrix)> ''   \n |     |   | |   | | |Subtensor{int64} [id CR] <TensorType(float32, matrix)> ''   \n |     |   | |   | | | |InplaceDimShuffle{1,0,2} [id O] <TensorType(float32, 3D)> ''   \n |     |   | |   | | | |Constant{4} [id CS] <int64>\n |     |   | |   | | |dense1.W [id BA] <TensorType(float32, matrix)>\n |     |   | |   | |InplaceDimShuffle{x,0} [id BB] <TensorType(float32, row)> ''   \n |     |   | |   |Elemwise{abs_,no_inplace} [id CT] <TensorType(float32, matrix)> ''   \n |     |   | |     |Elemwise{add,no_inplace} [id CP] <TensorType(float32, matrix)> ''   \n |     |   | |q-evaluator layer.W [id BE] <TensorType(float32, matrix)>\n |     |   |q-evaluator layer.b [id BF] <TensorType(float32, vector)>\n |     |InplaceDimShuffle{x,0,1} [id CU] <TensorType(float32, (True, False, False))> ''   \n |     | |SoftmaxWithBias [id CV] <TensorType(float32, matrix)> ''   \n |     |   |Dot22 [id CW] <TensorType(float32, matrix)> ''   \n |     |   | |Elemwise{mul,no_inplace} [id CX] <TensorType(float32, matrix)> ''   \n |     |   | | |TensorConstant{(1, 1) of 0.5} [id J] <TensorType(float32, (True, True))>\n |     |   | | |Elemwise{add,no_inplace} [id CY] <TensorType(float32, matrix)> ''   \n |     |   | |   |Elemwise{add,no_inplace} [id CZ] <TensorType(float32, matrix)> ''   \n |     |   | |   | |Dot22 [id DA] <TensorType(float32, matrix)> ''   \n |     |   | |   | | |Subtensor{int64} [id DB] <TensorType(float32, matrix)> ''   \n |     |   | |   | | | |InplaceDimShuffle{1,0,2} [id O] <TensorType(float32, 3D)> ''   \n |     |   | |   | | | |Constant{5} [id DC] <int64>\n |     |   | |   | | |dense1.W [id BA] <TensorType(float32, matrix)>\n |     |   | |   | |InplaceDimShuffle{x,0} [id BB] <TensorType(float32, row)> ''   \n |     |   | |   |Elemwise{abs_,no_inplace} [id DD] <TensorType(float32, matrix)> ''   \n |     |   | |     |Elemwise{add,no_inplace} [id CZ] <TensorType(float32, matrix)> ''   \n |     |   | |q-evaluator layer.W [id BE] <TensorType(float32, matrix)>\n |     |   |q-evaluator layer.b [id BF] <TensorType(float32, vector)>\n |     |InplaceDimShuffle{x,0,1} [id DE] <TensorType(float32, (True, False, False))> ''   \n |     | |SoftmaxWithBias [id DF] <TensorType(float32, matrix)> ''   \n |     |   |Dot22 [id DG] <TensorType(float32, matrix)> ''   \n |     |   | |Elemwise{mul,no_inplace} [id DH] <TensorType(float32, matrix)> ''   \n |     |   | | |TensorConstant{(1, 1) of 0.5} [id J] <TensorType(float32, (True, True))>\n |     |   | | |Elemwise{add,no_inplace} [id DI] <TensorType(float32, matrix)> ''   \n |     |   | |   |Elemwise{add,no_inplace} [id DJ] <TensorType(float32, matrix)> ''   \n |     |   | |   | |Dot22 [id DK] <TensorType(float32, matrix)> ''   \n |     |   | |   | | |Subtensor{int64} [id DL] <TensorType(float32, matrix)> ''   \n |     |   | |   | | | |InplaceDimShuffle{1,0,2} [id O] <TensorType(float32, 3D)> ''   \n |     |   | |   | | | |Constant{6} [id DM] <int64>\n |     |   | |   | | |dense1.W [id BA] <TensorType(float32, matrix)>\n |     |   | |   | |InplaceDimShuffle{x,0} [id BB] <TensorType(float32, row)> ''   \n |     |   | |   |Elemwise{abs_,no_inplace} [id DN] <TensorType(float32, matrix)> ''   \n |     |   | |     |Elemwise{add,no_inplace} [id DJ] <TensorType(float32, matrix)> ''   \n |     |   | |q-evaluator layer.W [id BE] <TensorType(float32, matrix)>\n |     |   |q-evaluator layer.b [id BF] <TensorType(float32, vector)>\n |     |InplaceDimShuffle{x,0,1} [id DO] <TensorType(float32, (True, False, False))> ''   \n |     | |SoftmaxWithBias [id DP] <TensorType(float32, matrix)> ''   \n |     |   |Dot22 [id DQ] <TensorType(float32, matrix)> ''   \n |     |   | |Elemwise{mul,no_inplace} [id DR] <TensorType(float32, matrix)> ''   \n |     |   | | |TensorConstant{(1, 1) of 0.5} [id J] <TensorType(float32, (True, True))>\n |     |   | | |Elemwise{add,no_inplace} [id DS] <TensorType(float32, matrix)> ''   \n |     |   | |   |Elemwise{add,no_inplace} [id DT] <TensorType(float32, matrix)> ''   \n |     |   | |   | |Dot22 [id DU] <TensorType(float32, matrix)> ''   \n |     |   | |   | | |Subtensor{int64} [id DV] <TensorType(float32, matrix)> ''   \n |     |   | |   | | | |InplaceDimShuffle{1,0,2} [id O] <TensorType(float32, 3D)> ''   \n |     |   | |   | | | |Constant{7} [id DW] <int64>\n |     |   | |   | | |dense1.W [id BA] <TensorType(float32, matrix)>\n |     |   | |   | |InplaceDimShuffle{x,0} [id BB] <TensorType(float32, row)> ''   \n |     |   | |   |Elemwise{abs_,no_inplace} [id DX] <TensorType(float32, matrix)> ''   \n |     |   | |     |Elemwise{add,no_inplace} [id DT] <TensorType(float32, matrix)> ''   \n |     |   | |q-evaluator layer.W [id BE] <TensorType(float32, matrix)>\n |     |   |q-evaluator layer.b [id BF] <TensorType(float32, vector)>\n |     |InplaceDimShuffle{x,0,1} [id DY] <TensorType(float32, (True, False, False))> ''   \n |     | |SoftmaxWithBias [id DZ] <TensorType(float32, matrix)> ''   \n |     |   |Dot22 [id EA] <TensorType(float32, matrix)> ''   \n |     |   | |Elemwise{mul,no_inplace} [id EB] <TensorType(float32, matrix)> ''   \n |     |   | | |TensorConstant{(1, 1) of 0.5} [id J] <TensorType(float32, (True, True))>\n |     |   | | |Elemwise{add,no_inplace} [id EC] <TensorType(float32, matrix)> ''   \n |     |   | |   |Elemwise{add,no_inplace} [id ED] <TensorType(float32, matrix)> ''   \n |     |   | |   | |Dot22 [id EE] <TensorType(float32, matrix)> ''   \n |     |   | |   | | |Subtensor{int64} [id EF] <TensorType(float32, matrix)> ''   \n |     |   | |   | | | |InplaceDimShuffle{1,0,2} [id O] <TensorType(float32, 3D)> ''   \n |     |   | |   | | | |Constant{8} [id EG] <int64>\n |     |   | |   | | |dense1.W [id BA] <TensorType(float32, matrix)>\n |     |   | |   | |InplaceDimShuffle{x,0} [id BB] <TensorType(float32, row)> ''   \n |     |   | |   |Elemwise{abs_,no_inplace} [id EH] <TensorType(float32, matrix)> ''   \n |     |   | |     |Elemwise{add,no_inplace} [id ED] <TensorType(float32, matrix)> ''   \n |     |   | |q-evaluator layer.W [id BE] <TensorType(float32, matrix)>\n |     |   |q-evaluator layer.b [id BF] <TensorType(float32, vector)>\n |     |InplaceDimShuffle{x,0,1} [id EI] <TensorType(float32, (True, False, False))> ''   \n |     | |SoftmaxWithBias [id EJ] <TensorType(float32, matrix)> ''   \n |     |   |Dot22 [id EK] <TensorType(float32, matrix)> ''   \n |     |   | |Elemwise{mul,no_inplace} [id EL] <TensorType(float32, matrix)> ''   \n |     |   | | |TensorConstant{(1, 1) of 0.5} [id J] <TensorType(float32, (True, True))>\n |     |   | | |Elemwise{add,no_inplace} [id EM] <TensorType(float32, matrix)> ''   \n |     |   | |   |Elemwise{add,no_inplace} [id EN] <TensorType(float32, matrix)> ''   \n |     |   | |   | |Dot22 [id EO] <TensorType(float32, matrix)> ''   \n |     |   | |   | | |Subtensor{int64} [id EP] <TensorType(float32, matrix)> ''   \n |     |   | |   | | | |InplaceDimShuffle{1,0,2} [id O] <TensorType(float32, 3D)> ''   \n |     |   | |   | | | |Constant{9} [id EQ] <int64>\n |     |   | |   | | |dense1.W [id BA] <TensorType(float32, matrix)>\n |     |   | |   | |InplaceDimShuffle{x,0} [id BB] <TensorType(float32, row)> ''   \n |     |   | |   |Elemwise{abs_,no_inplace} [id ER] <TensorType(float32, matrix)> ''   \n |     |   | |     |Elemwise{add,no_inplace} [id EN] <TensorType(float32, matrix)> ''   \n |     |   | |q-evaluator layer.W [id BE] <TensorType(float32, matrix)>\n |     |   |q-evaluator layer.b [id BF] <TensorType(float32, vector)>\n |     |InplaceDimShuffle{x,0,1} [id ES] <TensorType(float32, (True, False, False))> ''   \n |     | |SoftmaxWithBias [id ET] <TensorType(float32, matrix)> ''   \n |     |   |Dot22 [id EU] <TensorType(float32, matrix)> ''   \n |     |   | |Elemwise{mul,no_inplace} [id EV] <TensorType(float32, matrix)> ''   \n |     |   | | |TensorConstant{(1, 1) of 0.5} [id J] <TensorType(float32, (True, True))>\n |     |   | | |Elemwise{add,no_inplace} [id EW] <TensorType(float32, matrix)> ''   \n |     |   | |   |Elemwise{add,no_inplace} [id EX] <TensorType(float32, matrix)> ''   \n |     |   | |   | |Dot22 [id EY] <TensorType(float32, matrix)> ''   \n |     |   | |   | | |Subtensor{int64} [id EZ] <TensorType(float32, matrix)> ''   \n |     |   | |   | | | |InplaceDimShuffle{1,0,2} [id O] <TensorType(float32, 3D)> ''   \n |     |   | |   | | | |Constant{10} [id FA] <int64>\n |     |   | |   | | |dense1.W [id BA] <TensorType(float32, matrix)>\n |     |   | |   | |InplaceDimShuffle{x,0} [id BB] <TensorType(float32, row)> ''   \n |     |   | |   |Elemwise{abs_,no_inplace} [id FB] <TensorType(float32, matrix)> ''   \n |     |   | |     |Elemwise{add,no_inplace} [id EX] <TensorType(float32, matrix)> ''   \n |     |   | |q-evaluator layer.W [id BE] <TensorType(float32, matrix)>\n |     |   |q-evaluator layer.b [id BF] <TensorType(float32, vector)>\n |     |InplaceDimShuffle{x,0,1} [id FC] <TensorType(float32, (True, False, False))> ''   \n |     | |SoftmaxWithBias [id FD] <TensorType(float32, matrix)> ''   \n |     |   |Dot22 [id FE] <TensorType(float32, matrix)> ''   \n |     |   | |Elemwise{mul,no_inplace} [id FF] <TensorType(float32, matrix)> ''   \n |     |   | | |TensorConstant{(1, 1) of 0.5} [id J] <TensorType(float32, (True, True))>\n |     |   | | |Elemwise{add,no_inplace} [id FG] <TensorType(float32, matrix)> ''   \n |     |   | |   |Elemwise{add,no_inplace} [id FH] <TensorType(float32, matrix)> ''   \n |     |   | |   | |Dot22 [id FI] <TensorType(float32, matrix)> ''   \n |     |   | |   | | |Subtensor{int64} [id FJ] <TensorType(float32, matrix)> ''   \n |     |   | |   | | | |InplaceDimShuffle{1,0,2} [id O] <TensorType(float32, 3D)> ''   \n |     |   | |   | | | |Constant{11} [id FK] <int64>\n |     |   | |   | | |dense1.W [id BA] <TensorType(float32, matrix)>\n |     |   | |   | |InplaceDimShuffle{x,0} [id BB] <TensorType(float32, row)> ''   \n |     |   | |   |Elemwise{abs_,no_inplace} [id FL] <TensorType(float32, matrix)> ''   \n |     |   | |     |Elemwise{add,no_inplace} [id FH] <TensorType(float32, matrix)> ''   \n |     |   | |q-evaluator layer.W [id BE] <TensorType(float32, matrix)>\n |     |   |q-evaluator layer.b [id BF] <TensorType(float32, vector)>\n |     |InplaceDimShuffle{x,0,1} [id FM] <TensorType(float32, (True, False, False))> ''   \n |       |SoftmaxWithBias [id FN] <TensorType(float32, matrix)> ''   \n |         |Dot22 [id FO] <TensorType(float32, matrix)> ''   \n |         | |Elemwise{mul,no_inplace} [id FP] <TensorType(float32, matrix)> ''   \n |         | | |TensorConstant{(1, 1) of 0.5} [id J] <TensorType(float32, (True, True))>\n |         | | |Elemwise{add,no_inplace} [id FQ] <TensorType(float32, matrix)> ''   \n |         | |   |Elemwise{add,no_inplace} [id FR] <TensorType(float32, matrix)> ''   \n |         | |   | |Dot22 [id FS] <TensorType(float32, matrix)> ''   \n |         | |   | | |Subtensor{int64} [id FT] <TensorType(float32, matrix)> ''   \n |         | |   | | | |InplaceDimShuffle{1,0,2} [id O] <TensorType(float32, 3D)> ''   \n |         | |   | | | |Constant{12} [id FU] <int64>\n |         | |   | | |dense1.W [id BA] <TensorType(float32, matrix)>\n |         | |   | |InplaceDimShuffle{x,0} [id BB] <TensorType(float32, row)> ''   \n |         | |   |Elemwise{abs_,no_inplace} [id FV] <TensorType(float32, matrix)> ''   \n |         | |     |Elemwise{add,no_inplace} [id FR] <TensorType(float32, matrix)> ''   \n |         | |q-evaluator layer.W [id BE] <TensorType(float32, matrix)>\n |         |q-evaluator layer.b [id BF] <TensorType(float32, vector)>\n |InplaceDimShuffle{0,x} [id FW] <TensorType(int64, col)> ''   \n | |ARange{dtype='int64'} [id FX] <TensorType(int64, vector)> ''   \n |   |TensorConstant{0} [id E] <TensorType(int8, scalar)>\n |   |Subtensor{int64} [id FY] <TensorType(int64, scalar)> ''   \n |   | |Shape [id FZ] <TensorType(int64, vector)> ''   \n |   | | |Elemwise{log,no_inplace} [id B] <TensorType(float32, 3D)> ''   \n |   | |Constant{0} [id X] <int64>\n |   |TensorConstant{1} [id Y] <TensorType(int8, scalar)>\n |InplaceDimShuffle{x,0} [id GA] <TensorType(int64, row)> ''   \n | |ARange{dtype='int64'} [id GB] <TensorType(int64, vector)> ''   \n |   |TensorConstant{0} [id E] <TensorType(int8, scalar)>\n |   |Subtensor{int64} [id GC] <TensorType(int64, scalar)> ''   \n |   | |Shape [id FZ] <TensorType(int64, vector)> ''   \n |   | |Constant{1} [id BO] <int64>\n |   |TensorConstant{1} [id Y] <TensorType(int8, scalar)>\n |AdvancedSubtensor1 [id GD] <TensorType(int32, 3D)> ''   \n   |session.actions_history.0 [id GE] <TensorType(int32, 3D)>\n   |RandomFunction{choice_helper}.1 [id R] <TensorType(int32, vector)> ''   \n\nStorage map footprint:\n - sessions.observations_history.0, Shared Input, Shape: (2022, 13, 14), ElemSize: 4 Byte(s), TotalSize: 1472016 Byte(s)\n - session.actions_history.0, Shared Input, Shape: (2022, 13, 14), ElemSize: 4 Byte(s), TotalSize: 1472016 Byte(s)\n - InplaceDimShuffle{1,0,2}.0, Shape: (100, 13, 42), ElemSize: 4 Byte(s), TotalSize: 218400 Byte(s)\n - Elemwise{log,no_inplace}.0, Shape: (100, 13, 42), ElemSize: 4 Byte(s), TotalSize: 218400 Byte(s)\n - session.rewards_history, Shared Input, Shape: (2022, 13), ElemSize: 4 Byte(s), TotalSize: 105144 Byte(s)\n - AdvancedSubtensor1.0, Shape: (100, 13, 14), ElemSize: 4 Byte(s), TotalSize: 72800 Byte(s)\n - Elemwise{add,no_inplace}.0, Shape: (100, 100), ElemSize: 4 Byte(s), TotalSize: 40000 Byte(s)\n - Elemwise{add,no_inplace}.0, Shape: (100, 100), ElemSize: 4 Byte(s), TotalSize: 40000 Byte(s)\n - Elemwise{add,no_inplace}.0, Shape: (100, 100), ElemSize: 4 Byte(s), TotalSize: 40000 Byte(s)\n - Elemwise{add,no_inplace}.0, Shape: (100, 100), ElemSize: 4 Byte(s), TotalSize: 40000 Byte(s)\n - Elemwise{add,no_inplace}.0, Shape: (100, 100), ElemSize: 4 Byte(s), TotalSize: 40000 Byte(s)\n - Elemwise{add,no_inplace}.0, Shape: (100, 100), ElemSize: 4 Byte(s), TotalSize: 40000 Byte(s)\n - Elemwise{add,no_inplace}.0, Shape: (100, 100), ElemSize: 4 Byte(s), TotalSize: 40000 Byte(s)\n - Elemwise{add,no_inplace}.0, Shape: (100, 100), ElemSize: 4 Byte(s), TotalSize: 40000 Byte(s)\n - Elemwise{add,no_inplace}.0, Shape: (100, 100), ElemSize: 4 Byte(s), TotalSize: 40000 Byte(s)\n - Elemwise{add,no_inplace}.0, Shape: (100, 100), ElemSize: 4 Byte(s), TotalSize: 40000 Byte(s)\n - Elemwise{add,no_inplace}.0, Shape: (100, 100), ElemSize: 4 Byte(s), TotalSize: 40000 Byte(s)\n - Elemwise{add,no_inplace}.0, Shape: (100, 100), ElemSize: 4 Byte(s), TotalSize: 40000 Byte(s)\n - Elemwise{add,no_inplace}.0, Shape: (100, 100), ElemSize: 4 Byte(s), TotalSize: 40000 Byte(s)\n - Elemwise{mul,no_inplace}.0, Shape: (100, 100), ElemSize: 4 Byte(s), TotalSize: 40000 Byte(s)\n - Elemwise{mul,no_inplace}.0, Shape: (100, 100), ElemSize: 4 Byte(s), TotalSize: 40000 Byte(s)\n - Elemwise{mul,no_inplace}.0, Shape: (100, 100), ElemSize: 4 Byte(s), TotalSize: 40000 Byte(s)\n - Elemwise{mul,no_inplace}.0, Shape: (100, 100), ElemSize: 4 Byte(s), TotalSize: 40000 Byte(s)\n - Elemwise{mul,no_inplace}.0, Shape: (100, 100), ElemSize: 4 Byte(s), TotalSize: 40000 Byte(s)\n - Elemwise{mul,no_inplace}.0, Shape: (100, 100), ElemSize: 4 Byte(s), TotalSize: 40000 Byte(s)\n - Elemwise{mul,no_inplace}.0, Shape: (100, 100), ElemSize: 4 Byte(s), TotalSize: 40000 Byte(s)\n - Elemwise{mul,no_inplace}.0, Shape: (100, 100), ElemSize: 4 Byte(s), TotalSize: 40000 Byte(s)\n - Elemwise{mul,no_inplace}.0, Shape: (100, 100), ElemSize: 4 Byte(s), TotalSize: 40000 Byte(s)\n - Elemwise{mul,no_inplace}.0, Shape: (100, 100), ElemSize: 4 Byte(s), TotalSize: 40000 Byte(s)\n - Elemwise{mul,no_inplace}.0, Shape: (100, 100), ElemSize: 4 Byte(s), TotalSize: 40000 Byte(s)\n - Elemwise{mul,no_inplace}.0, Shape: (100, 100), ElemSize: 4 Byte(s), TotalSize: 40000 Byte(s)\n - Elemwise{mul,no_inplace}.0, Shape: (100, 100), ElemSize: 4 Byte(s), TotalSize: 40000 Byte(s)\n - session.is_alive, Shared Input, Shape: (2022, 13), ElemSize: 1 Byte(s), TotalSize: 26286 Byte(s)\n - q-evaluator layer.W, Shared Input, Shape: (100, 42), ElemSize: 4 Byte(s), TotalSize: 16800 Byte(s)\n - <TensorType(float32, matrix)>, Shared Input, Shape: (100, 42), ElemSize: 4 Byte(s), TotalSize: 16800 Byte(s)\n - SoftmaxWithBias.0, Shape: (100, 42), ElemSize: 4 Byte(s), TotalSize: 16800 Byte(s)\n - SoftmaxWithBias.0, Shape: (100, 42), ElemSize: 4 Byte(s), TotalSize: 16800 Byte(s)\n - SoftmaxWithBias.0, Shape: (100, 42), ElemSize: 4 Byte(s), TotalSize: 16800 Byte(s)\n - SoftmaxWithBias.0, Shape: (100, 42), ElemSize: 4 Byte(s), TotalSize: 16800 Byte(s)\n - SoftmaxWithBias.0, Shape: (100, 42), ElemSize: 4 Byte(s), TotalSize: 16800 Byte(s)\n - SoftmaxWithBias.0, Shape: (100, 42), ElemSize: 4 Byte(s), TotalSize: 16800 Byte(s)\n - SoftmaxWithBias.0, Shape: (100, 42), ElemSize: 4 Byte(s), TotalSize: 16800 Byte(s)\n - SoftmaxWithBias.0, Shape: (100, 42), ElemSize: 4 Byte(s), TotalSize: 16800 Byte(s)\n - SoftmaxWithBias.0, Shape: (100, 42), ElemSize: 4 Byte(s), TotalSize: 16800 Byte(s)\n - SoftmaxWithBias.0, Shape: (100, 42), ElemSize: 4 Byte(s), TotalSize: 16800 Byte(s)\n - SoftmaxWithBias.0, Shape: (100, 42), ElemSize: 4 Byte(s), TotalSize: 16800 Byte(s)\n - SoftmaxWithBias.0, Shape: (100, 42), ElemSize: 4 Byte(s), TotalSize: 16800 Byte(s)\n - SoftmaxWithBias.0, Shape: (100, 42), ElemSize: 4 Byte(s), TotalSize: 16800 Byte(s)\n - InplaceDimShuffle{x,0,1}.0, Shape: (1, 100, 42), ElemSize: 4 Byte(s), TotalSize: 16800 Byte(s)\n - InplaceDimShuffle{x,0,1}.0, Shape: (1, 100, 42), ElemSize: 4 Byte(s), TotalSize: 16800 Byte(s)\n - InplaceDimShuffle{x,0,1}.0, Shape: (1, 100, 42), ElemSize: 4 Byte(s), TotalSize: 16800 Byte(s)\n - InplaceDimShuffle{x,0,1}.0, Shape: (1, 100, 42), ElemSize: 4 Byte(s), TotalSize: 16800 Byte(s)\n - InplaceDimShuffle{x,0,1}.0, Shape: (1, 100, 42), ElemSize: 4 Byte(s), TotalSize: 16800 Byte(s)\n - InplaceDimShuffle{x,0,1}.0, Shape: (1, 100, 42), ElemSize: 4 Byte(s), TotalSize: 16800 Byte(s)\n - InplaceDimShuffle{x,0,1}.0, Shape: (1, 100, 42), ElemSize: 4 Byte(s), TotalSize: 16800 Byte(s)\n - InplaceDimShuffle{x,0,1}.0, Shape: (1, 100, 42), ElemSize: 4 Byte(s), TotalSize: 16800 Byte(s)\n - InplaceDimShuffle{x,0,1}.0, Shape: (1, 100, 42), ElemSize: 4 Byte(s), TotalSize: 16800 Byte(s)\n - InplaceDimShuffle{x,0,1}.0, Shape: (1, 100, 42), ElemSize: 4 Byte(s), TotalSize: 16800 Byte(s)\n - InplaceDimShuffle{x,0,1}.0, Shape: (1, 100, 42), ElemSize: 4 Byte(s), TotalSize: 16800 Byte(s)\n - InplaceDimShuffle{x,0,1}.0, Shape: (1, 100, 42), ElemSize: 4 Byte(s), TotalSize: 16800 Byte(s)\n - InplaceDimShuffle{x,0,1}.0, Shape: (1, 100, 42), ElemSize: 4 Byte(s), TotalSize: 16800 Byte(s)\n - dense1.W, Shared Input, Shape: (14, 100), ElemSize: 4 Byte(s), TotalSize: 5600 Byte(s)\n - <TensorType(float32, matrix)>, Shared Input, Shape: (14, 100), ElemSize: 4 Byte(s), TotalSize: 5600 Byte(s)\n - Subtensor{int64}.0, Shape: (100, 14), ElemSize: 4 Byte(s), TotalSize: 5600 Byte(s)\n - Subtensor{int64}.0, Shape: (100, 14), ElemSize: 4 Byte(s), TotalSize: 5600 Byte(s)\n - Subtensor{int64}.0, Shape: (100, 14), ElemSize: 4 Byte(s), TotalSize: 5600 Byte(s)\n - Subtensor{int64}.0, Shape: (100, 14), ElemSize: 4 Byte(s), TotalSize: 5600 Byte(s)\n - Subtensor{int64}.0, Shape: (100, 14), ElemSize: 4 Byte(s), TotalSize: 5600 Byte(s)\n - Subtensor{int64}.0, Shape: (100, 14), ElemSize: 4 Byte(s), TotalSize: 5600 Byte(s)\n - Subtensor{int64}.0, Shape: (100, 14), ElemSize: 4 Byte(s), TotalSize: 5600 Byte(s)\n - Subtensor{int64}.0, Shape: (100, 14), ElemSize: 4 Byte(s), TotalSize: 5600 Byte(s)\n - Subtensor{int64}.0, Shape: (100, 14), ElemSize: 4 Byte(s), TotalSize: 5600 Byte(s)\n - Subtensor{int64}.0, Shape: (100, 14), ElemSize: 4 Byte(s), TotalSize: 5600 Byte(s)\n - Subtensor{int64}.0, Shape: (100, 14), ElemSize: 4 Byte(s), TotalSize: 5600 Byte(s)\n - Subtensor{int64}.0, Shape: (100, 14), ElemSize: 4 Byte(s), TotalSize: 5600 Byte(s)\n - Subtensor{int64}.0, Shape: (100, 14), ElemSize: 4 Byte(s), TotalSize: 5600 Byte(s)\n - InplaceDimShuffle{0,x}.0, Shape: (100, 1), ElemSize: 8 Byte(s), TotalSize: 800 Byte(s)\n - dense1.b, Shared Input, Shape: (100,), ElemSize: 4 Byte(s), TotalSize: 400 Byte(s)\n - state values.W, Shared Input, Shape: (100, 1), ElemSize: 4 Byte(s), TotalSize: 400 Byte(s)\n - <TensorType(float32, vector)>, Shared Input, Shape: (100,), ElemSize: 4 Byte(s), TotalSize: 400 Byte(s)\n - <TensorType(float32, col)>, Shared Input, Shape: (100, 1), ElemSize: 4 Byte(s), TotalSize: 400 Byte(s)\n - RandomFunction{choice_helper}.1, Shape: (100,), ElemSize: 4 Byte(s), TotalSize: 400 Byte(s)\n - q-evaluator layer.b, Shared Input, Shape: (42,), ElemSize: 4 Byte(s), TotalSize: 168 Byte(s)\n - <TensorType(float32, vector)>, Shared Input, Shape: (42,), ElemSize: 4 Byte(s), TotalSize: 168 Byte(s)\n - InplaceDimShuffle{x,0}.0, Shape: (1, 13), ElemSize: 8 Byte(s), TotalSize: 104 Byte(s)\n - Constant{0}, Shape: (), ElemSize: 8 Byte(s), TotalSize: 8.0 Byte(s)\n - TensorConstant{(1,) of 100}, Shape: (1,), ElemSize: 8 Byte(s), TotalSize: 8 Byte(s)\n - Constant{12}, Shape: (), ElemSize: 8 Byte(s), TotalSize: 8.0 Byte(s)\n - Constant{11}, Shape: (), ElemSize: 8 Byte(s), TotalSize: 8.0 Byte(s)\n - Constant{10}, Shape: (), ElemSize: 8 Byte(s), TotalSize: 8.0 Byte(s)\n - Constant{9}, Shape: (), ElemSize: 8 Byte(s), TotalSize: 8.0 Byte(s)\n - Constant{8}, Shape: (), ElemSize: 8 Byte(s), TotalSize: 8.0 Byte(s)\n - Constant{7}, Shape: (), ElemSize: 8 Byte(s), TotalSize: 8.0 Byte(s)\n - Constant{6}, Shape: (), ElemSize: 8 Byte(s), TotalSize: 8.0 Byte(s)\n - Constant{5}, Shape: (), ElemSize: 8 Byte(s), TotalSize: 8.0 Byte(s)\n - Constant{4}, Shape: (), ElemSize: 8 Byte(s), TotalSize: 8.0 Byte(s)\n - Constant{3}, Shape: (), ElemSize: 8 Byte(s), TotalSize: 8.0 Byte(s)\n - Constant{2}, Shape: (), ElemSize: 8 Byte(s), TotalSize: 8.0 Byte(s)\n - Constant{1}, Shape: (), ElemSize: 8 Byte(s), TotalSize: 8.0 Byte(s)\n - Constant{-1}, Shape: (), ElemSize: 8 Byte(s), TotalSize: 8.0 Byte(s)\n - TensorConstant{1.0}, Shape: (), ElemSize: 8 Byte(s), TotalSize: 8.0 Byte(s)\n - state values.b, Shared Input, Shape: (1,), ElemSize: 4 Byte(s), TotalSize: 4 Byte(s)\n - <TensorType(float32, (True,))>, Shared Input, Shape: (1,), ElemSize: 4 Byte(s), TotalSize: 4 Byte(s)\n - TensorConstant{(1,) of 0.9}, Shape: (1,), ElemSize: 4 Byte(s), TotalSize: 4 Byte(s)\n - TensorConstant{(1, 1) of 0.9}, Shape: (1, 1), ElemSize: 4 Byte(s), TotalSize: 4 Byte(s)\n - TensorConstant{(1, 1) of 0.5}, Shape: (1, 1), ElemSize: 4 Byte(s), TotalSize: 4 Byte(s)\n - TensorConstant{(1, 1, 1) of 1.0}, Shape: (1, 1, 1), ElemSize: 4 Byte(s), TotalSize: 4 Byte(s)\n - TensorConstant{(1, 1, 1) of 0.0}, Shape: (1, 1, 1), ElemSize: 4 Byte(s), TotalSize: 4 Byte(s)\n - TensorConstant{(1, 1) of 0.0}, Shape: (1, 1), ElemSize: 4 Byte(s), TotalSize: 4 Byte(s)\n - TensorConstant{0.00100000..0474974513}, Shape: (), ElemSize: 4 Byte(s), TotalSize: 4.0 Byte(s)\n - TensorConstant{(1, 1) of 0.99}, Shape: (1, 1), ElemSize: 4 Byte(s), TotalSize: 4 Byte(s)\n - TensorConstant{(1, 1) of 0.001}, Shape: (1, 1), ElemSize: 4 Byte(s), TotalSize: 4 Byte(s)\n - TensorConstant{(1, 1) of 0.1}, Shape: (1, 1), ElemSize: 4 Byte(s), TotalSize: 4 Byte(s)\n - TensorConstant{(1,) of 0.001}, Shape: (1,), ElemSize: 4 Byte(s), TotalSize: 4 Byte(s)\n - TensorConstant{(1,) of 0.1}, Shape: (1,), ElemSize: 4 Byte(s), TotalSize: 4 Byte(s)\n - TensorConstant{(1, 1) of 1e-06}, Shape: (1, 1), ElemSize: 4 Byte(s), TotalSize: 4 Byte(s)\n - TensorConstant{(1,) of 1e-06}, Shape: (1,), ElemSize: 4 Byte(s), TotalSize: 4 Byte(s)\n - TensorConstant{1}, Shape: (), ElemSize: 1 Byte(s), TotalSize: 1.0 Byte(s)\n - TensorConstant{(1, 1) of 1}, Shape: (1, 1), ElemSize: 1 Byte(s), TotalSize: 1 Byte(s)\n - TensorConstant{False}, Shape: (), ElemSize: 1 Byte(s), TotalSize: 1.0 Byte(s)\n - TensorConstant{0}, Shape: (), ElemSize: 1 Byte(s), TotalSize: 1.0 Byte(s)\n - Constant{0}, Shape: (), ElemSize: 1 Byte(s), TotalSize: 1.0 Byte(s)\n - TensorConstant{(1, 1) of 2}, Shape: (1, 1), ElemSize: 1 Byte(s), TotalSize: 1 Byte(s)\n - TensorConstant{(1,) of 2}, Shape: (1,), ElemSize: 1 Byte(s), TotalSize: 1 Byte(s)\n - TensorConstant{[]}, Shape: (0,), ElemSize: 4 Byte(s), TotalSize: 0 Byte(s)\n TotalSize: 4964501.0 Byte(s) 0.005 GB\n TotalSize inputs: 3122397.0 Byte(s) 0.003 GB\n\n",
     "output_type": "error",
     "traceback": [
      "\u001b[0;31m---------------------------------------------------------------------------\u001b[0m",
      "\u001b[0;31mIndexError\u001b[0m                                Traceback (most recent call last)",
      "\u001b[0;32m/home/manatee/anaconda3/lib/python3.6/site-packages/theano/compile/function_module.py\u001b[0m in \u001b[0;36m__call__\u001b[0;34m(self, *args, **kwargs)\u001b[0m\n\u001b[1;32m    883\u001b[0m             \u001b[0moutputs\u001b[0m \u001b[0;34m=\u001b[0m\u001b[0;31m\\\u001b[0m\u001b[0;34m\u001b[0m\u001b[0m\n\u001b[0;32m--> 884\u001b[0;31m                 \u001b[0mself\u001b[0m\u001b[0;34m.\u001b[0m\u001b[0mfn\u001b[0m\u001b[0;34m(\u001b[0m\u001b[0;34m)\u001b[0m \u001b[0;32mif\u001b[0m \u001b[0moutput_subset\u001b[0m \u001b[0;32mis\u001b[0m \u001b[0;32mNone\u001b[0m \u001b[0;32melse\u001b[0m\u001b[0;31m\\\u001b[0m\u001b[0;34m\u001b[0m\u001b[0m\n\u001b[0m\u001b[1;32m    885\u001b[0m                 \u001b[0mself\u001b[0m\u001b[0;34m.\u001b[0m\u001b[0mfn\u001b[0m\u001b[0;34m(\u001b[0m\u001b[0moutput_subset\u001b[0m\u001b[0;34m=\u001b[0m\u001b[0moutput_subset\u001b[0m\u001b[0;34m)\u001b[0m\u001b[0;34m\u001b[0m\u001b[0m\n",
      "\u001b[0;32m/home/manatee/anaconda3/lib/python3.6/site-packages/theano/gof/op.py\u001b[0m in \u001b[0;36mrval\u001b[0;34m(p, i, o, n)\u001b[0m\n\u001b[1;32m    871\u001b[0m             \u001b[0;32mdef\u001b[0m \u001b[0mrval\u001b[0m\u001b[0;34m(\u001b[0m\u001b[0mp\u001b[0m\u001b[0;34m=\u001b[0m\u001b[0mp\u001b[0m\u001b[0;34m,\u001b[0m \u001b[0mi\u001b[0m\u001b[0;34m=\u001b[0m\u001b[0mnode_input_storage\u001b[0m\u001b[0;34m,\u001b[0m \u001b[0mo\u001b[0m\u001b[0;34m=\u001b[0m\u001b[0mnode_output_storage\u001b[0m\u001b[0;34m,\u001b[0m \u001b[0mn\u001b[0m\u001b[0;34m=\u001b[0m\u001b[0mnode\u001b[0m\u001b[0;34m)\u001b[0m\u001b[0;34m:\u001b[0m\u001b[0;34m\u001b[0m\u001b[0m\n\u001b[0;32m--> 872\u001b[0;31m                 \u001b[0mr\u001b[0m \u001b[0;34m=\u001b[0m \u001b[0mp\u001b[0m\u001b[0;34m(\u001b[0m\u001b[0mn\u001b[0m\u001b[0;34m,\u001b[0m \u001b[0;34m[\u001b[0m\u001b[0mx\u001b[0m\u001b[0;34m[\u001b[0m\u001b[0;36m0\u001b[0m\u001b[0;34m]\u001b[0m \u001b[0;32mfor\u001b[0m \u001b[0mx\u001b[0m \u001b[0;32min\u001b[0m \u001b[0mi\u001b[0m\u001b[0;34m]\u001b[0m\u001b[0;34m,\u001b[0m \u001b[0mo\u001b[0m\u001b[0;34m)\u001b[0m\u001b[0;34m\u001b[0m\u001b[0m\n\u001b[0m\u001b[1;32m    873\u001b[0m                 \u001b[0;32mfor\u001b[0m \u001b[0mo\u001b[0m \u001b[0;32min\u001b[0m \u001b[0mnode\u001b[0m\u001b[0;34m.\u001b[0m\u001b[0moutputs\u001b[0m\u001b[0;34m:\u001b[0m\u001b[0;34m\u001b[0m\u001b[0m\n",
      "\u001b[0;32m/home/manatee/anaconda3/lib/python3.6/site-packages/theano/tensor/subtensor.py\u001b[0m in \u001b[0;36mperform\u001b[0;34m(self, node, inputs, out_)\u001b[0m\n\u001b[1;32m   2172\u001b[0m         \u001b[0;31m# index, just like subtensor\u001b[0m\u001b[0;34m\u001b[0m\u001b[0;34m\u001b[0m\u001b[0m\n\u001b[0;32m-> 2173\u001b[0;31m         \u001b[0mout\u001b[0m\u001b[0;34m[\u001b[0m\u001b[0;36m0\u001b[0m\u001b[0;34m]\u001b[0m \u001b[0;34m=\u001b[0m \u001b[0minputs\u001b[0m\u001b[0;34m[\u001b[0m\u001b[0;36m0\u001b[0m\u001b[0;34m]\u001b[0m\u001b[0;34m.\u001b[0m\u001b[0m__getitem__\u001b[0m\u001b[0;34m(\u001b[0m\u001b[0minputs\u001b[0m\u001b[0;34m[\u001b[0m\u001b[0;36m1\u001b[0m\u001b[0;34m:\u001b[0m\u001b[0;34m]\u001b[0m\u001b[0;34m)\u001b[0m\u001b[0;34m\u001b[0m\u001b[0m\n\u001b[0m\u001b[1;32m   2174\u001b[0m \u001b[0;34m\u001b[0m\u001b[0m\n",
      "\u001b[0;31mIndexError\u001b[0m: shape mismatch: indexing arrays could not be broadcast together with shapes (100,1) (1,13) (100,13,14) ",
      "\nDuring handling of the above exception, another exception occurred:\n",
      "\u001b[0;31mIndexError\u001b[0m                                Traceback (most recent call last)",
      "\u001b[0;32m<ipython-input-24-3c25f9da2676>\u001b[0m in \u001b[0;36m<module>\u001b[0;34m()\u001b[0m\n\u001b[1;32m     10\u001b[0m \u001b[0;34m\u001b[0m\u001b[0m\n\u001b[1;32m     11\u001b[0m     \u001b[0;32mfor\u001b[0m \u001b[0mi\u001b[0m \u001b[0;32min\u001b[0m \u001b[0mrange\u001b[0m\u001b[0;34m(\u001b[0m\u001b[0;36m10\u001b[0m\u001b[0;34m)\u001b[0m\u001b[0;34m:\u001b[0m\u001b[0;34m\u001b[0m\u001b[0m\n\u001b[0;32m---> 12\u001b[0;31m         \u001b[0mnew_loss\u001b[0m \u001b[0;34m=\u001b[0m \u001b[0mtrain_step\u001b[0m\u001b[0;34m(\u001b[0m\u001b[0;34m)\u001b[0m\u001b[0;34m\u001b[0m\u001b[0m\n\u001b[0m\u001b[1;32m     13\u001b[0m         \u001b[0mloss\u001b[0m \u001b[0;34m=\u001b[0m \u001b[0mloss\u001b[0m \u001b[0;34m*\u001b[0m \u001b[0;36m0.99\u001b[0m \u001b[0;34m+\u001b[0m \u001b[0mnew_loss\u001b[0m \u001b[0;34m*\u001b[0m \u001b[0;36m0.01\u001b[0m\u001b[0;34m\u001b[0m\u001b[0m\n\u001b[1;32m     14\u001b[0m \u001b[0;34m\u001b[0m\u001b[0m\n",
      "\u001b[0;32m/home/manatee/anaconda3/lib/python3.6/site-packages/theano/compile/function_module.py\u001b[0m in \u001b[0;36m__call__\u001b[0;34m(self, *args, **kwargs)\u001b[0m\n\u001b[1;32m    896\u001b[0m                     \u001b[0mnode\u001b[0m\u001b[0;34m=\u001b[0m\u001b[0mself\u001b[0m\u001b[0;34m.\u001b[0m\u001b[0mfn\u001b[0m\u001b[0;34m.\u001b[0m\u001b[0mnodes\u001b[0m\u001b[0;34m[\u001b[0m\u001b[0mself\u001b[0m\u001b[0;34m.\u001b[0m\u001b[0mfn\u001b[0m\u001b[0;34m.\u001b[0m\u001b[0mposition_of_error\u001b[0m\u001b[0;34m]\u001b[0m\u001b[0;34m,\u001b[0m\u001b[0;34m\u001b[0m\u001b[0m\n\u001b[1;32m    897\u001b[0m                     \u001b[0mthunk\u001b[0m\u001b[0;34m=\u001b[0m\u001b[0mthunk\u001b[0m\u001b[0;34m,\u001b[0m\u001b[0;34m\u001b[0m\u001b[0m\n\u001b[0;32m--> 898\u001b[0;31m                     storage_map=getattr(self.fn, 'storage_map', None))\n\u001b[0m\u001b[1;32m    899\u001b[0m             \u001b[0;32melse\u001b[0m\u001b[0;34m:\u001b[0m\u001b[0;34m\u001b[0m\u001b[0m\n\u001b[1;32m    900\u001b[0m                 \u001b[0;31m# old-style linkers raise their own exceptions\u001b[0m\u001b[0;34m\u001b[0m\u001b[0;34m\u001b[0m\u001b[0m\n",
      "\u001b[0;32m/home/manatee/anaconda3/lib/python3.6/site-packages/theano/gof/link.py\u001b[0m in \u001b[0;36mraise_with_op\u001b[0;34m(node, thunk, exc_info, storage_map)\u001b[0m\n\u001b[1;32m    323\u001b[0m         \u001b[0;31m# extra long error message in that case.\u001b[0m\u001b[0;34m\u001b[0m\u001b[0;34m\u001b[0m\u001b[0m\n\u001b[1;32m    324\u001b[0m         \u001b[0;32mpass\u001b[0m\u001b[0;34m\u001b[0m\u001b[0m\n\u001b[0;32m--> 325\u001b[0;31m     \u001b[0mreraise\u001b[0m\u001b[0;34m(\u001b[0m\u001b[0mexc_type\u001b[0m\u001b[0;34m,\u001b[0m \u001b[0mexc_value\u001b[0m\u001b[0;34m,\u001b[0m \u001b[0mexc_trace\u001b[0m\u001b[0;34m)\u001b[0m\u001b[0;34m\u001b[0m\u001b[0m\n\u001b[0m\u001b[1;32m    326\u001b[0m \u001b[0;34m\u001b[0m\u001b[0m\n\u001b[1;32m    327\u001b[0m \u001b[0;34m\u001b[0m\u001b[0m\n",
      "\u001b[0;32m/home/manatee/anaconda3/lib/python3.6/site-packages/six.py\u001b[0m in \u001b[0;36mreraise\u001b[0;34m(tp, value, tb)\u001b[0m\n\u001b[1;32m    683\u001b[0m             \u001b[0mvalue\u001b[0m \u001b[0;34m=\u001b[0m \u001b[0mtp\u001b[0m\u001b[0;34m(\u001b[0m\u001b[0;34m)\u001b[0m\u001b[0;34m\u001b[0m\u001b[0m\n\u001b[1;32m    684\u001b[0m         \u001b[0;32mif\u001b[0m \u001b[0mvalue\u001b[0m\u001b[0;34m.\u001b[0m\u001b[0m__traceback__\u001b[0m \u001b[0;32mis\u001b[0m \u001b[0;32mnot\u001b[0m \u001b[0mtb\u001b[0m\u001b[0;34m:\u001b[0m\u001b[0;34m\u001b[0m\u001b[0m\n\u001b[0;32m--> 685\u001b[0;31m             \u001b[0;32mraise\u001b[0m \u001b[0mvalue\u001b[0m\u001b[0;34m.\u001b[0m\u001b[0mwith_traceback\u001b[0m\u001b[0;34m(\u001b[0m\u001b[0mtb\u001b[0m\u001b[0;34m)\u001b[0m\u001b[0;34m\u001b[0m\u001b[0m\n\u001b[0m\u001b[1;32m    686\u001b[0m         \u001b[0;32mraise\u001b[0m \u001b[0mvalue\u001b[0m\u001b[0;34m\u001b[0m\u001b[0m\n\u001b[1;32m    687\u001b[0m \u001b[0;34m\u001b[0m\u001b[0m\n",
      "\u001b[0;32m/home/manatee/anaconda3/lib/python3.6/site-packages/theano/compile/function_module.py\u001b[0m in \u001b[0;36m__call__\u001b[0;34m(self, *args, **kwargs)\u001b[0m\n\u001b[1;32m    882\u001b[0m         \u001b[0;32mtry\u001b[0m\u001b[0;34m:\u001b[0m\u001b[0;34m\u001b[0m\u001b[0m\n\u001b[1;32m    883\u001b[0m             \u001b[0moutputs\u001b[0m \u001b[0;34m=\u001b[0m\u001b[0;31m\\\u001b[0m\u001b[0;34m\u001b[0m\u001b[0m\n\u001b[0;32m--> 884\u001b[0;31m                 \u001b[0mself\u001b[0m\u001b[0;34m.\u001b[0m\u001b[0mfn\u001b[0m\u001b[0;34m(\u001b[0m\u001b[0;34m)\u001b[0m \u001b[0;32mif\u001b[0m \u001b[0moutput_subset\u001b[0m \u001b[0;32mis\u001b[0m \u001b[0;32mNone\u001b[0m \u001b[0;32melse\u001b[0m\u001b[0;31m\\\u001b[0m\u001b[0;34m\u001b[0m\u001b[0m\n\u001b[0m\u001b[1;32m    885\u001b[0m                 \u001b[0mself\u001b[0m\u001b[0;34m.\u001b[0m\u001b[0mfn\u001b[0m\u001b[0;34m(\u001b[0m\u001b[0moutput_subset\u001b[0m\u001b[0;34m=\u001b[0m\u001b[0moutput_subset\u001b[0m\u001b[0;34m)\u001b[0m\u001b[0;34m\u001b[0m\u001b[0m\n\u001b[1;32m    886\u001b[0m         \u001b[0;32mexcept\u001b[0m \u001b[0mException\u001b[0m\u001b[0;34m:\u001b[0m\u001b[0;34m\u001b[0m\u001b[0m\n",
      "\u001b[0;32m/home/manatee/anaconda3/lib/python3.6/site-packages/theano/gof/op.py\u001b[0m in \u001b[0;36mrval\u001b[0;34m(p, i, o, n)\u001b[0m\n\u001b[1;32m    870\u001b[0m             \u001b[0;31m# default arguments are stored in the closure of `rval`\u001b[0m\u001b[0;34m\u001b[0m\u001b[0;34m\u001b[0m\u001b[0m\n\u001b[1;32m    871\u001b[0m             \u001b[0;32mdef\u001b[0m \u001b[0mrval\u001b[0m\u001b[0;34m(\u001b[0m\u001b[0mp\u001b[0m\u001b[0;34m=\u001b[0m\u001b[0mp\u001b[0m\u001b[0;34m,\u001b[0m \u001b[0mi\u001b[0m\u001b[0;34m=\u001b[0m\u001b[0mnode_input_storage\u001b[0m\u001b[0;34m,\u001b[0m \u001b[0mo\u001b[0m\u001b[0;34m=\u001b[0m\u001b[0mnode_output_storage\u001b[0m\u001b[0;34m,\u001b[0m \u001b[0mn\u001b[0m\u001b[0;34m=\u001b[0m\u001b[0mnode\u001b[0m\u001b[0;34m)\u001b[0m\u001b[0;34m:\u001b[0m\u001b[0;34m\u001b[0m\u001b[0m\n\u001b[0;32m--> 872\u001b[0;31m                 \u001b[0mr\u001b[0m \u001b[0;34m=\u001b[0m \u001b[0mp\u001b[0m\u001b[0;34m(\u001b[0m\u001b[0mn\u001b[0m\u001b[0;34m,\u001b[0m \u001b[0;34m[\u001b[0m\u001b[0mx\u001b[0m\u001b[0;34m[\u001b[0m\u001b[0;36m0\u001b[0m\u001b[0;34m]\u001b[0m \u001b[0;32mfor\u001b[0m \u001b[0mx\u001b[0m \u001b[0;32min\u001b[0m \u001b[0mi\u001b[0m\u001b[0;34m]\u001b[0m\u001b[0;34m,\u001b[0m \u001b[0mo\u001b[0m\u001b[0;34m)\u001b[0m\u001b[0;34m\u001b[0m\u001b[0m\n\u001b[0m\u001b[1;32m    873\u001b[0m                 \u001b[0;32mfor\u001b[0m \u001b[0mo\u001b[0m \u001b[0;32min\u001b[0m \u001b[0mnode\u001b[0m\u001b[0;34m.\u001b[0m\u001b[0moutputs\u001b[0m\u001b[0;34m:\u001b[0m\u001b[0;34m\u001b[0m\u001b[0m\n\u001b[1;32m    874\u001b[0m                     \u001b[0mcompute_map\u001b[0m\u001b[0;34m[\u001b[0m\u001b[0mo\u001b[0m\u001b[0;34m]\u001b[0m\u001b[0;34m[\u001b[0m\u001b[0;36m0\u001b[0m\u001b[0;34m]\u001b[0m \u001b[0;34m=\u001b[0m \u001b[0;32mTrue\u001b[0m\u001b[0;34m\u001b[0m\u001b[0m\n",
      "\u001b[0;32m/home/manatee/anaconda3/lib/python3.6/site-packages/theano/tensor/subtensor.py\u001b[0m in \u001b[0;36mperform\u001b[0;34m(self, node, inputs, out_)\u001b[0m\n\u001b[1;32m   2171\u001b[0m         \u001b[0;31m# TODO: in general, we need to re-pack the inputs into a valid\u001b[0m\u001b[0;34m\u001b[0m\u001b[0;34m\u001b[0m\u001b[0m\n\u001b[1;32m   2172\u001b[0m         \u001b[0;31m# index, just like subtensor\u001b[0m\u001b[0;34m\u001b[0m\u001b[0;34m\u001b[0m\u001b[0m\n\u001b[0;32m-> 2173\u001b[0;31m         \u001b[0mout\u001b[0m\u001b[0;34m[\u001b[0m\u001b[0;36m0\u001b[0m\u001b[0;34m]\u001b[0m \u001b[0;34m=\u001b[0m \u001b[0minputs\u001b[0m\u001b[0;34m[\u001b[0m\u001b[0;36m0\u001b[0m\u001b[0;34m]\u001b[0m\u001b[0;34m.\u001b[0m\u001b[0m__getitem__\u001b[0m\u001b[0;34m(\u001b[0m\u001b[0minputs\u001b[0m\u001b[0;34m[\u001b[0m\u001b[0;36m1\u001b[0m\u001b[0;34m:\u001b[0m\u001b[0;34m]\u001b[0m\u001b[0;34m)\u001b[0m\u001b[0;34m\u001b[0m\u001b[0m\n\u001b[0m\u001b[1;32m   2174\u001b[0m \u001b[0;34m\u001b[0m\u001b[0m\n\u001b[1;32m   2175\u001b[0m     \u001b[0;32mdef\u001b[0m \u001b[0mconnection_pattern\u001b[0m\u001b[0;34m(\u001b[0m\u001b[0mself\u001b[0m\u001b[0;34m,\u001b[0m \u001b[0mnode\u001b[0m\u001b[0;34m)\u001b[0m\u001b[0;34m:\u001b[0m\u001b[0;34m\u001b[0m\u001b[0m\n",
      "\u001b[0;31mIndexError\u001b[0m: shape mismatch: indexing arrays could not be broadcast together with shapes (100,1) (1,13) (100,13,14) \nApply node that caused the error: AdvancedSubtensor(Elemwise{log,no_inplace}.0, InplaceDimShuffle{0,x}.0, InplaceDimShuffle{x,0}.0, AdvancedSubtensor1.0)\nToposort index: 326\nInputs types: [TensorType(float32, 3D), TensorType(int64, col), TensorType(int64, row), TensorType(int32, 3D)]\nInputs shapes: [(100, 13, 42), (100, 1), (1, 13), (100, 13, 14)]\nInputs strides: [(2184, 168, 4), (8, 8), (104, 8), (728, 56, 4)]\nInputs values: ['not shown', 'not shown', 'not shown', 'not shown']\nInputs type_num: [11, 7, 7, 5]\nOutputs clients: [[Elemwise{neg,no_inplace}(AdvancedSubtensor.0)]]\n\nBacktrace when the node is created(use Theano flag traceback.limit=N to make it longer):\n  File \"/home/manatee/anaconda3/lib/python3.6/site-packages/ipykernel/ipkernel.py\", line 196, in do_execute\n    res = shell.run_cell(code, store_history=store_history, silent=silent)\n  File \"/home/manatee/anaconda3/lib/python3.6/site-packages/ipykernel/zmqshell.py\", line 501, in run_cell\n    return super(ZMQInteractiveShell, self).run_cell(*args, **kwargs)\n  File \"/home/manatee/anaconda3/lib/python3.6/site-packages/IPython/core/interactiveshell.py\", line 2717, in run_cell\n    interactivity=interactivity, compiler=compiler, result=result)\n  File \"/home/manatee/anaconda3/lib/python3.6/site-packages/IPython/core/interactiveshell.py\", line 2821, in run_ast_nodes\n    if self.run_code(code, result):\n  File \"/home/manatee/anaconda3/lib/python3.6/site-packages/IPython/core/interactiveshell.py\", line 2881, in run_code\n    exec(code_obj, self.user_global_ns, self.user_ns)\n  File \"<ipython-input-16-bba4d0ea15d1>\", line 13, in <module>\n    gamma_or_gammas=0.99)\n  File \"/home/manatee/anaconda3/lib/python3.6/site-packages/agentnet/learning/a2c.py\", line 140, in get_elementwise_objective\n    action_logprobas = get_values_for_actions(logpolicy, actions) if logpolicy.ndim == 3 else logpolicy\n  File \"/home/manatee/anaconda3/lib/python3.6/site-packages/agentnet/learning/generic.py\", line 265, in get_values_for_actions\n    action_values_predicted = values_for_all_actions[batch_i, time_i, actions]\n\nDebugprint of the apply node: \nAdvancedSubtensor [id A] <TensorType(float32, 3D)> ''   \n |Elemwise{log,no_inplace} [id B] <TensorType(float32, 3D)> ''   \n | |InplaceDimShuffle{1,0,2} [id C] <TensorType(float32, 3D)> ''   \n |   |Join [id D] <TensorType(float32, 3D)> ''   \n |     |TensorConstant{0} [id E] <TensorType(int8, scalar)>\n |     |InplaceDimShuffle{x,0,1} [id F] <TensorType(float32, (True, False, False))> ''   \n |     | |SoftmaxWithBias [id G] <TensorType(float32, matrix)> ''   \n |     |   |Dot22 [id H] <TensorType(float32, matrix)> ''   \n |     |   | |Elemwise{mul,no_inplace} [id I] <TensorType(float32, matrix)> ''   \n |     |   | | |TensorConstant{(1, 1) of 0.5} [id J] <TensorType(float32, (True, True))>\n |     |   | | |Elemwise{add,no_inplace} [id K] <TensorType(float32, matrix)> ''   \n |     |   | |   |Elemwise{add,no_inplace} [id L] <TensorType(float32, matrix)> ''   \n |     |   | |   | |Dot22 [id M] <TensorType(float32, matrix)> ''   \n |     |   | |   | | |Subtensor{int64} [id N] <TensorType(float32, matrix)> ''   \n |     |   | |   | | | |InplaceDimShuffle{1,0,2} [id O] <TensorType(float32, 3D)> ''   \n |     |   | |   | | | | |AdvancedSubtensor1 [id P] <TensorType(float32, 3D)> ''   \n |     |   | |   | | | |   |sessions.observations_history.0 [id Q] <TensorType(float32, 3D)>\n |     |   | |   | | | |   |RandomFunction{choice_helper}.1 [id R] <TensorType(int32, vector)> ''   \n |     |   | |   | | | |     |<RandomStateType> [id S] <RandomStateType>\n |     |   | |   | | | |     |TensorConstant{(1,) of 100} [id T] <TensorType(int64, vector)>\n |     |   | |   | | | |     |Subtensor{int64} [id U] <TensorType(int64, scalar)> ''   \n |     |   | |   | | | |     | |Shape [id V] <TensorType(int64, vector)> ''   \n |     |   | |   | | | |     | | |session.rewards_history [id W] <TensorType(float32, matrix)>\n |     |   | |   | | | |     | |Constant{0} [id X] <int64>\n |     |   | |   | | | |     |TensorConstant{1} [id Y] <TensorType(int8, scalar)>\n |     |   | |   | | | |     |TensorConstant{[]} [id Z] <TensorType(float32, vector)>\n |     |   | |   | | | |Constant{0} [id X] <int64>\n |     |   | |   | | |dense1.W [id BA] <TensorType(float32, matrix)>\n |     |   | |   | |InplaceDimShuffle{x,0} [id BB] <TensorType(float32, row)> ''   \n |     |   | |   |   |dense1.b [id BC] <TensorType(float32, vector)>\n |     |   | |   |Elemwise{abs_,no_inplace} [id BD] <TensorType(float32, matrix)> ''   \n |     |   | |     |Elemwise{add,no_inplace} [id L] <TensorType(float32, matrix)> ''   \n |     |   | |q-evaluator layer.W [id BE] <TensorType(float32, matrix)>\n |     |   |q-evaluator layer.b [id BF] <TensorType(float32, vector)>\n |     |InplaceDimShuffle{x,0,1} [id BG] <TensorType(float32, (True, False, False))> ''   \n |     | |SoftmaxWithBias [id BH] <TensorType(float32, matrix)> ''   \n |     |   |Dot22 [id BI] <TensorType(float32, matrix)> ''   \n |     |   | |Elemwise{mul,no_inplace} [id BJ] <TensorType(float32, matrix)> ''   \n |     |   | | |TensorConstant{(1, 1) of 0.5} [id J] <TensorType(float32, (True, True))>\n |     |   | | |Elemwise{add,no_inplace} [id BK] <TensorType(float32, matrix)> ''   \n |     |   | |   |Elemwise{add,no_inplace} [id BL] <TensorType(float32, matrix)> ''   \n |     |   | |   | |Dot22 [id BM] <TensorType(float32, matrix)> ''   \n |     |   | |   | | |Subtensor{int64} [id BN] <TensorType(float32, matrix)> ''   \n |     |   | |   | | | |InplaceDimShuffle{1,0,2} [id O] <TensorType(float32, 3D)> ''   \n |     |   | |   | | | |Constant{1} [id BO] <int64>\n |     |   | |   | | |dense1.W [id BA] <TensorType(float32, matrix)>\n |     |   | |   | |InplaceDimShuffle{x,0} [id BB] <TensorType(float32, row)> ''   \n |     |   | |   |Elemwise{abs_,no_inplace} [id BP] <TensorType(float32, matrix)> ''   \n |     |   | |     |Elemwise{add,no_inplace} [id BL] <TensorType(float32, matrix)> ''   \n |     |   | |q-evaluator layer.W [id BE] <TensorType(float32, matrix)>\n |     |   |q-evaluator layer.b [id BF] <TensorType(float32, vector)>\n |     |InplaceDimShuffle{x,0,1} [id BQ] <TensorType(float32, (True, False, False))> ''   \n |     | |SoftmaxWithBias [id BR] <TensorType(float32, matrix)> ''   \n |     |   |Dot22 [id BS] <TensorType(float32, matrix)> ''   \n |     |   | |Elemwise{mul,no_inplace} [id BT] <TensorType(float32, matrix)> ''   \n |     |   | | |TensorConstant{(1, 1) of 0.5} [id J] <TensorType(float32, (True, True))>\n |     |   | | |Elemwise{add,no_inplace} [id BU] <TensorType(float32, matrix)> ''   \n |     |   | |   |Elemwise{add,no_inplace} [id BV] <TensorType(float32, matrix)> ''   \n |     |   | |   | |Dot22 [id BW] <TensorType(float32, matrix)> ''   \n |     |   | |   | | |Subtensor{int64} [id BX] <TensorType(float32, matrix)> ''   \n |     |   | |   | | | |InplaceDimShuffle{1,0,2} [id O] <TensorType(float32, 3D)> ''   \n |     |   | |   | | | |Constant{2} [id BY] <int64>\n |     |   | |   | | |dense1.W [id BA] <TensorType(float32, matrix)>\n |     |   | |   | |InplaceDimShuffle{x,0} [id BB] <TensorType(float32, row)> ''   \n |     |   | |   |Elemwise{abs_,no_inplace} [id BZ] <TensorType(float32, matrix)> ''   \n |     |   | |     |Elemwise{add,no_inplace} [id BV] <TensorType(float32, matrix)> ''   \n |     |   | |q-evaluator layer.W [id BE] <TensorType(float32, matrix)>\n |     |   |q-evaluator layer.b [id BF] <TensorType(float32, vector)>\n |     |InplaceDimShuffle{x,0,1} [id CA] <TensorType(float32, (True, False, False))> ''   \n |     | |SoftmaxWithBias [id CB] <TensorType(float32, matrix)> ''   \n |     |   |Dot22 [id CC] <TensorType(float32, matrix)> ''   \n |     |   | |Elemwise{mul,no_inplace} [id CD] <TensorType(float32, matrix)> ''   \n |     |   | | |TensorConstant{(1, 1) of 0.5} [id J] <TensorType(float32, (True, True))>\n |     |   | | |Elemwise{add,no_inplace} [id CE] <TensorType(float32, matrix)> ''   \n |     |   | |   |Elemwise{add,no_inplace} [id CF] <TensorType(float32, matrix)> ''   \n |     |   | |   | |Dot22 [id CG] <TensorType(float32, matrix)> ''   \n |     |   | |   | | |Subtensor{int64} [id CH] <TensorType(float32, matrix)> ''   \n |     |   | |   | | | |InplaceDimShuffle{1,0,2} [id O] <TensorType(float32, 3D)> ''   \n |     |   | |   | | | |Constant{3} [id CI] <int64>\n |     |   | |   | | |dense1.W [id BA] <TensorType(float32, matrix)>\n |     |   | |   | |InplaceDimShuffle{x,0} [id BB] <TensorType(float32, row)> ''   \n |     |   | |   |Elemwise{abs_,no_inplace} [id CJ] <TensorType(float32, matrix)> ''   \n |     |   | |     |Elemwise{add,no_inplace} [id CF] <TensorType(float32, matrix)> ''   \n |     |   | |q-evaluator layer.W [id BE] <TensorType(float32, matrix)>\n |     |   |q-evaluator layer.b [id BF] <TensorType(float32, vector)>\n |     |InplaceDimShuffle{x,0,1} [id CK] <TensorType(float32, (True, False, False))> ''   \n |     | |SoftmaxWithBias [id CL] <TensorType(float32, matrix)> ''   \n |     |   |Dot22 [id CM] <TensorType(float32, matrix)> ''   \n |     |   | |Elemwise{mul,no_inplace} [id CN] <TensorType(float32, matrix)> ''   \n |     |   | | |TensorConstant{(1, 1) of 0.5} [id J] <TensorType(float32, (True, True))>\n |     |   | | |Elemwise{add,no_inplace} [id CO] <TensorType(float32, matrix)> ''   \n |     |   | |   |Elemwise{add,no_inplace} [id CP] <TensorType(float32, matrix)> ''   \n |     |   | |   | |Dot22 [id CQ] <TensorType(float32, matrix)> ''   \n |     |   | |   | | |Subtensor{int64} [id CR] <TensorType(float32, matrix)> ''   \n |     |   | |   | | | |InplaceDimShuffle{1,0,2} [id O] <TensorType(float32, 3D)> ''   \n |     |   | |   | | | |Constant{4} [id CS] <int64>\n |     |   | |   | | |dense1.W [id BA] <TensorType(float32, matrix)>\n |     |   | |   | |InplaceDimShuffle{x,0} [id BB] <TensorType(float32, row)> ''   \n |     |   | |   |Elemwise{abs_,no_inplace} [id CT] <TensorType(float32, matrix)> ''   \n |     |   | |     |Elemwise{add,no_inplace} [id CP] <TensorType(float32, matrix)> ''   \n |     |   | |q-evaluator layer.W [id BE] <TensorType(float32, matrix)>\n |     |   |q-evaluator layer.b [id BF] <TensorType(float32, vector)>\n |     |InplaceDimShuffle{x,0,1} [id CU] <TensorType(float32, (True, False, False))> ''   \n |     | |SoftmaxWithBias [id CV] <TensorType(float32, matrix)> ''   \n |     |   |Dot22 [id CW] <TensorType(float32, matrix)> ''   \n |     |   | |Elemwise{mul,no_inplace} [id CX] <TensorType(float32, matrix)> ''   \n |     |   | | |TensorConstant{(1, 1) of 0.5} [id J] <TensorType(float32, (True, True))>\n |     |   | | |Elemwise{add,no_inplace} [id CY] <TensorType(float32, matrix)> ''   \n |     |   | |   |Elemwise{add,no_inplace} [id CZ] <TensorType(float32, matrix)> ''   \n |     |   | |   | |Dot22 [id DA] <TensorType(float32, matrix)> ''   \n |     |   | |   | | |Subtensor{int64} [id DB] <TensorType(float32, matrix)> ''   \n |     |   | |   | | | |InplaceDimShuffle{1,0,2} [id O] <TensorType(float32, 3D)> ''   \n |     |   | |   | | | |Constant{5} [id DC] <int64>\n |     |   | |   | | |dense1.W [id BA] <TensorType(float32, matrix)>\n |     |   | |   | |InplaceDimShuffle{x,0} [id BB] <TensorType(float32, row)> ''   \n |     |   | |   |Elemwise{abs_,no_inplace} [id DD] <TensorType(float32, matrix)> ''   \n |     |   | |     |Elemwise{add,no_inplace} [id CZ] <TensorType(float32, matrix)> ''   \n |     |   | |q-evaluator layer.W [id BE] <TensorType(float32, matrix)>\n |     |   |q-evaluator layer.b [id BF] <TensorType(float32, vector)>\n |     |InplaceDimShuffle{x,0,1} [id DE] <TensorType(float32, (True, False, False))> ''   \n |     | |SoftmaxWithBias [id DF] <TensorType(float32, matrix)> ''   \n |     |   |Dot22 [id DG] <TensorType(float32, matrix)> ''   \n |     |   | |Elemwise{mul,no_inplace} [id DH] <TensorType(float32, matrix)> ''   \n |     |   | | |TensorConstant{(1, 1) of 0.5} [id J] <TensorType(float32, (True, True))>\n |     |   | | |Elemwise{add,no_inplace} [id DI] <TensorType(float32, matrix)> ''   \n |     |   | |   |Elemwise{add,no_inplace} [id DJ] <TensorType(float32, matrix)> ''   \n |     |   | |   | |Dot22 [id DK] <TensorType(float32, matrix)> ''   \n |     |   | |   | | |Subtensor{int64} [id DL] <TensorType(float32, matrix)> ''   \n |     |   | |   | | | |InplaceDimShuffle{1,0,2} [id O] <TensorType(float32, 3D)> ''   \n |     |   | |   | | | |Constant{6} [id DM] <int64>\n |     |   | |   | | |dense1.W [id BA] <TensorType(float32, matrix)>\n |     |   | |   | |InplaceDimShuffle{x,0} [id BB] <TensorType(float32, row)> ''   \n |     |   | |   |Elemwise{abs_,no_inplace} [id DN] <TensorType(float32, matrix)> ''   \n |     |   | |     |Elemwise{add,no_inplace} [id DJ] <TensorType(float32, matrix)> ''   \n |     |   | |q-evaluator layer.W [id BE] <TensorType(float32, matrix)>\n |     |   |q-evaluator layer.b [id BF] <TensorType(float32, vector)>\n |     |InplaceDimShuffle{x,0,1} [id DO] <TensorType(float32, (True, False, False))> ''   \n |     | |SoftmaxWithBias [id DP] <TensorType(float32, matrix)> ''   \n |     |   |Dot22 [id DQ] <TensorType(float32, matrix)> ''   \n |     |   | |Elemwise{mul,no_inplace} [id DR] <TensorType(float32, matrix)> ''   \n |     |   | | |TensorConstant{(1, 1) of 0.5} [id J] <TensorType(float32, (True, True))>\n |     |   | | |Elemwise{add,no_inplace} [id DS] <TensorType(float32, matrix)> ''   \n |     |   | |   |Elemwise{add,no_inplace} [id DT] <TensorType(float32, matrix)> ''   \n |     |   | |   | |Dot22 [id DU] <TensorType(float32, matrix)> ''   \n |     |   | |   | | |Subtensor{int64} [id DV] <TensorType(float32, matrix)> ''   \n |     |   | |   | | | |InplaceDimShuffle{1,0,2} [id O] <TensorType(float32, 3D)> ''   \n |     |   | |   | | | |Constant{7} [id DW] <int64>\n |     |   | |   | | |dense1.W [id BA] <TensorType(float32, matrix)>\n |     |   | |   | |InplaceDimShuffle{x,0} [id BB] <TensorType(float32, row)> ''   \n |     |   | |   |Elemwise{abs_,no_inplace} [id DX] <TensorType(float32, matrix)> ''   \n |     |   | |     |Elemwise{add,no_inplace} [id DT] <TensorType(float32, matrix)> ''   \n |     |   | |q-evaluator layer.W [id BE] <TensorType(float32, matrix)>\n |     |   |q-evaluator layer.b [id BF] <TensorType(float32, vector)>\n |     |InplaceDimShuffle{x,0,1} [id DY] <TensorType(float32, (True, False, False))> ''   \n |     | |SoftmaxWithBias [id DZ] <TensorType(float32, matrix)> ''   \n |     |   |Dot22 [id EA] <TensorType(float32, matrix)> ''   \n |     |   | |Elemwise{mul,no_inplace} [id EB] <TensorType(float32, matrix)> ''   \n |     |   | | |TensorConstant{(1, 1) of 0.5} [id J] <TensorType(float32, (True, True))>\n |     |   | | |Elemwise{add,no_inplace} [id EC] <TensorType(float32, matrix)> ''   \n |     |   | |   |Elemwise{add,no_inplace} [id ED] <TensorType(float32, matrix)> ''   \n |     |   | |   | |Dot22 [id EE] <TensorType(float32, matrix)> ''   \n |     |   | |   | | |Subtensor{int64} [id EF] <TensorType(float32, matrix)> ''   \n |     |   | |   | | | |InplaceDimShuffle{1,0,2} [id O] <TensorType(float32, 3D)> ''   \n |     |   | |   | | | |Constant{8} [id EG] <int64>\n |     |   | |   | | |dense1.W [id BA] <TensorType(float32, matrix)>\n |     |   | |   | |InplaceDimShuffle{x,0} [id BB] <TensorType(float32, row)> ''   \n |     |   | |   |Elemwise{abs_,no_inplace} [id EH] <TensorType(float32, matrix)> ''   \n |     |   | |     |Elemwise{add,no_inplace} [id ED] <TensorType(float32, matrix)> ''   \n |     |   | |q-evaluator layer.W [id BE] <TensorType(float32, matrix)>\n |     |   |q-evaluator layer.b [id BF] <TensorType(float32, vector)>\n |     |InplaceDimShuffle{x,0,1} [id EI] <TensorType(float32, (True, False, False))> ''   \n |     | |SoftmaxWithBias [id EJ] <TensorType(float32, matrix)> ''   \n |     |   |Dot22 [id EK] <TensorType(float32, matrix)> ''   \n |     |   | |Elemwise{mul,no_inplace} [id EL] <TensorType(float32, matrix)> ''   \n |     |   | | |TensorConstant{(1, 1) of 0.5} [id J] <TensorType(float32, (True, True))>\n |     |   | | |Elemwise{add,no_inplace} [id EM] <TensorType(float32, matrix)> ''   \n |     |   | |   |Elemwise{add,no_inplace} [id EN] <TensorType(float32, matrix)> ''   \n |     |   | |   | |Dot22 [id EO] <TensorType(float32, matrix)> ''   \n |     |   | |   | | |Subtensor{int64} [id EP] <TensorType(float32, matrix)> ''   \n |     |   | |   | | | |InplaceDimShuffle{1,0,2} [id O] <TensorType(float32, 3D)> ''   \n |     |   | |   | | | |Constant{9} [id EQ] <int64>\n |     |   | |   | | |dense1.W [id BA] <TensorType(float32, matrix)>\n |     |   | |   | |InplaceDimShuffle{x,0} [id BB] <TensorType(float32, row)> ''   \n |     |   | |   |Elemwise{abs_,no_inplace} [id ER] <TensorType(float32, matrix)> ''   \n |     |   | |     |Elemwise{add,no_inplace} [id EN] <TensorType(float32, matrix)> ''   \n |     |   | |q-evaluator layer.W [id BE] <TensorType(float32, matrix)>\n |     |   |q-evaluator layer.b [id BF] <TensorType(float32, vector)>\n |     |InplaceDimShuffle{x,0,1} [id ES] <TensorType(float32, (True, False, False))> ''   \n |     | |SoftmaxWithBias [id ET] <TensorType(float32, matrix)> ''   \n |     |   |Dot22 [id EU] <TensorType(float32, matrix)> ''   \n |     |   | |Elemwise{mul,no_inplace} [id EV] <TensorType(float32, matrix)> ''   \n |     |   | | |TensorConstant{(1, 1) of 0.5} [id J] <TensorType(float32, (True, True))>\n |     |   | | |Elemwise{add,no_inplace} [id EW] <TensorType(float32, matrix)> ''   \n |     |   | |   |Elemwise{add,no_inplace} [id EX] <TensorType(float32, matrix)> ''   \n |     |   | |   | |Dot22 [id EY] <TensorType(float32, matrix)> ''   \n |     |   | |   | | |Subtensor{int64} [id EZ] <TensorType(float32, matrix)> ''   \n |     |   | |   | | | |InplaceDimShuffle{1,0,2} [id O] <TensorType(float32, 3D)> ''   \n |     |   | |   | | | |Constant{10} [id FA] <int64>\n |     |   | |   | | |dense1.W [id BA] <TensorType(float32, matrix)>\n |     |   | |   | |InplaceDimShuffle{x,0} [id BB] <TensorType(float32, row)> ''   \n |     |   | |   |Elemwise{abs_,no_inplace} [id FB] <TensorType(float32, matrix)> ''   \n |     |   | |     |Elemwise{add,no_inplace} [id EX] <TensorType(float32, matrix)> ''   \n |     |   | |q-evaluator layer.W [id BE] <TensorType(float32, matrix)>\n |     |   |q-evaluator layer.b [id BF] <TensorType(float32, vector)>\n |     |InplaceDimShuffle{x,0,1} [id FC] <TensorType(float32, (True, False, False))> ''   \n |     | |SoftmaxWithBias [id FD] <TensorType(float32, matrix)> ''   \n |     |   |Dot22 [id FE] <TensorType(float32, matrix)> ''   \n |     |   | |Elemwise{mul,no_inplace} [id FF] <TensorType(float32, matrix)> ''   \n |     |   | | |TensorConstant{(1, 1) of 0.5} [id J] <TensorType(float32, (True, True))>\n |     |   | | |Elemwise{add,no_inplace} [id FG] <TensorType(float32, matrix)> ''   \n |     |   | |   |Elemwise{add,no_inplace} [id FH] <TensorType(float32, matrix)> ''   \n |     |   | |   | |Dot22 [id FI] <TensorType(float32, matrix)> ''   \n |     |   | |   | | |Subtensor{int64} [id FJ] <TensorType(float32, matrix)> ''   \n |     |   | |   | | | |InplaceDimShuffle{1,0,2} [id O] <TensorType(float32, 3D)> ''   \n |     |   | |   | | | |Constant{11} [id FK] <int64>\n |     |   | |   | | |dense1.W [id BA] <TensorType(float32, matrix)>\n |     |   | |   | |InplaceDimShuffle{x,0} [id BB] <TensorType(float32, row)> ''   \n |     |   | |   |Elemwise{abs_,no_inplace} [id FL] <TensorType(float32, matrix)> ''   \n |     |   | |     |Elemwise{add,no_inplace} [id FH] <TensorType(float32, matrix)> ''   \n |     |   | |q-evaluator layer.W [id BE] <TensorType(float32, matrix)>\n |     |   |q-evaluator layer.b [id BF] <TensorType(float32, vector)>\n |     |InplaceDimShuffle{x,0,1} [id FM] <TensorType(float32, (True, False, False))> ''   \n |       |SoftmaxWithBias [id FN] <TensorType(float32, matrix)> ''   \n |         |Dot22 [id FO] <TensorType(float32, matrix)> ''   \n |         | |Elemwise{mul,no_inplace} [id FP] <TensorType(float32, matrix)> ''   \n |         | | |TensorConstant{(1, 1) of 0.5} [id J] <TensorType(float32, (True, True))>\n |         | | |Elemwise{add,no_inplace} [id FQ] <TensorType(float32, matrix)> ''   \n |         | |   |Elemwise{add,no_inplace} [id FR] <TensorType(float32, matrix)> ''   \n |         | |   | |Dot22 [id FS] <TensorType(float32, matrix)> ''   \n |         | |   | | |Subtensor{int64} [id FT] <TensorType(float32, matrix)> ''   \n |         | |   | | | |InplaceDimShuffle{1,0,2} [id O] <TensorType(float32, 3D)> ''   \n |         | |   | | | |Constant{12} [id FU] <int64>\n |         | |   | | |dense1.W [id BA] <TensorType(float32, matrix)>\n |         | |   | |InplaceDimShuffle{x,0} [id BB] <TensorType(float32, row)> ''   \n |         | |   |Elemwise{abs_,no_inplace} [id FV] <TensorType(float32, matrix)> ''   \n |         | |     |Elemwise{add,no_inplace} [id FR] <TensorType(float32, matrix)> ''   \n |         | |q-evaluator layer.W [id BE] <TensorType(float32, matrix)>\n |         |q-evaluator layer.b [id BF] <TensorType(float32, vector)>\n |InplaceDimShuffle{0,x} [id FW] <TensorType(int64, col)> ''   \n | |ARange{dtype='int64'} [id FX] <TensorType(int64, vector)> ''   \n |   |TensorConstant{0} [id E] <TensorType(int8, scalar)>\n |   |Subtensor{int64} [id FY] <TensorType(int64, scalar)> ''   \n |   | |Shape [id FZ] <TensorType(int64, vector)> ''   \n |   | | |Elemwise{log,no_inplace} [id B] <TensorType(float32, 3D)> ''   \n |   | |Constant{0} [id X] <int64>\n |   |TensorConstant{1} [id Y] <TensorType(int8, scalar)>\n |InplaceDimShuffle{x,0} [id GA] <TensorType(int64, row)> ''   \n | |ARange{dtype='int64'} [id GB] <TensorType(int64, vector)> ''   \n |   |TensorConstant{0} [id E] <TensorType(int8, scalar)>\n |   |Subtensor{int64} [id GC] <TensorType(int64, scalar)> ''   \n |   | |Shape [id FZ] <TensorType(int64, vector)> ''   \n |   | |Constant{1} [id BO] <int64>\n |   |TensorConstant{1} [id Y] <TensorType(int8, scalar)>\n |AdvancedSubtensor1 [id GD] <TensorType(int32, 3D)> ''   \n   |session.actions_history.0 [id GE] <TensorType(int32, 3D)>\n   |RandomFunction{choice_helper}.1 [id R] <TensorType(int32, vector)> ''   \n\nStorage map footprint:\n - sessions.observations_history.0, Shared Input, Shape: (2022, 13, 14), ElemSize: 4 Byte(s), TotalSize: 1472016 Byte(s)\n - session.actions_history.0, Shared Input, Shape: (2022, 13, 14), ElemSize: 4 Byte(s), TotalSize: 1472016 Byte(s)\n - InplaceDimShuffle{1,0,2}.0, Shape: (100, 13, 42), ElemSize: 4 Byte(s), TotalSize: 218400 Byte(s)\n - Elemwise{log,no_inplace}.0, Shape: (100, 13, 42), ElemSize: 4 Byte(s), TotalSize: 218400 Byte(s)\n - session.rewards_history, Shared Input, Shape: (2022, 13), ElemSize: 4 Byte(s), TotalSize: 105144 Byte(s)\n - AdvancedSubtensor1.0, Shape: (100, 13, 14), ElemSize: 4 Byte(s), TotalSize: 72800 Byte(s)\n - Elemwise{add,no_inplace}.0, Shape: (100, 100), ElemSize: 4 Byte(s), TotalSize: 40000 Byte(s)\n - Elemwise{add,no_inplace}.0, Shape: (100, 100), ElemSize: 4 Byte(s), TotalSize: 40000 Byte(s)\n - Elemwise{add,no_inplace}.0, Shape: (100, 100), ElemSize: 4 Byte(s), TotalSize: 40000 Byte(s)\n - Elemwise{add,no_inplace}.0, Shape: (100, 100), ElemSize: 4 Byte(s), TotalSize: 40000 Byte(s)\n - Elemwise{add,no_inplace}.0, Shape: (100, 100), ElemSize: 4 Byte(s), TotalSize: 40000 Byte(s)\n - Elemwise{add,no_inplace}.0, Shape: (100, 100), ElemSize: 4 Byte(s), TotalSize: 40000 Byte(s)\n - Elemwise{add,no_inplace}.0, Shape: (100, 100), ElemSize: 4 Byte(s), TotalSize: 40000 Byte(s)\n - Elemwise{add,no_inplace}.0, Shape: (100, 100), ElemSize: 4 Byte(s), TotalSize: 40000 Byte(s)\n - Elemwise{add,no_inplace}.0, Shape: (100, 100), ElemSize: 4 Byte(s), TotalSize: 40000 Byte(s)\n - Elemwise{add,no_inplace}.0, Shape: (100, 100), ElemSize: 4 Byte(s), TotalSize: 40000 Byte(s)\n - Elemwise{add,no_inplace}.0, Shape: (100, 100), ElemSize: 4 Byte(s), TotalSize: 40000 Byte(s)\n - Elemwise{add,no_inplace}.0, Shape: (100, 100), ElemSize: 4 Byte(s), TotalSize: 40000 Byte(s)\n - Elemwise{add,no_inplace}.0, Shape: (100, 100), ElemSize: 4 Byte(s), TotalSize: 40000 Byte(s)\n - Elemwise{mul,no_inplace}.0, Shape: (100, 100), ElemSize: 4 Byte(s), TotalSize: 40000 Byte(s)\n - Elemwise{mul,no_inplace}.0, Shape: (100, 100), ElemSize: 4 Byte(s), TotalSize: 40000 Byte(s)\n - Elemwise{mul,no_inplace}.0, Shape: (100, 100), ElemSize: 4 Byte(s), TotalSize: 40000 Byte(s)\n - Elemwise{mul,no_inplace}.0, Shape: (100, 100), ElemSize: 4 Byte(s), TotalSize: 40000 Byte(s)\n - Elemwise{mul,no_inplace}.0, Shape: (100, 100), ElemSize: 4 Byte(s), TotalSize: 40000 Byte(s)\n - Elemwise{mul,no_inplace}.0, Shape: (100, 100), ElemSize: 4 Byte(s), TotalSize: 40000 Byte(s)\n - Elemwise{mul,no_inplace}.0, Shape: (100, 100), ElemSize: 4 Byte(s), TotalSize: 40000 Byte(s)\n - Elemwise{mul,no_inplace}.0, Shape: (100, 100), ElemSize: 4 Byte(s), TotalSize: 40000 Byte(s)\n - Elemwise{mul,no_inplace}.0, Shape: (100, 100), ElemSize: 4 Byte(s), TotalSize: 40000 Byte(s)\n - Elemwise{mul,no_inplace}.0, Shape: (100, 100), ElemSize: 4 Byte(s), TotalSize: 40000 Byte(s)\n - Elemwise{mul,no_inplace}.0, Shape: (100, 100), ElemSize: 4 Byte(s), TotalSize: 40000 Byte(s)\n - Elemwise{mul,no_inplace}.0, Shape: (100, 100), ElemSize: 4 Byte(s), TotalSize: 40000 Byte(s)\n - Elemwise{mul,no_inplace}.0, Shape: (100, 100), ElemSize: 4 Byte(s), TotalSize: 40000 Byte(s)\n - session.is_alive, Shared Input, Shape: (2022, 13), ElemSize: 1 Byte(s), TotalSize: 26286 Byte(s)\n - q-evaluator layer.W, Shared Input, Shape: (100, 42), ElemSize: 4 Byte(s), TotalSize: 16800 Byte(s)\n - <TensorType(float32, matrix)>, Shared Input, Shape: (100, 42), ElemSize: 4 Byte(s), TotalSize: 16800 Byte(s)\n - SoftmaxWithBias.0, Shape: (100, 42), ElemSize: 4 Byte(s), TotalSize: 16800 Byte(s)\n - SoftmaxWithBias.0, Shape: (100, 42), ElemSize: 4 Byte(s), TotalSize: 16800 Byte(s)\n - SoftmaxWithBias.0, Shape: (100, 42), ElemSize: 4 Byte(s), TotalSize: 16800 Byte(s)\n - SoftmaxWithBias.0, Shape: (100, 42), ElemSize: 4 Byte(s), TotalSize: 16800 Byte(s)\n - SoftmaxWithBias.0, Shape: (100, 42), ElemSize: 4 Byte(s), TotalSize: 16800 Byte(s)\n - SoftmaxWithBias.0, Shape: (100, 42), ElemSize: 4 Byte(s), TotalSize: 16800 Byte(s)\n - SoftmaxWithBias.0, Shape: (100, 42), ElemSize: 4 Byte(s), TotalSize: 16800 Byte(s)\n - SoftmaxWithBias.0, Shape: (100, 42), ElemSize: 4 Byte(s), TotalSize: 16800 Byte(s)\n - SoftmaxWithBias.0, Shape: (100, 42), ElemSize: 4 Byte(s), TotalSize: 16800 Byte(s)\n - SoftmaxWithBias.0, Shape: (100, 42), ElemSize: 4 Byte(s), TotalSize: 16800 Byte(s)\n - SoftmaxWithBias.0, Shape: (100, 42), ElemSize: 4 Byte(s), TotalSize: 16800 Byte(s)\n - SoftmaxWithBias.0, Shape: (100, 42), ElemSize: 4 Byte(s), TotalSize: 16800 Byte(s)\n - SoftmaxWithBias.0, Shape: (100, 42), ElemSize: 4 Byte(s), TotalSize: 16800 Byte(s)\n - InplaceDimShuffle{x,0,1}.0, Shape: (1, 100, 42), ElemSize: 4 Byte(s), TotalSize: 16800 Byte(s)\n - InplaceDimShuffle{x,0,1}.0, Shape: (1, 100, 42), ElemSize: 4 Byte(s), TotalSize: 16800 Byte(s)\n - InplaceDimShuffle{x,0,1}.0, Shape: (1, 100, 42), ElemSize: 4 Byte(s), TotalSize: 16800 Byte(s)\n - InplaceDimShuffle{x,0,1}.0, Shape: (1, 100, 42), ElemSize: 4 Byte(s), TotalSize: 16800 Byte(s)\n - InplaceDimShuffle{x,0,1}.0, Shape: (1, 100, 42), ElemSize: 4 Byte(s), TotalSize: 16800 Byte(s)\n - InplaceDimShuffle{x,0,1}.0, Shape: (1, 100, 42), ElemSize: 4 Byte(s), TotalSize: 16800 Byte(s)\n - InplaceDimShuffle{x,0,1}.0, Shape: (1, 100, 42), ElemSize: 4 Byte(s), TotalSize: 16800 Byte(s)\n - InplaceDimShuffle{x,0,1}.0, Shape: (1, 100, 42), ElemSize: 4 Byte(s), TotalSize: 16800 Byte(s)\n - InplaceDimShuffle{x,0,1}.0, Shape: (1, 100, 42), ElemSize: 4 Byte(s), TotalSize: 16800 Byte(s)\n - InplaceDimShuffle{x,0,1}.0, Shape: (1, 100, 42), ElemSize: 4 Byte(s), TotalSize: 16800 Byte(s)\n - InplaceDimShuffle{x,0,1}.0, Shape: (1, 100, 42), ElemSize: 4 Byte(s), TotalSize: 16800 Byte(s)\n - InplaceDimShuffle{x,0,1}.0, Shape: (1, 100, 42), ElemSize: 4 Byte(s), TotalSize: 16800 Byte(s)\n - InplaceDimShuffle{x,0,1}.0, Shape: (1, 100, 42), ElemSize: 4 Byte(s), TotalSize: 16800 Byte(s)\n - dense1.W, Shared Input, Shape: (14, 100), ElemSize: 4 Byte(s), TotalSize: 5600 Byte(s)\n - <TensorType(float32, matrix)>, Shared Input, Shape: (14, 100), ElemSize: 4 Byte(s), TotalSize: 5600 Byte(s)\n - Subtensor{int64}.0, Shape: (100, 14), ElemSize: 4 Byte(s), TotalSize: 5600 Byte(s)\n - Subtensor{int64}.0, Shape: (100, 14), ElemSize: 4 Byte(s), TotalSize: 5600 Byte(s)\n - Subtensor{int64}.0, Shape: (100, 14), ElemSize: 4 Byte(s), TotalSize: 5600 Byte(s)\n - Subtensor{int64}.0, Shape: (100, 14), ElemSize: 4 Byte(s), TotalSize: 5600 Byte(s)\n - Subtensor{int64}.0, Shape: (100, 14), ElemSize: 4 Byte(s), TotalSize: 5600 Byte(s)\n - Subtensor{int64}.0, Shape: (100, 14), ElemSize: 4 Byte(s), TotalSize: 5600 Byte(s)\n - Subtensor{int64}.0, Shape: (100, 14), ElemSize: 4 Byte(s), TotalSize: 5600 Byte(s)\n - Subtensor{int64}.0, Shape: (100, 14), ElemSize: 4 Byte(s), TotalSize: 5600 Byte(s)\n - Subtensor{int64}.0, Shape: (100, 14), ElemSize: 4 Byte(s), TotalSize: 5600 Byte(s)\n - Subtensor{int64}.0, Shape: (100, 14), ElemSize: 4 Byte(s), TotalSize: 5600 Byte(s)\n - Subtensor{int64}.0, Shape: (100, 14), ElemSize: 4 Byte(s), TotalSize: 5600 Byte(s)\n - Subtensor{int64}.0, Shape: (100, 14), ElemSize: 4 Byte(s), TotalSize: 5600 Byte(s)\n - Subtensor{int64}.0, Shape: (100, 14), ElemSize: 4 Byte(s), TotalSize: 5600 Byte(s)\n - InplaceDimShuffle{0,x}.0, Shape: (100, 1), ElemSize: 8 Byte(s), TotalSize: 800 Byte(s)\n - dense1.b, Shared Input, Shape: (100,), ElemSize: 4 Byte(s), TotalSize: 400 Byte(s)\n - state values.W, Shared Input, Shape: (100, 1), ElemSize: 4 Byte(s), TotalSize: 400 Byte(s)\n - <TensorType(float32, vector)>, Shared Input, Shape: (100,), ElemSize: 4 Byte(s), TotalSize: 400 Byte(s)\n - <TensorType(float32, col)>, Shared Input, Shape: (100, 1), ElemSize: 4 Byte(s), TotalSize: 400 Byte(s)\n - RandomFunction{choice_helper}.1, Shape: (100,), ElemSize: 4 Byte(s), TotalSize: 400 Byte(s)\n - q-evaluator layer.b, Shared Input, Shape: (42,), ElemSize: 4 Byte(s), TotalSize: 168 Byte(s)\n - <TensorType(float32, vector)>, Shared Input, Shape: (42,), ElemSize: 4 Byte(s), TotalSize: 168 Byte(s)\n - InplaceDimShuffle{x,0}.0, Shape: (1, 13), ElemSize: 8 Byte(s), TotalSize: 104 Byte(s)\n - Constant{0}, Shape: (), ElemSize: 8 Byte(s), TotalSize: 8.0 Byte(s)\n - TensorConstant{(1,) of 100}, Shape: (1,), ElemSize: 8 Byte(s), TotalSize: 8 Byte(s)\n - Constant{12}, Shape: (), ElemSize: 8 Byte(s), TotalSize: 8.0 Byte(s)\n - Constant{11}, Shape: (), ElemSize: 8 Byte(s), TotalSize: 8.0 Byte(s)\n - Constant{10}, Shape: (), ElemSize: 8 Byte(s), TotalSize: 8.0 Byte(s)\n - Constant{9}, Shape: (), ElemSize: 8 Byte(s), TotalSize: 8.0 Byte(s)\n - Constant{8}, Shape: (), ElemSize: 8 Byte(s), TotalSize: 8.0 Byte(s)\n - Constant{7}, Shape: (), ElemSize: 8 Byte(s), TotalSize: 8.0 Byte(s)\n - Constant{6}, Shape: (), ElemSize: 8 Byte(s), TotalSize: 8.0 Byte(s)\n - Constant{5}, Shape: (), ElemSize: 8 Byte(s), TotalSize: 8.0 Byte(s)\n - Constant{4}, Shape: (), ElemSize: 8 Byte(s), TotalSize: 8.0 Byte(s)\n - Constant{3}, Shape: (), ElemSize: 8 Byte(s), TotalSize: 8.0 Byte(s)\n - Constant{2}, Shape: (), ElemSize: 8 Byte(s), TotalSize: 8.0 Byte(s)\n - Constant{1}, Shape: (), ElemSize: 8 Byte(s), TotalSize: 8.0 Byte(s)\n - Constant{-1}, Shape: (), ElemSize: 8 Byte(s), TotalSize: 8.0 Byte(s)\n - TensorConstant{1.0}, Shape: (), ElemSize: 8 Byte(s), TotalSize: 8.0 Byte(s)\n - state values.b, Shared Input, Shape: (1,), ElemSize: 4 Byte(s), TotalSize: 4 Byte(s)\n - <TensorType(float32, (True,))>, Shared Input, Shape: (1,), ElemSize: 4 Byte(s), TotalSize: 4 Byte(s)\n - TensorConstant{(1,) of 0.9}, Shape: (1,), ElemSize: 4 Byte(s), TotalSize: 4 Byte(s)\n - TensorConstant{(1, 1) of 0.9}, Shape: (1, 1), ElemSize: 4 Byte(s), TotalSize: 4 Byte(s)\n - TensorConstant{(1, 1) of 0.5}, Shape: (1, 1), ElemSize: 4 Byte(s), TotalSize: 4 Byte(s)\n - TensorConstant{(1, 1, 1) of 1.0}, Shape: (1, 1, 1), ElemSize: 4 Byte(s), TotalSize: 4 Byte(s)\n - TensorConstant{(1, 1, 1) of 0.0}, Shape: (1, 1, 1), ElemSize: 4 Byte(s), TotalSize: 4 Byte(s)\n - TensorConstant{(1, 1) of 0.0}, Shape: (1, 1), ElemSize: 4 Byte(s), TotalSize: 4 Byte(s)\n - TensorConstant{0.00100000..0474974513}, Shape: (), ElemSize: 4 Byte(s), TotalSize: 4.0 Byte(s)\n - TensorConstant{(1, 1) of 0.99}, Shape: (1, 1), ElemSize: 4 Byte(s), TotalSize: 4 Byte(s)\n - TensorConstant{(1, 1) of 0.001}, Shape: (1, 1), ElemSize: 4 Byte(s), TotalSize: 4 Byte(s)\n - TensorConstant{(1, 1) of 0.1}, Shape: (1, 1), ElemSize: 4 Byte(s), TotalSize: 4 Byte(s)\n - TensorConstant{(1,) of 0.001}, Shape: (1,), ElemSize: 4 Byte(s), TotalSize: 4 Byte(s)\n - TensorConstant{(1,) of 0.1}, Shape: (1,), ElemSize: 4 Byte(s), TotalSize: 4 Byte(s)\n - TensorConstant{(1, 1) of 1e-06}, Shape: (1, 1), ElemSize: 4 Byte(s), TotalSize: 4 Byte(s)\n - TensorConstant{(1,) of 1e-06}, Shape: (1,), ElemSize: 4 Byte(s), TotalSize: 4 Byte(s)\n - TensorConstant{1}, Shape: (), ElemSize: 1 Byte(s), TotalSize: 1.0 Byte(s)\n - TensorConstant{(1, 1) of 1}, Shape: (1, 1), ElemSize: 1 Byte(s), TotalSize: 1 Byte(s)\n - TensorConstant{False}, Shape: (), ElemSize: 1 Byte(s), TotalSize: 1.0 Byte(s)\n - TensorConstant{0}, Shape: (), ElemSize: 1 Byte(s), TotalSize: 1.0 Byte(s)\n - Constant{0}, Shape: (), ElemSize: 1 Byte(s), TotalSize: 1.0 Byte(s)\n - TensorConstant{(1, 1) of 2}, Shape: (1, 1), ElemSize: 1 Byte(s), TotalSize: 1 Byte(s)\n - TensorConstant{(1,) of 2}, Shape: (1,), ElemSize: 1 Byte(s), TotalSize: 1 Byte(s)\n - TensorConstant{[]}, Shape: (0,), ElemSize: 4 Byte(s), TotalSize: 0 Byte(s)\n TotalSize: 4964501.0 Byte(s) 0.005 GB\n TotalSize inputs: 3122397.0 Byte(s) 0.003 GB\n\n"
     ]
    }
   ],
   "source": [
    "#the loop may take eons to finish.\n",
    "#consider interrupting early.\n",
    "loss = 0\n",
    "for i in tqdm(range(1000)):    \n",
    "    \n",
    "    \n",
    "    #train\n",
    "    for i in range(10):\n",
    "        pool.update(SEQ_LENGTH, append=True) #, preprocess=bnn.add_vime_reward)\n",
    "\n",
    "    for i in range(10):\n",
    "        new_loss = train_step()\n",
    "        loss = loss * 0.99 + new_loss * 0.01\n",
    "    \n",
    "#     for i in range(10):\n",
    "#         bnn.train_step(*bnn.sample_from_pool())\n",
    "\n",
    "    if epoch_counter%100==0:\n",
    "        #average reward per game tick in current experience replay pool\n",
    "        pool_mean_reward = np.average(pool.experience_replay.rewards.get_value()[:,:-1],\n",
    "                                      weights=1+pool.experience_replay.is_alive.get_value()[:,:-1])\n",
    "        pool_size = pool.experience_replay.rewards.get_value().shape[0]\n",
    "        print(\"iter=%i\\treward/step=%.5f\\tpool_size=%i\\tvime ma=%.5f\"%(epoch_counter,\n",
    "                                                         pool_mean_reward,\n",
    "                                                         pool_size,\n",
    "                                                         -1))#bnn.vime_reward_ma))\n",
    "        \n",
    "\n",
    "    ##record current learning progress and show learning curves\n",
    "    if epoch_counter%500 ==0:\n",
    "        n_games = 10\n",
    "        rewards[epoch_counter] = pool.evaluate(\n",
    "            record_video=False,\n",
    "            n_games=n_games,\n",
    "            verbose=False)\n",
    "        print(\"Current score(mean over %i) = %.3f\"%(n_games,np.mean(rewards[epoch_counter])))\n",
    "    \n",
    "    \n",
    "    epoch_counter  +=1\n",
    "\n",
    "    \n",
    "# Time to drink some coffee!"
   ]
  },
  {
   "cell_type": "code",
   "execution_count": null,
   "metadata": {
    "collapsed": false
   },
   "outputs": [],
   "source": [
    "iters, session_rewards=zip(*sorted(rewards.items(),key=lambda pr:pr[0]))"
   ]
  },
  {
   "cell_type": "code",
   "execution_count": null,
   "metadata": {
    "collapsed": false
   },
   "outputs": [],
   "source": [
    "plt.plot(iters,list(map(np.mean, session_rewards)))\n",
    "plt.title(\"Training progress\")\n",
    "plt.xlabel(\"Epoch counter\")\n",
    "plt.ylabel(\"Mean Income\")\n",
    "plt.show()"
   ]
  },
  {
   "cell_type": "code",
   "execution_count": null,
   "metadata": {
    "collapsed": true
   },
   "outputs": [],
   "source": [
    "_,_,_,_,(pool_policy,pool_V) = agent.get_sessions(\n",
    "    pool.experience_replay,\n",
    "    session_length=SEQ_LENGTH,\n",
    "    experience_replay=True,)\n",
    "\n",
    "states = pool.experience_replay.observations[0].get_value().reshape((-1, 5)).T[-2:]\n",
    "values = pool_V.ravel().eval()\n",
    "optimal_actid = pool_policy.argmax(-1).ravel().eval()"
   ]
  },
  {
   "cell_type": "code",
   "execution_count": null,
   "metadata": {
    "collapsed": false
   },
   "outputs": [],
   "source": [
    "plt.scatter(\n",
    "    *states,\n",
    "    c=values,\n",
    "    alpha = 0.1)\n",
    "plt.title(\"predicted state values\")\n",
    "plt.xlabel(\"previous\")\n",
    "plt.ylabel(\"current\")\n",
    "plt.show()"
   ]
  },
  {
   "cell_type": "code",
   "execution_count": null,
   "metadata": {
    "collapsed": false
   },
   "outputs": [],
   "source": [
    "obs_x, obs_y = states\n",
    "\n",
    "for i in range(3):\n",
    "    sel = optimal_actid==i\n",
    "    plt.scatter(obs_x[sel],obs_y[sel],\n",
    "                c=['red','blue','green'][i],\n",
    "                alpha = 0.1,label=action_names[i])\n",
    "    \n",
    "plt.title(\"most likely action id\")\n",
    "plt.xlabel(\"previous\")\n",
    "plt.ylabel(\"current\")\n",
    "plt.legend(loc='best')\n",
    "plt.show()"
   ]
  },
  {
   "cell_type": "code",
   "execution_count": null,
   "metadata": {
    "collapsed": false
   },
   "outputs": [],
   "source": [
    "#for MountainCar-v0 evaluation session is cropped to 200 ticks\n",
    "untrained_reward = pool.evaluate(save_path=\"./records\",record_video=True)"
   ]
  },
  {
   "cell_type": "code",
   "execution_count": null,
   "metadata": {
    "collapsed": true
   },
   "outputs": [],
   "source": []
  }
 ],
 "metadata": {
  "anaconda-cloud": {},
  "kernelspec": {
   "display_name": "Python 3",
   "language": "python",
   "name": "python3"
  },
  "language_info": {
   "codemirror_mode": {
    "name": "ipython",
    "version": 3
   },
   "file_extension": ".py",
   "mimetype": "text/x-python",
   "name": "python",
   "nbconvert_exporter": "python",
   "pygments_lexer": "ipython3",
   "version": "3.6.0"
  }
 },
 "nbformat": 4,
 "nbformat_minor": 0
}
